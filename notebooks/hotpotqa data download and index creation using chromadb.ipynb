{
 "cells": [
  {
   "cell_type": "code",
   "execution_count": 12,
   "id": "947c9b28-0a9d-48c1-8f73-8e36f2fc7604",
   "metadata": {},
   "outputs": [],
   "source": [
    "import os"
   ]
  },
  {
   "cell_type": "code",
   "execution_count": 9,
   "id": "41726fd2-c6a9-4262-acba-902820ead69e",
   "metadata": {},
   "outputs": [],
   "source": [
    "project_root = os.path.abspath(os.path.join(os.getcwd(), '..'))\n",
    "save_folder = os.path.join(project_root, 'local_only')\n",
    "os.makedirs(save_folder, exist_ok=True)"
   ]
  },
  {
   "cell_type": "code",
   "execution_count": 10,
   "id": "99567e0c-22e9-42d6-8753-b8df060fb30b",
   "metadata": {},
   "outputs": [],
   "source": [
    "dataset_url = 'http://curtis.ml.cmu.edu/datasets/hotpot/hotpot_test_fullwiki_v1.json'\n",
    "file_name = dataset_url.split('/')[-1]\n",
    "output_path = os.path.join(save_folder, file_name)"
   ]
  },
  {
   "cell_type": "code",
   "execution_count": 11,
   "id": "f1f166b7-1949-487a-84ab-a5284781161a",
   "metadata": {},
   "outputs": [
    {
     "name": "stderr",
     "output_type": "stream",
     "text": [
      "  % Total    % Received % Xferd  Average Speed   Time    Time     Time  Current\n",
      "                                 Dload  Upload   Total   Spent    Left  Speed\n",
      " 82 44.0M   82 36.1M    0     0  5909k      0  0:00:07  0:00:06  0:00:01 7597k"
     ]
    },
    {
     "name": "stdout",
     "output_type": "stream",
     "text": [
      "CPU times: user 7.36 ms, sys: 0 ns, total: 7.36 ms\n",
      "Wall time: 7 s\n"
     ]
    },
    {
     "name": "stderr",
     "output_type": "stream",
     "text": [
      "100 44.0M  100 44.0M    0     0  6479k      0  0:00:06  0:00:06 --:--:-- 9630k\n"
     ]
    },
    {
     "data": {
      "text/plain": [
       "CompletedProcess(args=['curl', '-L', '-o', '/mnt/f/chatbot_ui_v2/local_only/hotpot_test_fullwiki_v1.json', 'http://curtis.ml.cmu.edu/datasets/hotpot/hotpot_test_fullwiki_v1.json'], returncode=0)"
      ]
     },
     "execution_count": 11,
     "metadata": {},
     "output_type": "execute_result"
    }
   ],
   "source": [
    "%%time\n",
    "\n",
    "import subprocess\n",
    "subprocess.run([\"curl\", \"-L\", \"-o\", output_path, dataset_url], check=True)"
   ]
  },
  {
   "cell_type": "code",
   "execution_count": 22,
   "id": "422f62b6-1f21-41ee-bd13-519463422ed3",
   "metadata": {},
   "outputs": [
    {
     "name": "stderr",
     "output_type": "stream",
     "text": [
      "  % Total    % Received % Xferd  Average Speed   Time    Time     Time  Current\n",
      "                                 Dload  Upload   Total   Spent    Left  Speed\n",
      " 88 45.2M   88 40.2M    0     0  6623k      0  0:00:06  0:00:06 --:--:-- 8512k"
     ]
    },
    {
     "name": "stdout",
     "output_type": "stream",
     "text": [
      "CPU times: user 6.68 ms, sys: 990 μs, total: 7.67 ms\n",
      "Wall time: 6.96 s\n"
     ]
    },
    {
     "name": "stderr",
     "output_type": "stream",
     "text": [
      "100 45.2M  100 45.2M    0     0  6689k      0  0:00:06  0:00:06 --:--:-- 9204k\n"
     ]
    },
    {
     "data": {
      "text/plain": [
       "CompletedProcess(args=['curl', '-L', '-o', '/mnt/f/chatbot_ui_v2/local_only/hotpot_dev_fullwiki_v1.json', 'http://curtis.ml.cmu.edu/datasets/hotpot/hotpot_dev_fullwiki_v1.json'], returncode=0)"
      ]
     },
     "execution_count": 22,
     "metadata": {},
     "output_type": "execute_result"
    }
   ],
   "source": [
    "%%time\n",
    "\n",
    "dataset_url = 'http://curtis.ml.cmu.edu/datasets/hotpot/hotpot_dev_fullwiki_v1.json'\n",
    "file_name = dataset_url.split('/')[-1]\n",
    "output_path = os.path.join(save_folder, file_name)\n",
    "\n",
    "import subprocess\n",
    "subprocess.run([\"curl\", \"-L\", \"-o\", output_path, dataset_url], check=True)"
   ]
  },
  {
   "cell_type": "code",
   "execution_count": 17,
   "id": "553d7818-31e9-46b6-bca3-27dd22de1ec5",
   "metadata": {},
   "outputs": [],
   "source": [
    "import json"
   ]
  },
  {
   "cell_type": "code",
   "execution_count": 24,
   "id": "92909d84-2f52-4815-9c24-6e09bb8e5c2b",
   "metadata": {},
   "outputs": [],
   "source": [
    "# Open and load JSON content\n",
    "file =  '/mnt/f/chatbot_ui_v2/local_only/hotpot_test_fullwiki_v1.json'\n",
    "with open(file, 'r', encoding='utf-8') as f:\n",
    "    data = json.load(f)"
   ]
  },
  {
   "cell_type": "code",
   "execution_count": 25,
   "id": "aa952534-125e-421f-bdc6-506eabf2fe4f",
   "metadata": {},
   "outputs": [
    {
     "data": {
      "text/plain": [
       "(list, 7405)"
      ]
     },
     "execution_count": 25,
     "metadata": {},
     "output_type": "execute_result"
    }
   ],
   "source": [
    "type(data), len(data)"
   ]
  },
  {
   "cell_type": "code",
   "execution_count": 27,
   "id": "d479e4eb-e1e1-46d5-be38-cde18ada7d7a",
   "metadata": {},
   "outputs": [],
   "source": [
    "# Open and load JSON content\n",
    "file =  '/mnt/f/chatbot_ui_v2/local_only/hotpot_dev_fullwiki_v1.json'\n",
    "with open(file, 'r', encoding='utf-8') as f:\n",
    "    data = json.load(f)"
   ]
  },
  {
   "cell_type": "code",
   "execution_count": 28,
   "id": "77f1099a-1b53-4d4b-94a6-2d7bcd33d33a",
   "metadata": {},
   "outputs": [
    {
     "data": {
      "text/plain": [
       "(list, 7405)"
      ]
     },
     "execution_count": 28,
     "metadata": {},
     "output_type": "execute_result"
    }
   ],
   "source": [
    "type(data), len(data)"
   ]
  },
  {
   "cell_type": "code",
   "execution_count": 55,
   "id": "594ff938-dd27-4f17-aeb6-95a245053149",
   "metadata": {},
   "outputs": [],
   "source": [
    "def process_record(record):\n",
    "    data = dict(record)\n",
    "    context = data.pop('context')\n",
    "    condensed_context = condense_context(context)\n",
    "    _id = data.pop('_id')\n",
    "    supporting_facts = data.pop('supporting_facts')\n",
    "    supporting_facts = list({i[0] for i in supporting_facts})\n",
    "    metadata = dict(answer = data.pop('answer'), type = data.pop('type'), level=data.pop('level'), \n",
    "                    question = data.pop('question'), supporting_facts=supporting_facts)\n",
    "\n",
    "    documents = list(condensed_context.values())\n",
    "    ids = [f'{_id}_{i}' for i in range(len(documents))]\n",
    "    metadatas = [dict(**metadata, title=title)   for title in condensed_context.keys()]\n",
    "    \n",
    "    return dict(documents=documents, metadatas=metadatas, ids=ids)"
   ]
  },
  {
   "cell_type": "code",
   "execution_count": 58,
   "id": "3bd830d7-8426-41be-9f88-77213a3aab8b",
   "metadata": {
    "scrolled": true
   },
   "outputs": [
    {
     "data": {
      "text/plain": [
       "{'documents': ['A Kiss for Corliss is a 1949 American comedy film directed by Richard Wallace and written by Howard Dimsdale. It stars Shirley Temple in her final starring role as well as her final film appearance. It is a sequel to the 1945 film \"Kiss and Tell\". \"A Kiss for Corliss\" was retitled \"Almost a Bride\" before release and this title appears in the title sequence. The film was released on November 25, 1949, by United Artists.',\n",
       "  'The post of Lord High Treasurer or Lord Treasurer was an English government position and has been a British government position since the Acts of Union of 1707. A holder of the post would be the third-highest-ranked Great Officer of State, below the Lord High Steward and the Lord High Chancellor.',\n",
       "  'Meet Corliss Archer is an American television sitcom that aired on CBS (July 13, 1951 - August 10, 1951) and in syndication via the Ziv Company from April to December 1954. The program was an adaptation of the radio series of the same name, which was based on a series of short stories by F. Hugh Herbert.',\n",
       "  'The Village Accountant (variously known as \"Patwari\", \"Talati\", \"Patel\", \"Karnam\", \"Adhikari\", \"Shanbogaru\",\"Patnaik\" etc.) is an administrative government position found in rural parts of the Indian sub-continent. The office and the officeholder are called the \"patwari\" in Telangana, Bengal, North India and in Pakistan while in Sindh it is called \"tapedar\". The position is known as the \"karnam\" in Andhra Pradesh, \"patnaik\" in Orissa or \"adhikari\" in Tamil Nadu, while it is commonly known as the \"talati\" in Karnataka, Gujarat and Maharashtra. The position was known as the \"kulkarni\" in Northern Karnataka and Maharashtra. The position was known as the \"shanbogaru\" in South Karnataka.',\n",
       "  'Joseph Kalite (died 24 January 2014) was a Central African politician. As a government minister he either held the housing or health portfolio. Kalite, a Muslim, was reported to be killed by anti-balaka outside the Central Mosque in the capital Bangui during the Central African Republic conflict. He was killed with machetes on the day in Bangui after interim president Catherine Samba-Panza took power. At the time of the attack Kalite held no government position, nor did he under the Séléka rule. He was reported to have supported the rule of Séléka leader Michel Djotodia.',\n",
       "  'Charles Craft (May 9, 1902 – September 19, 1968) was an English-born American film and television editor. Born in the county of Hampshire in England on May 9, 1902, Craft would enter the film industry in Hollywood in 1927. The first film he edited was the Universal Pictures silent film, \"Painting the Town\". Over the next 25 years, Craft would edit 90 feature-length films. In the early 1950s he would switch his focus to the small screen, his first show being \"Racket Squad\", from 1951–53, for which he was the main editor, editing 93 of the 98 episodes. He would work on several other series during the 1950s, including \"Meet Corliss Archer\" (1954), \"Science Fiction Theatre\" (1955–56), and \"Highway Patrol\" (1955–57). In the late 1950s and early 1960s he was one of the main editors on \"Sea Hunt\", starring Lloyd Bridges, editing over half of the episodes. His final film work would be editing \"Flipper\\'s New Adventure\" (1964, the sequel to 1963\\'s \"Flipper\". When the film was made into a television series, Craft would begin the editing duties on that show, editing the first 28 episodes before he retired in 1966. Craft died on September 19, 1968 in Los Angeles, California.',\n",
       "  'Meet Corliss Archer, a program from radio\\'s Golden Age, ran from January 7, 1943 to September 30, 1956. Although it was CBS\\'s answer to NBC\\'s popular \"A Date with Judy\", it was also broadcast by NBC in 1948 as a summer replacement for \"The Bob Hope Show\". From October 3, 1952 to June 26, 1953, it aired on ABC, finally returning to CBS. Despite the program\\'s long run, fewer than 24 episodes are known to exist.',\n",
       "  'Janet Marie Waldo (February 4, 1920 – June 12, 2016) was an American radio and voice actress. She is best known in animation for voicing Judy Jetson, Nancy in \"Shazzan\", Penelope Pitstop, and Josie in \"Josie and the Pussycats\", and on radio as the title character in \"Meet Corliss Archer\".',\n",
       "  \"Kiss and Tell is a 1945 American comedy film starring then 17-year-old Shirley Temple as Corliss Archer. In the film, two teenage girls cause their respective parents much concern when they start to become interested in boys. The parents' bickering about which girl is the worse influence causes more problems than it solves.\",\n",
       "  \"The office of Secretary of State for Constitutional Affairs was a British Government position, created in 2003. Certain functions of the Lord Chancellor which related to the Lord Chancellor's Department were transferred to the Secretary of State. At a later date further functions were also transferred to the Secretary of State for Constitutional Affairs from the First Secretary of State, a position within the government held by the Deputy Prime Minister.\"],\n",
       " 'metadatas': [{'answer': 'Chief of Protocol',\n",
       "   'type': 'bridge',\n",
       "   'level': 'hard',\n",
       "   'question': 'What government position was held by the woman who portrayed Corliss Archer in the film Kiss and Tell?',\n",
       "   'supporting_facts': ['Shirley Temple', 'Kiss and Tell (1945 film)'],\n",
       "   'title': 'A Kiss for Corliss'},\n",
       "  {'answer': 'Chief of Protocol',\n",
       "   'type': 'bridge',\n",
       "   'level': 'hard',\n",
       "   'question': 'What government position was held by the woman who portrayed Corliss Archer in the film Kiss and Tell?',\n",
       "   'supporting_facts': ['Shirley Temple', 'Kiss and Tell (1945 film)'],\n",
       "   'title': 'Lord High Treasurer'},\n",
       "  {'answer': 'Chief of Protocol',\n",
       "   'type': 'bridge',\n",
       "   'level': 'hard',\n",
       "   'question': 'What government position was held by the woman who portrayed Corliss Archer in the film Kiss and Tell?',\n",
       "   'supporting_facts': ['Shirley Temple', 'Kiss and Tell (1945 film)'],\n",
       "   'title': 'Meet Corliss Archer (TV series)'},\n",
       "  {'answer': 'Chief of Protocol',\n",
       "   'type': 'bridge',\n",
       "   'level': 'hard',\n",
       "   'question': 'What government position was held by the woman who portrayed Corliss Archer in the film Kiss and Tell?',\n",
       "   'supporting_facts': ['Shirley Temple', 'Kiss and Tell (1945 film)'],\n",
       "   'title': 'Village accountant'},\n",
       "  {'answer': 'Chief of Protocol',\n",
       "   'type': 'bridge',\n",
       "   'level': 'hard',\n",
       "   'question': 'What government position was held by the woman who portrayed Corliss Archer in the film Kiss and Tell?',\n",
       "   'supporting_facts': ['Shirley Temple', 'Kiss and Tell (1945 film)'],\n",
       "   'title': 'Joseph Kalite'},\n",
       "  {'answer': 'Chief of Protocol',\n",
       "   'type': 'bridge',\n",
       "   'level': 'hard',\n",
       "   'question': 'What government position was held by the woman who portrayed Corliss Archer in the film Kiss and Tell?',\n",
       "   'supporting_facts': ['Shirley Temple', 'Kiss and Tell (1945 film)'],\n",
       "   'title': 'Charles Craft'},\n",
       "  {'answer': 'Chief of Protocol',\n",
       "   'type': 'bridge',\n",
       "   'level': 'hard',\n",
       "   'question': 'What government position was held by the woman who portrayed Corliss Archer in the film Kiss and Tell?',\n",
       "   'supporting_facts': ['Shirley Temple', 'Kiss and Tell (1945 film)'],\n",
       "   'title': 'Meet Corliss Archer'},\n",
       "  {'answer': 'Chief of Protocol',\n",
       "   'type': 'bridge',\n",
       "   'level': 'hard',\n",
       "   'question': 'What government position was held by the woman who portrayed Corliss Archer in the film Kiss and Tell?',\n",
       "   'supporting_facts': ['Shirley Temple', 'Kiss and Tell (1945 film)'],\n",
       "   'title': 'Janet Waldo'},\n",
       "  {'answer': 'Chief of Protocol',\n",
       "   'type': 'bridge',\n",
       "   'level': 'hard',\n",
       "   'question': 'What government position was held by the woman who portrayed Corliss Archer in the film Kiss and Tell?',\n",
       "   'supporting_facts': ['Shirley Temple', 'Kiss and Tell (1945 film)'],\n",
       "   'title': 'Kiss and Tell (1945 film)'},\n",
       "  {'answer': 'Chief of Protocol',\n",
       "   'type': 'bridge',\n",
       "   'level': 'hard',\n",
       "   'question': 'What government position was held by the woman who portrayed Corliss Archer in the film Kiss and Tell?',\n",
       "   'supporting_facts': ['Shirley Temple', 'Kiss and Tell (1945 film)'],\n",
       "   'title': 'Secretary of State for Constitutional Affairs'}],\n",
       " 'ids': ['5a8c7595554299585d9e36b6_0',\n",
       "  '5a8c7595554299585d9e36b6_1',\n",
       "  '5a8c7595554299585d9e36b6_2',\n",
       "  '5a8c7595554299585d9e36b6_3',\n",
       "  '5a8c7595554299585d9e36b6_4',\n",
       "  '5a8c7595554299585d9e36b6_5',\n",
       "  '5a8c7595554299585d9e36b6_6',\n",
       "  '5a8c7595554299585d9e36b6_7',\n",
       "  '5a8c7595554299585d9e36b6_8',\n",
       "  '5a8c7595554299585d9e36b6_9']}"
      ]
     },
     "execution_count": 58,
     "metadata": {},
     "output_type": "execute_result"
    }
   ],
   "source": [
    "process_record(data[1])"
   ]
  },
  {
   "cell_type": "code",
   "execution_count": 43,
   "id": "f54ef41f-cedc-4ab2-8aab-0fed7eeb582b",
   "metadata": {},
   "outputs": [],
   "source": [
    "def condense_context(context):\n",
    "    return {i[0]: ''.join(i[1]) for i in context}"
   ]
  },
  {
   "cell_type": "code",
   "execution_count": 59,
   "id": "0c49452b-82ef-4bf7-bf08-80bcaf07f6d0",
   "metadata": {},
   "outputs": [],
   "source": [
    "import chromadb"
   ]
  },
  {
   "cell_type": "code",
   "execution_count": 60,
   "id": "b23d9426-acae-4eb9-8e53-37e91ad1b174",
   "metadata": {},
   "outputs": [],
   "source": [
    "client = chromadb.HttpClient(\n",
    "    host=\"localhost\",\n",
    "    port=int(8010))"
   ]
  },
  {
   "cell_type": "code",
   "execution_count": 85,
   "id": "05d28752-e2a0-4b84-8573-c39340f890fe",
   "metadata": {
    "scrolled": true
   },
   "outputs": [],
   "source": [
    "#dir(client)"
   ]
  },
  {
   "cell_type": "code",
   "execution_count": 83,
   "id": "8c8f8932-c921-45be-863a-d37a169d6b0d",
   "metadata": {},
   "outputs": [
    {
     "name": "stdout",
     "output_type": "stream",
     "text": [
      "Collection(name=test_collection) 50\n",
      "Collection(name=hot_pot_qa_v2) 73642\n",
      "Collection(name=hot_pot_qa) 4627\n"
     ]
    }
   ],
   "source": [
    "for collection in client.list_collections():\n",
    "    print(collection, collection.count())"
   ]
  },
  {
   "cell_type": "code",
   "execution_count": 68,
   "id": "82f76bb0-bd21-4740-9747-cda10f720f32",
   "metadata": {},
   "outputs": [],
   "source": [
    "collection = client.get_collection('test_collection')"
   ]
  },
  {
   "cell_type": "code",
   "execution_count": 70,
   "id": "6febb294-7f2b-478f-9545-83109b742ab9",
   "metadata": {},
   "outputs": [
    {
     "data": {
      "text/plain": [
       "UUID('935215a8-24d7-466b-ac31-400c97df58cb')"
      ]
     },
     "execution_count": 70,
     "metadata": {},
     "output_type": "execute_result"
    }
   ],
   "source": [
    "collection.id"
   ]
  },
  {
   "cell_type": "code",
   "execution_count": 79,
   "id": "90364aaa-c9bb-4514-9edd-a8319b6e99e0",
   "metadata": {
    "scrolled": true
   },
   "outputs": [],
   "source": [
    "#collection.get()"
   ]
  },
  {
   "cell_type": "code",
   "execution_count": 76,
   "id": "60c0e905-a992-44af-a648-5d1d16e2cc84",
   "metadata": {},
   "outputs": [],
   "source": [
    "abc = collection.get(include=[\"embeddings\"])"
   ]
  },
  {
   "cell_type": "code",
   "execution_count": 87,
   "id": "f9355ba6-b7a0-416f-816b-8ada3560e989",
   "metadata": {},
   "outputs": [
    {
     "name": "stdout",
     "output_type": "stream",
     "text": [
      "{'ids': ['5a8b57f25542995d1e6f1371_0'], 'embeddings': None, 'metadatas': [{'answer': 'yes', 'type': 'comparison', 'title': 'Adam Collis', 'question': 'Were Scott Derrickson and Ed Wood of the same nationality?', 'supporting_facts': 'Ed Wood||Scott Derrickson', 'level': 'hard'}], 'documents': ['Adam Collis is an American filmmaker and actor. He attended the Duke University from 1986 to 1990 and the University of California, Los Angeles from 2007 to 2010. He also studied cinema at the University of Southern California from 1991 to 1997. Collis first work was the assistant director for the Scott Derrickson\\'s short \"Love in the Ruins\" (1995). In 1998, he played \"Crankshaft\" in Eric Koyanagi\\'s \"Hundred Percent\".'], 'data': None, 'uris': None, 'included': ['documents', 'metadatas']}\n"
     ]
    }
   ],
   "source": [
    "# Get 1 record (equivalent to SELECT * LIMIT 1)\n",
    "results = collection.get(limit=1, include=[\"documents\", \"metadatas\"])\n",
    "print(results)"
   ]
  },
  {
   "cell_type": "code",
   "execution_count": 88,
   "id": "36a81569-c710-480d-aed2-afb897388e7c",
   "metadata": {},
   "outputs": [],
   "source": [
    "results = collection.get(limit=10,\n",
    "    where={\"level\": \"easy\"},\n",
    "    include=[\"documents\", \"metadatas\"]\n",
    ")"
   ]
  },
  {
   "cell_type": "code",
   "execution_count": 89,
   "id": "f7724751-83cf-4763-9989-e9b68b9bdb3d",
   "metadata": {},
   "outputs": [
    {
     "data": {
      "text/plain": [
       "{'ids': [],\n",
       " 'embeddings': None,\n",
       " 'metadatas': [],\n",
       " 'documents': [],\n",
       " 'data': None,\n",
       " 'uris': None,\n",
       " 'included': ['documents', 'metadatas']}"
      ]
     },
     "execution_count": 89,
     "metadata": {},
     "output_type": "execute_result"
    }
   ],
   "source": [
    "results"
   ]
  }
 ],
 "metadata": {
  "kernelspec": {
   "display_name": "Python 3 (ipykernel)",
   "language": "python",
   "name": "python3"
  },
  "language_info": {
   "codemirror_mode": {
    "name": "ipython",
    "version": 3
   },
   "file_extension": ".py",
   "mimetype": "text/x-python",
   "name": "python",
   "nbconvert_exporter": "python",
   "pygments_lexer": "ipython3",
   "version": "3.10.12"
  }
 },
 "nbformat": 4,
 "nbformat_minor": 5
}
