{
 "cells": [
  {
   "cell_type": "code",
   "execution_count": 1,
   "id": "0b3d65eb-0205-43e4-8d92-adc796b0b3c5",
   "metadata": {},
   "outputs": [],
   "source": [
    "from pymongo import MongoClient"
   ]
  },
  {
   "cell_type": "code",
   "execution_count": 12,
   "id": "d5ece9d0-110b-42ac-ad8a-fed6de81de01",
   "metadata": {},
   "outputs": [],
   "source": [
    "client = MongoClient(\"mongodb://localhost:27017/\")"
   ]
  },
  {
   "cell_type": "code",
   "execution_count": 16,
   "id": "9d6491a1-2b56-499a-96fb-d996e1b40415",
   "metadata": {},
   "outputs": [],
   "source": [
    "db = client[\"agent_evaluation_db\"]\n",
    "collection = db[\"squad_dataset\"]"
   ]
  },
  {
   "cell_type": "code",
   "execution_count": 32,
   "id": "bbb68604-e314-474d-a028-7dae7ee3b3a6",
   "metadata": {},
   "outputs": [
    {
     "data": {
      "text/plain": [
       "['__annotations__',\n",
       " '__bool__',\n",
       " '__class__',\n",
       " '__class_getitem__',\n",
       " '__delattr__',\n",
       " '__dict__',\n",
       " '__dir__',\n",
       " '__doc__',\n",
       " '__eq__',\n",
       " '__format__',\n",
       " '__ge__',\n",
       " '__getattr__',\n",
       " '__getattribute__',\n",
       " '__getitem__',\n",
       " '__gt__',\n",
       " '__hash__',\n",
       " '__init__',\n",
       " '__init_subclass__',\n",
       " '__iter__',\n",
       " '__le__',\n",
       " '__lt__',\n",
       " '__module__',\n",
       " '__ne__',\n",
       " '__new__',\n",
       " '__next__',\n",
       " '__orig_bases__',\n",
       " '__parameters__',\n",
       " '__reduce__',\n",
       " '__reduce_ex__',\n",
       " '__repr__',\n",
       " '__setattr__',\n",
       " '__sizeof__',\n",
       " '__slots__',\n",
       " '__str__',\n",
       " '__subclasshook__',\n",
       " '__weakref__',\n",
       " '_client',\n",
       " '_codec_options',\n",
       " '_command',\n",
       " '_drop_helper',\n",
       " '_get_encrypted_fields',\n",
       " '_is_protocol',\n",
       " '_list_collection_names',\n",
       " '_list_collections',\n",
       " '_list_collections_helper',\n",
       " '_name',\n",
       " '_read_concern',\n",
       " '_read_preference',\n",
       " '_read_preference_for',\n",
       " '_retryable_read_command',\n",
       " '_timeout',\n",
       " '_write_concern',\n",
       " '_write_concern_for',\n",
       " 'aggregate',\n",
       " 'client',\n",
       " 'codec_options',\n",
       " 'command',\n",
       " 'create_collection',\n",
       " 'cursor_command',\n",
       " 'dereference',\n",
       " 'drop_collection',\n",
       " 'get_collection',\n",
       " 'list_collection_names',\n",
       " 'list_collections',\n",
       " 'name',\n",
       " 'next',\n",
       " 'read_concern',\n",
       " 'read_preference',\n",
       " 'validate_collection',\n",
       " 'watch',\n",
       " 'with_options',\n",
       " 'write_concern']"
      ]
     },
     "execution_count": 32,
     "metadata": {},
     "output_type": "execute_result"
    }
   ],
   "source": [
    "dir(db)"
   ]
  },
  {
   "cell_type": "code",
   "execution_count": null,
   "id": "8e996a7c-a294-45cc-b092-389a3fbddc8b",
   "metadata": {},
   "outputs": [],
   "source": []
  },
  {
   "cell_type": "code",
   "execution_count": 27,
   "id": "5e49c8a1-1b77-42b1-bbfe-a81fe830b18a",
   "metadata": {},
   "outputs": [],
   "source": [
    "docs = collection.find().limit(10)"
   ]
  },
  {
   "cell_type": "code",
   "execution_count": 46,
   "id": "d623f923-a652-41a1-b787-1aeaef650664",
   "metadata": {},
   "outputs": [],
   "source": [
    "for i in docs:\n",
    "    print(i)\n",
    "    print(5*'=')"
   ]
  },
  {
   "cell_type": "code",
   "execution_count": null,
   "id": "e9f3f9e6-015c-4374-8868-71aa67c30363",
   "metadata": {},
   "outputs": [],
   "source": []
  },
  {
   "cell_type": "code",
   "execution_count": null,
   "id": "617088c4-caaf-415e-a85d-d05628304e0f",
   "metadata": {},
   "outputs": [],
   "source": []
  },
  {
   "cell_type": "code",
   "execution_count": 19,
   "id": "4e4ace8b-902c-4710-aba2-e0f9c0a3253a",
   "metadata": {},
   "outputs": [
    {
     "data": {
      "text/plain": [
       "['admin', 'agent_evaluation_db', 'config', 'local']"
      ]
     },
     "execution_count": 19,
     "metadata": {},
     "output_type": "execute_result"
    }
   ],
   "source": [
    "databases = client.list_database_names()\n",
    "databases"
   ]
  },
  {
   "cell_type": "code",
   "execution_count": 20,
   "id": "b0cfa6c0-029d-405f-85ef-50da724a07d9",
   "metadata": {},
   "outputs": [
    {
     "name": "stdout",
     "output_type": "stream",
     "text": [
      "{'name': 'test', 'type': 'collection', 'options': {}, 'info': {'readOnly': False, 'uuid': Binary(b'6/+\\x06EaF\\xe8\\xaez\\xbe\\xa5\\x1aaZ;', 4)}, 'idIndex': {'v': 2, 'key': {'_id': 1}, 'name': '_id_'}}\n",
      "{'name': 'squad_dataset', 'type': 'collection', 'options': {}, 'info': {'readOnly': False, 'uuid': Binary(b'\\xe7\\x83\\x1c\\x06$kB\\xd6\\x97\\xc12$\\xe5/H\\xd8', 4)}, 'idIndex': {'v': 2, 'key': {'_id': 1}, 'name': '_id_'}}\n"
     ]
    }
   ],
   "source": [
    "database = client[\"agent_evaluation_db\"]\n",
    "collection_list = database.list_collections()\n",
    "for c in collection_list:\n",
    "    print(c)"
   ]
  },
  {
   "cell_type": "code",
   "execution_count": 21,
   "id": "79aba01f-c7b2-4702-bd23-44a213eb244e",
   "metadata": {},
   "outputs": [
    {
     "name": "stdout",
     "output_type": "stream",
     "text": [
      "test\n",
      "squad_dataset\n"
     ]
    }
   ],
   "source": [
    "collection_list = database.list_collection_names()\n",
    "for c in collection_list:\n",
    "    print(c)"
   ]
  },
  {
   "cell_type": "code",
   "execution_count": null,
   "id": "d41d9cd5-dcad-4924-85cb-34352bb24348",
   "metadata": {},
   "outputs": [],
   "source": []
  },
  {
   "cell_type": "code",
   "execution_count": 70,
   "id": "6d9f2f58-7c5d-4130-9c49-06f3c047a911",
   "metadata": {},
   "outputs": [
    {
     "name": "stdout",
     "output_type": "stream",
     "text": [
      "qna_pairs 130319\n",
      "{'_id': ObjectId('68627ef7277fab6848d48b78'), 'id': '56be85543aeaaa14008c9063', 'answers': 'in the late 1990s', 'context_hash': '5566f9c0998385b8a8a2c94aa64aa980', 'question': 'When did Beyonce start becoming popular?', 'title': 'Beyoncé'}\n",
      "-----\n",
      "{'_id': ObjectId('68627ef7277fab6848d48b79'), 'id': '56be85543aeaaa14008c9065', 'answers': 'singing and dancing', 'context_hash': '5566f9c0998385b8a8a2c94aa64aa980', 'question': 'What areas did Beyonce compete in when she was growing up?', 'title': 'Beyoncé'}\n",
      "-----\n",
      "=====\n",
      "context_list 19029\n",
      "{'_id': ObjectId('68627ef7277fab6848d48b77'), 'context_hash': '5566f9c0998385b8a8a2c94aa64aa980', 'context': 'Beyoncé Giselle Knowles-Carter (/biːˈjɒnseɪ/ bee-YON-say) (born September 4, 1981) is an American singer, songwriter, record producer and actress. Born and raised in Houston, Texas, she performed in various singing and dancing competitions as a child, and rose to fame in the late 1990s as lead singer of R&B girl-group Destiny\\'s Child. Managed by her father, Mathew Knowles, the group became one of the world\\'s best-selling girl groups of all time. Their hiatus saw the release of Beyoncé\\'s debut album, Dangerously in Love (2003), which established her as a solo artist worldwide, earned five Grammy Awards and featured the Billboard Hot 100 number-one singles \"Crazy in Love\" and \"Baby Boy\".', 'title': 'Beyoncé'}\n",
      "-----\n",
      "{'_id': ObjectId('68627ef7277fab6848d48b87'), 'context_hash': 'aad018fe3b6d1cb98a948e676d7c8036', 'context': 'Following the disbandment of Destiny\\'s Child in June 2005, she released her second solo album, B\\'Day (2006), which contained hits \"Déjà Vu\", \"Irreplaceable\", and \"Beautiful Liar\". Beyoncé also ventured into acting, with a Golden Globe-nominated performance in Dreamgirls (2006), and starring roles in The Pink Panther (2006) and Obsessed (2009). Her marriage to rapper Jay Z and portrayal of Etta James in Cadillac Records (2008) influenced her third album, I Am... Sasha Fierce (2008), which saw the birth of her alter-ego Sasha Fierce and earned a record-setting six Grammy Awards in 2010, including Song of the Year for \"Single Ladies (Put a Ring on It)\". Beyoncé took a hiatus from music in 2010 and took over management of her career; her fourth album 4 (2011) was subsequently mellower in tone, exploring 1970s funk, 1980s pop, and 1990s soul. Her critically acclaimed fifth studio album, Beyoncé (2013), was distinguished from previous releases by its experimental production and exploration of darker themes.', 'title': 'Beyoncé'}\n",
      "-----\n",
      "=====\n"
     ]
    }
   ],
   "source": [
    "collection_list = database.list_collection_names()\n",
    "for c in collection_list:\n",
    "    print(c, database[c].count_documents({}))\n",
    "    for i in database[c].find().limit(2):\n",
    "        print(i)\n",
    "        print(5*'-')\n",
    "    print(5*'=')"
   ]
  },
  {
   "cell_type": "code",
   "execution_count": null,
   "id": "2509b29b-53b3-47d0-8f88-6bd8c16fad79",
   "metadata": {},
   "outputs": [],
   "source": [
    "for c in collection_list:\n",
    "    print(c)\n",
    "    database[c].drop()"
   ]
  },
  {
   "cell_type": "code",
   "execution_count": 48,
   "id": "eb08d5c3-52ad-4f87-96e8-da206669dcfa",
   "metadata": {},
   "outputs": [],
   "source": [
    "collection = database['context_list']"
   ]
  },
  {
   "cell_type": "code",
   "execution_count": 49,
   "id": "ce7426da-bbd8-463a-9e8a-5a02c024faf6",
   "metadata": {},
   "outputs": [
    {
     "data": {
      "text/plain": [
       "19029"
      ]
     },
     "execution_count": 49,
     "metadata": {},
     "output_type": "execute_result"
    }
   ],
   "source": [
    "collection.count_documents({})"
   ]
  },
  {
   "cell_type": "code",
   "execution_count": 65,
   "id": "827546c1-59f6-42f8-b3e4-bb86712c3e75",
   "metadata": {},
   "outputs": [],
   "source": [
    "x = database[c].find().limit(2)"
   ]
  },
  {
   "cell_type": "code",
   "execution_count": 67,
   "id": "c63a0a98-44eb-408f-aaa6-46f279e24ebe",
   "metadata": {},
   "outputs": [
    {
     "data": {
      "text/plain": [
       "[{'_id': ObjectId('68627ef7277fab6848d48b77'),\n",
       "  'context_hash': '5566f9c0998385b8a8a2c94aa64aa980',\n",
       "  'context': 'Beyoncé Giselle Knowles-Carter (/biːˈjɒnseɪ/ bee-YON-say) (born September 4, 1981) is an American singer, songwriter, record producer and actress. Born and raised in Houston, Texas, she performed in various singing and dancing competitions as a child, and rose to fame in the late 1990s as lead singer of R&B girl-group Destiny\\'s Child. Managed by her father, Mathew Knowles, the group became one of the world\\'s best-selling girl groups of all time. Their hiatus saw the release of Beyoncé\\'s debut album, Dangerously in Love (2003), which established her as a solo artist worldwide, earned five Grammy Awards and featured the Billboard Hot 100 number-one singles \"Crazy in Love\" and \"Baby Boy\".',\n",
       "  'title': 'Beyoncé'},\n",
       " {'_id': ObjectId('68627ef7277fab6848d48b87'),\n",
       "  'context_hash': 'aad018fe3b6d1cb98a948e676d7c8036',\n",
       "  'context': 'Following the disbandment of Destiny\\'s Child in June 2005, she released her second solo album, B\\'Day (2006), which contained hits \"Déjà Vu\", \"Irreplaceable\", and \"Beautiful Liar\". Beyoncé also ventured into acting, with a Golden Globe-nominated performance in Dreamgirls (2006), and starring roles in The Pink Panther (2006) and Obsessed (2009). Her marriage to rapper Jay Z and portrayal of Etta James in Cadillac Records (2008) influenced her third album, I Am... Sasha Fierce (2008), which saw the birth of her alter-ego Sasha Fierce and earned a record-setting six Grammy Awards in 2010, including Song of the Year for \"Single Ladies (Put a Ring on It)\". Beyoncé took a hiatus from music in 2010 and took over management of her career; her fourth album 4 (2011) was subsequently mellower in tone, exploring 1970s funk, 1980s pop, and 1990s soul. Her critically acclaimed fifth studio album, Beyoncé (2013), was distinguished from previous releases by its experimental production and exploration of darker themes.',\n",
       "  'title': 'Beyoncé'}]"
      ]
     },
     "execution_count": 67,
     "metadata": {},
     "output_type": "execute_result"
    }
   ],
   "source": [
    "list(x)"
   ]
  }
 ],
 "metadata": {
  "kernelspec": {
   "display_name": "Python 3 (ipykernel)",
   "language": "python",
   "name": "python3"
  },
  "language_info": {
   "codemirror_mode": {
    "name": "ipython",
    "version": 3
   },
   "file_extension": ".py",
   "mimetype": "text/x-python",
   "name": "python",
   "nbconvert_exporter": "python",
   "pygments_lexer": "ipython3",
   "version": "3.10.12"
  }
 },
 "nbformat": 4,
 "nbformat_minor": 5
}
