{
 "cells": [
  {
   "cell_type": "code",
   "execution_count": 1,
   "id": "0b3d65eb-0205-43e4-8d92-adc796b0b3c5",
   "metadata": {},
   "outputs": [],
   "source": [
    "from pymongo import MongoClient"
   ]
  },
  {
   "cell_type": "code",
   "execution_count": 12,
   "id": "d5ece9d0-110b-42ac-ad8a-fed6de81de01",
   "metadata": {},
   "outputs": [],
   "source": [
    "client = MongoClient(\"mongodb://localhost:27017/\")"
   ]
  },
  {
   "cell_type": "code",
   "execution_count": 96,
   "id": "cf14d281-7a67-4eee-8485-2634be103541",
   "metadata": {},
   "outputs": [
    {
     "data": {
      "text/plain": [
       "['HOST',\n",
       " 'PORT',\n",
       " '__annotations__',\n",
       " '__class__',\n",
       " '__class_getitem__',\n",
       " '__del__',\n",
       " '__delattr__',\n",
       " '__dict__',\n",
       " '__dir__',\n",
       " '__doc__',\n",
       " '__enter__',\n",
       " '__eq__',\n",
       " '__exit__',\n",
       " '__format__',\n",
       " '__ge__',\n",
       " '__getattr__',\n",
       " '__getattribute__',\n",
       " '__getitem__',\n",
       " '__gt__',\n",
       " '__hash__',\n",
       " '__init__',\n",
       " '__init_subclass__',\n",
       " '__iter__',\n",
       " '__le__',\n",
       " '__lt__',\n",
       " '__module__',\n",
       " '__ne__',\n",
       " '__new__',\n",
       " '__next__',\n",
       " '__orig_bases__',\n",
       " '__parameters__',\n",
       " '__reduce__',\n",
       " '__reduce_ex__',\n",
       " '__repr__',\n",
       " '__setattr__',\n",
       " '__sizeof__',\n",
       " '__slots__',\n",
       " '__str__',\n",
       " '__subclasshook__',\n",
       " '__weakref__',\n",
       " '_after_fork',\n",
       " '_checkout',\n",
       " '_cleanup_cursor_lock',\n",
       " '_cleanup_cursor_no_lock',\n",
       " '_clients',\n",
       " '_close_cursor_now',\n",
       " '_close_cursor_soon',\n",
       " '_closed',\n",
       " '_codec_options',\n",
       " '_conn_for_reads',\n",
       " '_conn_for_writes',\n",
       " '_conn_from_server',\n",
       " '_connect',\n",
       " '_constructor_args',\n",
       " '_database_default_options',\n",
       " '_default_database_name',\n",
       " '_duplicate',\n",
       " '_encrypter',\n",
       " '_end_sessions',\n",
       " '_ensure_session',\n",
       " '_event_listeners',\n",
       " '_get_topology',\n",
       " '_host',\n",
       " '_init_background',\n",
       " '_init_based_on_options',\n",
       " '_init_kwargs',\n",
       " '_is_protocol',\n",
       " '_kill_cursor_impl',\n",
       " '_kill_cursors',\n",
       " '_kill_cursors_executor',\n",
       " '_kill_cursors_queue',\n",
       " '_list_databases',\n",
       " '_lock',\n",
       " '_loop',\n",
       " '_normalize_and_validate_options',\n",
       " '_opened',\n",
       " '_options',\n",
       " '_port',\n",
       " '_process_kill_cursors',\n",
       " '_process_periodic_tasks',\n",
       " '_process_response',\n",
       " '_read_concern',\n",
       " '_read_preference',\n",
       " '_read_preference_for',\n",
       " '_repr_helper',\n",
       " '_resolve_srv',\n",
       " '_resolve_srv_info',\n",
       " '_retry_internal',\n",
       " '_retry_with_session',\n",
       " '_retryable_read',\n",
       " '_retryable_write',\n",
       " '_return_server_session',\n",
       " '_run_operation',\n",
       " '_seeds',\n",
       " '_select_server',\n",
       " '_send_cluster_time',\n",
       " '_server_property',\n",
       " '_should_pin_cursor',\n",
       " '_start_session',\n",
       " '_timeout',\n",
       " '_tmp_session',\n",
       " '_topology',\n",
       " '_topology_settings',\n",
       " '_validate_kwargs_and_update_opts',\n",
       " '_write_concern',\n",
       " '_write_concern_for',\n",
       " 'address',\n",
       " 'arbiters',\n",
       " 'bulk_write',\n",
       " 'close',\n",
       " 'codec_options',\n",
       " 'drop_database',\n",
       " 'eq_props',\n",
       " 'get_database',\n",
       " 'get_default_database',\n",
       " 'is_mongos',\n",
       " 'is_primary',\n",
       " 'list_database_names',\n",
       " 'list_databases',\n",
       " 'next',\n",
       " 'nodes',\n",
       " 'options',\n",
       " 'primary',\n",
       " 'read_concern',\n",
       " 'read_preference',\n",
       " 'secondaries',\n",
       " 'server_info',\n",
       " 'start_session',\n",
       " 'topology_description',\n",
       " 'watch',\n",
       " 'write_concern']"
      ]
     },
     "execution_count": 96,
     "metadata": {},
     "output_type": "execute_result"
    }
   ],
   "source": [
    "dir(client)"
   ]
  },
  {
   "cell_type": "code",
   "execution_count": null,
   "id": "995ed6c1-0dbd-4024-9186-b096c110b263",
   "metadata": {},
   "outputs": [],
   "source": []
  },
  {
   "cell_type": "code",
   "execution_count": 98,
   "id": "17d08e42-549a-4774-959d-a8c8ebb58897",
   "metadata": {},
   "outputs": [
    {
     "data": {
      "text/plain": [
       "['admin', 'agent_evaluation_db', 'config', 'local']"
      ]
     },
     "execution_count": 98,
     "metadata": {},
     "output_type": "execute_result"
    }
   ],
   "source": [
    "client.list_database_names()"
   ]
  },
  {
   "cell_type": "code",
   "execution_count": 99,
   "id": "f75dafa0-9624-48eb-b9b1-d00117e611c6",
   "metadata": {},
   "outputs": [
    {
     "data": {
      "text/plain": [
       "Database(MongoClient(host=['localhost:27017'], document_class=dict, tz_aware=False, connect=True), 'abc')"
      ]
     },
     "execution_count": 99,
     "metadata": {},
     "output_type": "execute_result"
    }
   ],
   "source": [
    "client['abc']"
   ]
  },
  {
   "cell_type": "code",
   "execution_count": 101,
   "id": "ac737fb3-0df4-4f84-94ee-4d0fe0298a83",
   "metadata": {},
   "outputs": [
    {
     "data": {
      "text/plain": [
       "['__annotations__',\n",
       " '__bool__',\n",
       " '__class__',\n",
       " '__class_getitem__',\n",
       " '__delattr__',\n",
       " '__dict__',\n",
       " '__dir__',\n",
       " '__doc__',\n",
       " '__eq__',\n",
       " '__format__',\n",
       " '__ge__',\n",
       " '__getattr__',\n",
       " '__getattribute__',\n",
       " '__getitem__',\n",
       " '__gt__',\n",
       " '__hash__',\n",
       " '__init__',\n",
       " '__init_subclass__',\n",
       " '__iter__',\n",
       " '__le__',\n",
       " '__lt__',\n",
       " '__module__',\n",
       " '__ne__',\n",
       " '__new__',\n",
       " '__next__',\n",
       " '__orig_bases__',\n",
       " '__parameters__',\n",
       " '__reduce__',\n",
       " '__reduce_ex__',\n",
       " '__repr__',\n",
       " '__setattr__',\n",
       " '__sizeof__',\n",
       " '__slots__',\n",
       " '__str__',\n",
       " '__subclasshook__',\n",
       " '__weakref__',\n",
       " '_client',\n",
       " '_codec_options',\n",
       " '_command',\n",
       " '_drop_helper',\n",
       " '_get_encrypted_fields',\n",
       " '_is_protocol',\n",
       " '_list_collection_names',\n",
       " '_list_collections',\n",
       " '_list_collections_helper',\n",
       " '_name',\n",
       " '_read_concern',\n",
       " '_read_preference',\n",
       " '_read_preference_for',\n",
       " '_retryable_read_command',\n",
       " '_timeout',\n",
       " '_write_concern',\n",
       " '_write_concern_for',\n",
       " 'aggregate',\n",
       " 'client',\n",
       " 'codec_options',\n",
       " 'command',\n",
       " 'create_collection',\n",
       " 'cursor_command',\n",
       " 'dereference',\n",
       " 'drop_collection',\n",
       " 'get_collection',\n",
       " 'list_collection_names',\n",
       " 'list_collections',\n",
       " 'name',\n",
       " 'next',\n",
       " 'read_concern',\n",
       " 'read_preference',\n",
       " 'validate_collection',\n",
       " 'watch',\n",
       " 'with_options',\n",
       " 'write_concern']"
      ]
     },
     "execution_count": 101,
     "metadata": {},
     "output_type": "execute_result"
    }
   ],
   "source": [
    "dir(db)"
   ]
  },
  {
   "cell_type": "code",
   "execution_count": 102,
   "id": "50b9b37d-8d4a-4e4b-8d5c-e89bc397390a",
   "metadata": {},
   "outputs": [
    {
     "data": {
      "text/plain": [
       "['qna_pairs', 'context_list']"
      ]
     },
     "execution_count": 102,
     "metadata": {},
     "output_type": "execute_result"
    }
   ],
   "source": [
    "db.list_collection_names()"
   ]
  },
  {
   "cell_type": "code",
   "execution_count": 16,
   "id": "9d6491a1-2b56-499a-96fb-d996e1b40415",
   "metadata": {},
   "outputs": [],
   "source": [
    "db = client[\"agent_evaluation_db\"]\n",
    "collection = db[\"squad_dataset\"]"
   ]
  },
  {
   "cell_type": "code",
   "execution_count": 105,
   "id": "8911f8f2-fc3a-4ec1-8cf6-11bf3a46ed8e",
   "metadata": {},
   "outputs": [],
   "source": [
    "col = client[\"agent_evaluation_db\"]['context_list']"
   ]
  },
  {
   "cell_type": "code",
   "execution_count": 106,
   "id": "e4a8b114-a848-499b-9d17-88cc494b4b29",
   "metadata": {},
   "outputs": [
    {
     "data": {
      "text/plain": [
       "19029"
      ]
     },
     "execution_count": 106,
     "metadata": {},
     "output_type": "execute_result"
    }
   ],
   "source": [
    "col.count_documents({})"
   ]
  },
  {
   "cell_type": "code",
   "execution_count": 32,
   "id": "bbb68604-e314-474d-a028-7dae7ee3b3a6",
   "metadata": {},
   "outputs": [
    {
     "data": {
      "text/plain": [
       "['__annotations__',\n",
       " '__bool__',\n",
       " '__class__',\n",
       " '__class_getitem__',\n",
       " '__delattr__',\n",
       " '__dict__',\n",
       " '__dir__',\n",
       " '__doc__',\n",
       " '__eq__',\n",
       " '__format__',\n",
       " '__ge__',\n",
       " '__getattr__',\n",
       " '__getattribute__',\n",
       " '__getitem__',\n",
       " '__gt__',\n",
       " '__hash__',\n",
       " '__init__',\n",
       " '__init_subclass__',\n",
       " '__iter__',\n",
       " '__le__',\n",
       " '__lt__',\n",
       " '__module__',\n",
       " '__ne__',\n",
       " '__new__',\n",
       " '__next__',\n",
       " '__orig_bases__',\n",
       " '__parameters__',\n",
       " '__reduce__',\n",
       " '__reduce_ex__',\n",
       " '__repr__',\n",
       " '__setattr__',\n",
       " '__sizeof__',\n",
       " '__slots__',\n",
       " '__str__',\n",
       " '__subclasshook__',\n",
       " '__weakref__',\n",
       " '_client',\n",
       " '_codec_options',\n",
       " '_command',\n",
       " '_drop_helper',\n",
       " '_get_encrypted_fields',\n",
       " '_is_protocol',\n",
       " '_list_collection_names',\n",
       " '_list_collections',\n",
       " '_list_collections_helper',\n",
       " '_name',\n",
       " '_read_concern',\n",
       " '_read_preference',\n",
       " '_read_preference_for',\n",
       " '_retryable_read_command',\n",
       " '_timeout',\n",
       " '_write_concern',\n",
       " '_write_concern_for',\n",
       " 'aggregate',\n",
       " 'client',\n",
       " 'codec_options',\n",
       " 'command',\n",
       " 'create_collection',\n",
       " 'cursor_command',\n",
       " 'dereference',\n",
       " 'drop_collection',\n",
       " 'get_collection',\n",
       " 'list_collection_names',\n",
       " 'list_collections',\n",
       " 'name',\n",
       " 'next',\n",
       " 'read_concern',\n",
       " 'read_preference',\n",
       " 'validate_collection',\n",
       " 'watch',\n",
       " 'with_options',\n",
       " 'write_concern']"
      ]
     },
     "execution_count": 32,
     "metadata": {},
     "output_type": "execute_result"
    }
   ],
   "source": [
    "dir(db)"
   ]
  },
  {
   "cell_type": "code",
   "execution_count": null,
   "id": "8e996a7c-a294-45cc-b092-389a3fbddc8b",
   "metadata": {},
   "outputs": [],
   "source": []
  },
  {
   "cell_type": "code",
   "execution_count": 27,
   "id": "5e49c8a1-1b77-42b1-bbfe-a81fe830b18a",
   "metadata": {},
   "outputs": [],
   "source": [
    "docs = collection.find().limit(10)"
   ]
  },
  {
   "cell_type": "code",
   "execution_count": 46,
   "id": "d623f923-a652-41a1-b787-1aeaef650664",
   "metadata": {},
   "outputs": [],
   "source": [
    "for i in docs:\n",
    "    print(i)\n",
    "    print(5*'=')"
   ]
  },
  {
   "cell_type": "code",
   "execution_count": null,
   "id": "e9f3f9e6-015c-4374-8868-71aa67c30363",
   "metadata": {},
   "outputs": [],
   "source": []
  },
  {
   "cell_type": "code",
   "execution_count": null,
   "id": "617088c4-caaf-415e-a85d-d05628304e0f",
   "metadata": {},
   "outputs": [],
   "source": []
  },
  {
   "cell_type": "code",
   "execution_count": 19,
   "id": "4e4ace8b-902c-4710-aba2-e0f9c0a3253a",
   "metadata": {},
   "outputs": [
    {
     "data": {
      "text/plain": [
       "['admin', 'agent_evaluation_db', 'config', 'local']"
      ]
     },
     "execution_count": 19,
     "metadata": {},
     "output_type": "execute_result"
    }
   ],
   "source": [
    "databases = client.list_database_names()\n",
    "databases"
   ]
  },
  {
   "cell_type": "code",
   "execution_count": 20,
   "id": "b0cfa6c0-029d-405f-85ef-50da724a07d9",
   "metadata": {},
   "outputs": [
    {
     "name": "stdout",
     "output_type": "stream",
     "text": [
      "{'name': 'test', 'type': 'collection', 'options': {}, 'info': {'readOnly': False, 'uuid': Binary(b'6/+\\x06EaF\\xe8\\xaez\\xbe\\xa5\\x1aaZ;', 4)}, 'idIndex': {'v': 2, 'key': {'_id': 1}, 'name': '_id_'}}\n",
      "{'name': 'squad_dataset', 'type': 'collection', 'options': {}, 'info': {'readOnly': False, 'uuid': Binary(b'\\xe7\\x83\\x1c\\x06$kB\\xd6\\x97\\xc12$\\xe5/H\\xd8', 4)}, 'idIndex': {'v': 2, 'key': {'_id': 1}, 'name': '_id_'}}\n"
     ]
    }
   ],
   "source": [
    "database = client[\"agent_evaluation_db\"]\n",
    "collection_list = database.list_collections()\n",
    "for c in collection_list:\n",
    "    print(c)"
   ]
  },
  {
   "cell_type": "code",
   "execution_count": 21,
   "id": "79aba01f-c7b2-4702-bd23-44a213eb244e",
   "metadata": {},
   "outputs": [
    {
     "name": "stdout",
     "output_type": "stream",
     "text": [
      "test\n",
      "squad_dataset\n"
     ]
    }
   ],
   "source": [
    "collection_list = database.list_collection_names()\n",
    "for c in collection_list:\n",
    "    print(c)"
   ]
  },
  {
   "cell_type": "code",
   "execution_count": null,
   "id": "d41d9cd5-dcad-4924-85cb-34352bb24348",
   "metadata": {},
   "outputs": [],
   "source": []
  },
  {
   "cell_type": "code",
   "execution_count": 70,
   "id": "6d9f2f58-7c5d-4130-9c49-06f3c047a911",
   "metadata": {},
   "outputs": [
    {
     "name": "stdout",
     "output_type": "stream",
     "text": [
      "qna_pairs 130319\n",
      "{'_id': ObjectId('68627ef7277fab6848d48b78'), 'id': '56be85543aeaaa14008c9063', 'answers': 'in the late 1990s', 'context_hash': '5566f9c0998385b8a8a2c94aa64aa980', 'question': 'When did Beyonce start becoming popular?', 'title': 'Beyoncé'}\n",
      "-----\n",
      "{'_id': ObjectId('68627ef7277fab6848d48b79'), 'id': '56be85543aeaaa14008c9065', 'answers': 'singing and dancing', 'context_hash': '5566f9c0998385b8a8a2c94aa64aa980', 'question': 'What areas did Beyonce compete in when she was growing up?', 'title': 'Beyoncé'}\n",
      "-----\n",
      "=====\n",
      "context_list 19029\n",
      "{'_id': ObjectId('68627ef7277fab6848d48b77'), 'context_hash': '5566f9c0998385b8a8a2c94aa64aa980', 'context': 'Beyoncé Giselle Knowles-Carter (/biːˈjɒnseɪ/ bee-YON-say) (born September 4, 1981) is an American singer, songwriter, record producer and actress. Born and raised in Houston, Texas, she performed in various singing and dancing competitions as a child, and rose to fame in the late 1990s as lead singer of R&B girl-group Destiny\\'s Child. Managed by her father, Mathew Knowles, the group became one of the world\\'s best-selling girl groups of all time. Their hiatus saw the release of Beyoncé\\'s debut album, Dangerously in Love (2003), which established her as a solo artist worldwide, earned five Grammy Awards and featured the Billboard Hot 100 number-one singles \"Crazy in Love\" and \"Baby Boy\".', 'title': 'Beyoncé'}\n",
      "-----\n",
      "{'_id': ObjectId('68627ef7277fab6848d48b87'), 'context_hash': 'aad018fe3b6d1cb98a948e676d7c8036', 'context': 'Following the disbandment of Destiny\\'s Child in June 2005, she released her second solo album, B\\'Day (2006), which contained hits \"Déjà Vu\", \"Irreplaceable\", and \"Beautiful Liar\". Beyoncé also ventured into acting, with a Golden Globe-nominated performance in Dreamgirls (2006), and starring roles in The Pink Panther (2006) and Obsessed (2009). Her marriage to rapper Jay Z and portrayal of Etta James in Cadillac Records (2008) influenced her third album, I Am... Sasha Fierce (2008), which saw the birth of her alter-ego Sasha Fierce and earned a record-setting six Grammy Awards in 2010, including Song of the Year for \"Single Ladies (Put a Ring on It)\". Beyoncé took a hiatus from music in 2010 and took over management of her career; her fourth album 4 (2011) was subsequently mellower in tone, exploring 1970s funk, 1980s pop, and 1990s soul. Her critically acclaimed fifth studio album, Beyoncé (2013), was distinguished from previous releases by its experimental production and exploration of darker themes.', 'title': 'Beyoncé'}\n",
      "-----\n",
      "=====\n"
     ]
    }
   ],
   "source": [
    "collection_list = database.list_collection_names()\n",
    "for c in collection_list:\n",
    "    print(c, database[c].count_documents({}))\n",
    "    for i in database[c].find().limit(2):\n",
    "        print(i)\n",
    "        print(5*'-')\n",
    "    print(5*'=')"
   ]
  },
  {
   "cell_type": "code",
   "execution_count": null,
   "id": "2509b29b-53b3-47d0-8f88-6bd8c16fad79",
   "metadata": {},
   "outputs": [],
   "source": [
    "for c in collection_list:\n",
    "    print(c)\n",
    "    database[c].drop()"
   ]
  },
  {
   "cell_type": "code",
   "execution_count": 48,
   "id": "eb08d5c3-52ad-4f87-96e8-da206669dcfa",
   "metadata": {},
   "outputs": [],
   "source": [
    "collection = database['context_list']"
   ]
  },
  {
   "cell_type": "code",
   "execution_count": 49,
   "id": "ce7426da-bbd8-463a-9e8a-5a02c024faf6",
   "metadata": {},
   "outputs": [
    {
     "data": {
      "text/plain": [
       "19029"
      ]
     },
     "execution_count": 49,
     "metadata": {},
     "output_type": "execute_result"
    }
   ],
   "source": [
    "collection.count_documents({})"
   ]
  },
  {
   "cell_type": "code",
   "execution_count": 72,
   "id": "827546c1-59f6-42f8-b3e4-bb86712c3e75",
   "metadata": {},
   "outputs": [],
   "source": [
    "x = database[c].find().limit(2)"
   ]
  },
  {
   "cell_type": "code",
   "execution_count": 73,
   "id": "c63a0a98-44eb-408f-aaa6-46f279e24ebe",
   "metadata": {},
   "outputs": [
    {
     "data": {
      "text/plain": [
       "[{'_id': ObjectId('68627ef7277fab6848d48b77'),\n",
       "  'context_hash': '5566f9c0998385b8a8a2c94aa64aa980',\n",
       "  'context': 'Beyoncé Giselle Knowles-Carter (/biːˈjɒnseɪ/ bee-YON-say) (born September 4, 1981) is an American singer, songwriter, record producer and actress. Born and raised in Houston, Texas, she performed in various singing and dancing competitions as a child, and rose to fame in the late 1990s as lead singer of R&B girl-group Destiny\\'s Child. Managed by her father, Mathew Knowles, the group became one of the world\\'s best-selling girl groups of all time. Their hiatus saw the release of Beyoncé\\'s debut album, Dangerously in Love (2003), which established her as a solo artist worldwide, earned five Grammy Awards and featured the Billboard Hot 100 number-one singles \"Crazy in Love\" and \"Baby Boy\".',\n",
       "  'title': 'Beyoncé'},\n",
       " {'_id': ObjectId('68627ef7277fab6848d48b87'),\n",
       "  'context_hash': 'aad018fe3b6d1cb98a948e676d7c8036',\n",
       "  'context': 'Following the disbandment of Destiny\\'s Child in June 2005, she released her second solo album, B\\'Day (2006), which contained hits \"Déjà Vu\", \"Irreplaceable\", and \"Beautiful Liar\". Beyoncé also ventured into acting, with a Golden Globe-nominated performance in Dreamgirls (2006), and starring roles in The Pink Panther (2006) and Obsessed (2009). Her marriage to rapper Jay Z and portrayal of Etta James in Cadillac Records (2008) influenced her third album, I Am... Sasha Fierce (2008), which saw the birth of her alter-ego Sasha Fierce and earned a record-setting six Grammy Awards in 2010, including Song of the Year for \"Single Ladies (Put a Ring on It)\". Beyoncé took a hiatus from music in 2010 and took over management of her career; her fourth album 4 (2011) was subsequently mellower in tone, exploring 1970s funk, 1980s pop, and 1990s soul. Her critically acclaimed fifth studio album, Beyoncé (2013), was distinguished from previous releases by its experimental production and exploration of darker themes.',\n",
       "  'title': 'Beyoncé'}]"
      ]
     },
     "execution_count": 73,
     "metadata": {},
     "output_type": "execute_result"
    }
   ],
   "source": [
    "y = list(x)\n",
    "y"
   ]
  },
  {
   "cell_type": "code",
   "execution_count": 77,
   "id": "c0369f48-6ca9-4e77-80d8-6c273a77d509",
   "metadata": {},
   "outputs": [
    {
     "data": {
      "text/plain": [
       "'68627ef7277fab6848d48b77'"
      ]
     },
     "execution_count": 77,
     "metadata": {},
     "output_type": "execute_result"
    }
   ],
   "source": [
    "str(y[0]['_id'])"
   ]
  },
  {
   "cell_type": "code",
   "execution_count": null,
   "id": "990402de-8051-48db-97a6-b32e0a3e90d0",
   "metadata": {},
   "outputs": [],
   "source": []
  },
  {
   "cell_type": "code",
   "execution_count": 78,
   "id": "6180aff2-5eb4-4e94-b478-661783974d37",
   "metadata": {},
   "outputs": [],
   "source": [
    "import chromadb\n",
    "CHROMA_DB_PORT = 8010\n",
    "\n",
    "def get_chroma_db_client():\n",
    "    client = chromadb.HttpClient(\n",
    "        host=\"localhost\",\n",
    "        port=int(CHROMA_DB_PORT))\n",
    "    return client\n"
   ]
  },
  {
   "cell_type": "code",
   "execution_count": 79,
   "id": "6e86c82c-28aa-403c-ab37-0578f8ba9e3e",
   "metadata": {},
   "outputs": [],
   "source": [
    "chroma_db_client = get_chroma_db_client()"
   ]
  },
  {
   "cell_type": "code",
   "execution_count": 80,
   "id": "eb3ee29e-b625-4c3d-b10a-b14c3ca407e1",
   "metadata": {},
   "outputs": [
    {
     "data": {
      "text/plain": [
       "['__abstractmethods__',\n",
       " '__annotations__',\n",
       " '__class__',\n",
       " '__delattr__',\n",
       " '__dict__',\n",
       " '__dir__',\n",
       " '__doc__',\n",
       " '__eq__',\n",
       " '__format__',\n",
       " '__ge__',\n",
       " '__getattribute__',\n",
       " '__gt__',\n",
       " '__hash__',\n",
       " '__init__',\n",
       " '__init_subclass__',\n",
       " '__le__',\n",
       " '__lt__',\n",
       " '__module__',\n",
       " '__ne__',\n",
       " '__new__',\n",
       " '__reduce__',\n",
       " '__reduce_ex__',\n",
       " '__repr__',\n",
       " '__setattr__',\n",
       " '__sizeof__',\n",
       " '__slots__',\n",
       " '__str__',\n",
       " '__subclasshook__',\n",
       " '__weakref__',\n",
       " '_abc_impl',\n",
       " '_add',\n",
       " '_admin_client',\n",
       " '_count',\n",
       " '_create_system_if_not_exists',\n",
       " '_delete',\n",
       " '_get',\n",
       " '_get_identifier_from_settings',\n",
       " '_identifier',\n",
       " '_identifier_to_system',\n",
       " '_modify',\n",
       " '_peek',\n",
       " '_populate_data_from_system',\n",
       " '_query',\n",
       " '_server',\n",
       " '_submit_client_start_event',\n",
       " '_system',\n",
       " '_update',\n",
       " '_upsert',\n",
       " '_validate_tenant_database',\n",
       " 'clear_system_cache',\n",
       " 'count_collections',\n",
       " 'create_collection',\n",
       " 'database',\n",
       " 'delete_collection',\n",
       " 'from_system',\n",
       " 'get_collection',\n",
       " 'get_max_batch_size',\n",
       " 'get_or_create_collection',\n",
       " 'get_settings',\n",
       " 'get_user_identity',\n",
       " 'get_version',\n",
       " 'heartbeat',\n",
       " 'list_collections',\n",
       " 'reset',\n",
       " 'set_database',\n",
       " 'set_tenant',\n",
       " 'tenant']"
      ]
     },
     "execution_count": 80,
     "metadata": {},
     "output_type": "execute_result"
    }
   ],
   "source": [
    "dir(chroma_db_client)"
   ]
  },
  {
   "cell_type": "code",
   "execution_count": 81,
   "id": "51cf7ee1-6d3c-44e5-ace3-aec5ceca0b63",
   "metadata": {},
   "outputs": [
    {
     "data": {
      "text/plain": [
       "[Collection(name=test_collection),\n",
       " Collection(name=hot_pot_qa_v2),\n",
       " Collection(name=context_vectors),\n",
       " Collection(name=hot_pot_qa)]"
      ]
     },
     "execution_count": 81,
     "metadata": {},
     "output_type": "execute_result"
    }
   ],
   "source": [
    "chroma_db_client.list_collections()"
   ]
  },
  {
   "cell_type": "code",
   "execution_count": 92,
   "id": "eb3219cf-e24b-4317-97b2-ddce05640ff8",
   "metadata": {},
   "outputs": [],
   "source": [
    "x = chroma_db_client.list_collections()"
   ]
  },
  {
   "cell_type": "code",
   "execution_count": 95,
   "id": "e6983a6f-3c66-4985-a1a0-29f6bba08093",
   "metadata": {},
   "outputs": [
    {
     "data": {
      "text/plain": [
       "'test_collection'"
      ]
     },
     "execution_count": 95,
     "metadata": {},
     "output_type": "execute_result"
    }
   ],
   "source": [
    "x[0].name"
   ]
  },
  {
   "cell_type": "code",
   "execution_count": 83,
   "id": "af918274-1865-4ee6-a930-010ae1439306",
   "metadata": {},
   "outputs": [],
   "source": [
    "col = chroma_db_client.get_collection('context_vectors')"
   ]
  },
  {
   "cell_type": "code",
   "execution_count": 84,
   "id": "1325ff89-4d1b-4916-b2d5-4309991eb72a",
   "metadata": {},
   "outputs": [
    {
     "data": {
      "text/plain": [
       "['__annotations__',\n",
       " '__class__',\n",
       " '__class_getitem__',\n",
       " '__delattr__',\n",
       " '__dict__',\n",
       " '__dir__',\n",
       " '__doc__',\n",
       " '__eq__',\n",
       " '__format__',\n",
       " '__ge__',\n",
       " '__getattribute__',\n",
       " '__gt__',\n",
       " '__hash__',\n",
       " '__init__',\n",
       " '__init_subclass__',\n",
       " '__le__',\n",
       " '__lt__',\n",
       " '__module__',\n",
       " '__ne__',\n",
       " '__new__',\n",
       " '__orig_bases__',\n",
       " '__parameters__',\n",
       " '__reduce__',\n",
       " '__reduce_ex__',\n",
       " '__repr__',\n",
       " '__setattr__',\n",
       " '__sizeof__',\n",
       " '__slots__',\n",
       " '__str__',\n",
       " '__subclasshook__',\n",
       " '__weakref__',\n",
       " '_client',\n",
       " '_data_loader',\n",
       " '_embed',\n",
       " '_embed_record_set',\n",
       " '_embedding_function',\n",
       " '_is_protocol',\n",
       " '_model',\n",
       " '_transform_get_response',\n",
       " '_transform_peek_response',\n",
       " '_transform_query_response',\n",
       " '_update_model_after_modify_success',\n",
       " '_validate_and_prepare_add_request',\n",
       " '_validate_and_prepare_delete_request',\n",
       " '_validate_and_prepare_get_request',\n",
       " '_validate_and_prepare_query_request',\n",
       " '_validate_and_prepare_update_request',\n",
       " '_validate_and_prepare_upsert_request',\n",
       " '_validate_modify_request',\n",
       " 'add',\n",
       " 'configuration',\n",
       " 'configuration_json',\n",
       " 'count',\n",
       " 'database',\n",
       " 'delete',\n",
       " 'fork',\n",
       " 'get',\n",
       " 'get_model',\n",
       " 'id',\n",
       " 'metadata',\n",
       " 'modify',\n",
       " 'name',\n",
       " 'peek',\n",
       " 'query',\n",
       " 'tenant',\n",
       " 'update',\n",
       " 'upsert']"
      ]
     },
     "execution_count": 84,
     "metadata": {},
     "output_type": "execute_result"
    }
   ],
   "source": [
    "dir(col)"
   ]
  },
  {
   "cell_type": "code",
   "execution_count": 91,
   "id": "31e2bc3f-0bad-4f28-bd40-2158361fab97",
   "metadata": {},
   "outputs": [
    {
     "data": {
      "text/plain": [
       "19029"
      ]
     },
     "execution_count": 91,
     "metadata": {},
     "output_type": "execute_result"
    }
   ],
   "source": [
    "col.count()"
   ]
  }
 ],
 "metadata": {
  "kernelspec": {
   "display_name": "Python 3 (ipykernel)",
   "language": "python",
   "name": "python3"
  },
  "language_info": {
   "codemirror_mode": {
    "name": "ipython",
    "version": 3
   },
   "file_extension": ".py",
   "mimetype": "text/x-python",
   "name": "python",
   "nbconvert_exporter": "python",
   "pygments_lexer": "ipython3",
   "version": "3.10.12"
  }
 },
 "nbformat": 4,
 "nbformat_minor": 5
}
