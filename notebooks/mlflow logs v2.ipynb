{
 "cells": [
  {
   "cell_type": "code",
   "execution_count": 1,
   "id": "559ee68b-8c27-49df-aca7-4db52c3591b2",
   "metadata": {},
   "outputs": [],
   "source": [
    "import os\n",
    "from pathlib import Path\n",
    "import yaml\n",
    "\n",
    "from datetime import datetime"
   ]
  },
  {
   "cell_type": "code",
   "execution_count": 2,
   "id": "5493d778-3a37-406a-938a-42b840f8b172",
   "metadata": {},
   "outputs": [],
   "source": [
    "mlflow_logs = os.path.join(Path(os.getcwd()).parents[0], 'mlflow_logs')"
   ]
  },
  {
   "cell_type": "code",
   "execution_count": 3,
   "id": "8f9caa59-2369-4fd1-9622-9c86cd2c7685",
   "metadata": {},
   "outputs": [],
   "source": [
    "import os\n",
    "import yaml\n",
    "\n",
    "class Experiment:\n",
    "    def __init__(self, folder_path):\n",
    "        self.folder_path = folder_path\n",
    "        self.experiment_id = os.path.basename(folder_path)\n",
    "        self.meta = self.load_meta()\n",
    "        self.traces = self.load_traces()\n",
    "\n",
    "    def load_meta(self):\n",
    "        meta_path = os.path.join(self.folder_path, \"meta.yaml\")\n",
    "        if os.path.isfile(meta_path):\n",
    "            with open(meta_path) as f:\n",
    "                return yaml.safe_load(f)\n",
    "        return {}\n",
    "\n",
    "    def load_traces(self):\n",
    "        traces = []\n",
    "        traces_dir = os.path.join(self.folder_path, \"traces\")\n",
    "        if not os.path.isdir(traces_dir):\n",
    "            return traces\n",
    "\n",
    "        for trace_id in os.listdir(traces_dir):\n",
    "            trace_folder = os.path.join(traces_dir, trace_id)\n",
    "            if os.path.isdir(trace_folder):\n",
    "                traces.append(Trace(trace_folder))\n",
    "        return traces\n",
    "\n",
    "    @property\n",
    "    def metadata(self):\n",
    "        creation_time = self.meta.get(\"creation_time\")\n",
    "        readable_time = self._format_time(creation_time)\n",
    "        return {\n",
    "            \"experiment_id\": self.experiment_id,\n",
    "            \"creation_time\": creation_time,\n",
    "            \"creation_time_str\": readable_time,\n",
    "            \"trace_count\": len(self.traces)\n",
    "        }\n",
    "\n",
    "    def _format_time(self, timestamp_ms):\n",
    "        if not timestamp_ms:\n",
    "            return \"Unknown\"\n",
    "        dt = datetime.utcfromtimestamp(int(timestamp_ms) / 1000)\n",
    "        return dt.strftime(\"%Y-%m-%d %H:%M:%S UTC\")\n",
    "\n",
    "    def __repr__(self):\n",
    "        return (f\"Experiment(id='{self.metadata['experiment_id']}', \"\n",
    "                f\"traces={self.metadata['trace_count']}, \"\n",
    "                f\"created='{self.metadata['creation_time_str']}')\")\n"
   ]
  },
  {
   "cell_type": "code",
   "execution_count": 4,
   "id": "c9f4c2fa-da6a-4504-b294-d60107218799",
   "metadata": {},
   "outputs": [],
   "source": [
    "import os\n",
    "import json\n",
    "\n",
    "class Trace:\n",
    "    def __init__(self, trace_folder):\n",
    "        self.trace_folder = trace_folder\n",
    "        self.trace_id = os.path.basename(trace_folder)\n",
    "        self.data = self.load_trace()\n",
    "\n",
    "    def load_trace(self):\n",
    "        trace_file = os.path.join(self.trace_folder, \"artifacts\", \"traces.json\")\n",
    "        if os.path.isfile(trace_file):\n",
    "            with open(trace_file) as f:\n",
    "                return json.load(f)\n",
    "        return {}\n",
    "\n",
    "    @property\n",
    "    def metadata(self):\n",
    "        spans = self.data.get(\"spans\", [])\n",
    "        start_time_ns = spans[0].get(\"start_time_unix_nano\", 0) if spans else 0\n",
    "        readable_time = self._format_time(start_time_ns)\n",
    "\n",
    "        return {\n",
    "            \"trace_id\": self.trace_id,\n",
    "            \"span_count\": len(spans),\n",
    "            \"start_time_unix_nano\": start_time_ns,\n",
    "            \"start_time_str\": readable_time\n",
    "        }\n",
    "\n",
    "    def _format_time(self, timestamp_ns):\n",
    "        if not timestamp_ns:\n",
    "            return \"Unknown\"\n",
    "        dt = datetime.utcfromtimestamp(int(timestamp_ns) / 1e9)\n",
    "        return dt.strftime(\"%Y-%m-%d %H:%M:%S UTC\")\n",
    "\n",
    "    def __repr__(self):\n",
    "        return (f\"Trace(id='{self.metadata['trace_id']}', \"\n",
    "                f\"spans={self.metadata['span_count']}, \"\n",
    "                f\"start='{self.metadata['start_time_str']}')\")\n",
    "\n"
   ]
  },
  {
   "cell_type": "code",
   "execution_count": 5,
   "id": "958b23dd-d4ea-4dbd-909e-d3e468500f3e",
   "metadata": {},
   "outputs": [],
   "source": [
    "class Models:\n",
    "    def __init__(self, folder_path):\n",
    "        self.folder_path = folder_path\n",
    "        # Can be extended to list models, versions, etc.\n"
   ]
  },
  {
   "cell_type": "code",
   "execution_count": 6,
   "id": "3aef37f0-3c13-4979-993f-0622c2ed73f0",
   "metadata": {},
   "outputs": [],
   "source": [
    "class MLflowLogs:\n",
    "    def __init__(self, logs_dir):\n",
    "        self.logs_dir = logs_dir\n",
    "        self.experiments = []\n",
    "        self.models = None\n",
    "        self.load()\n",
    "\n",
    "    def load(self):\n",
    "        for folder in os.listdir(self.logs_dir):\n",
    "            folder_path = os.path.join(self.logs_dir, folder)\n",
    "            if self.is_experiment_folder(folder_path):\n",
    "                self.experiments.append(Experiment(folder_path))\n",
    "            elif folder == \"models\" and os.path.isdir(folder_path):\n",
    "                self.models = Models(folder_path)\n",
    "\n",
    "    def is_experiment_folder(self, folder_path):\n",
    "        return (\n",
    "            os.path.isdir(folder_path) and\n",
    "            os.path.isfile(os.path.join(folder_path, \"meta.yaml\"))\n",
    "        )\n",
    "\n",
    "    def list_experiments(self):\n",
    "        return [exp.experiment_id for exp in self.experiments]\n",
    "\n",
    "    def get_experiment_by_id(self, exp_id):\n",
    "        for exp in self.experiments:\n",
    "            if exp.experiment_id == exp_id:\n",
    "                return exp\n",
    "        return None\n"
   ]
  },
  {
   "cell_type": "code",
   "execution_count": 7,
   "id": "d394ebe5-3724-4d9e-9175-5054fd95bbdc",
   "metadata": {},
   "outputs": [],
   "source": [
    "mlflow_log_handler = MLflowLogs(mlflow_logs)"
   ]
  },
  {
   "cell_type": "code",
   "execution_count": 8,
   "id": "fcbb220c-02ac-4128-a1ed-52874c8d52e5",
   "metadata": {},
   "outputs": [
    {
     "data": {
      "text/plain": [
       "['132899082267310288', '815316816171043374']"
      ]
     },
     "execution_count": 8,
     "metadata": {},
     "output_type": "execute_result"
    }
   ],
   "source": [
    "mlflow_log_handler.list_experiments()"
   ]
  },
  {
   "cell_type": "code",
   "execution_count": 9,
   "id": "d1ef5d83-bcca-48e0-93f7-3f1ffb844b75",
   "metadata": {},
   "outputs": [
    {
     "data": {
      "text/plain": [
       "[Experiment(id='132899082267310288', traces=0, created='2025-06-27 14:23:30 UTC'),\n",
       " Experiment(id='815316816171043374', traces=24, created='2025-06-28 06:36:35 UTC')]"
      ]
     },
     "execution_count": 9,
     "metadata": {},
     "output_type": "execute_result"
    }
   ],
   "source": [
    "mlflow_log_handler.experiments"
   ]
  },
  {
   "cell_type": "code",
   "execution_count": 12,
   "id": "d9e9f87a-c763-48ec-b567-2b28096757dc",
   "metadata": {},
   "outputs": [
    {
     "name": "stdout",
     "output_type": "stream",
     "text": [
      "{'experiment_id': '132899082267310288', 'creation_time': 1751034210378, 'creation_time_str': '2025-06-27 14:23:30 UTC', 'trace_count': 0}\n",
      "==========\n",
      "{'experiment_id': '815316816171043374', 'creation_time': 1751092595089, 'creation_time_str': '2025-06-28 06:36:35 UTC', 'trace_count': 24}\n",
      "==========\n",
      "Trace(id='05b2cdf0c02049478b1b37399282d88c', spans=29, start='2025-06-29 14:16:51 UTC')\n",
      "Trace(id='1eab952cc4694cb4b24322bb598660e3', spans=29, start='2025-07-03 07:26:51 UTC')\n",
      "Trace(id='1eed59cbad4d48308680c48d5ec0e1aa', spans=8, start='2025-06-29 14:13:52 UTC')\n",
      "Trace(id='378981db883d47b0877df0fe4b7903c0', spans=29, start='2025-07-01 16:21:58 UTC')\n",
      "Trace(id='52c0ffea5bb148efb18513566d3554c4', spans=29, start='2025-06-29 14:11:19 UTC')\n",
      "Trace(id='5fc1a238ed0443efab9dc12653f10075', spans=16, start='2025-06-28 09:25:03 UTC')\n",
      "Trace(id='6eac28386a9d433283b1fd138a7f6f59', spans=8, start='2025-06-28 08:19:27 UTC')\n",
      "Trace(id='7603e45cc04a44c7b8531b0ad623f4be', spans=29, start='2025-07-01 16:00:40 UTC')\n",
      "Trace(id='7afd6f476b4a410e97e7598f5529bb5d', spans=8, start='2025-06-29 14:12:38 UTC')\n",
      "Trace(id='7b4609ab15004115bba9320920b87e38', spans=29, start='2025-07-01 16:03:21 UTC')\n",
      "Trace(id='808dc0fa50214ae89aebb9bc5ea69f52', spans=8, start='2025-06-29 14:08:56 UTC')\n",
      "Trace(id='a412f07738e049ec8ee5208549380bbc', spans=8, start='2025-06-28 08:11:57 UTC')\n",
      "Trace(id='b00bdbdac88d4a4f814c3b410f572b5a', spans=8, start='2025-06-29 14:15:15 UTC')\n",
      "Trace(id='b0bab827b3794d2a9a573cf8d3b58ad4', spans=8, start='2025-06-28 10:11:20 UTC')\n",
      "Trace(id='b16d050a00c545528f3a1895c3817a06', spans=16, start='2025-06-28 10:08:10 UTC')\n",
      "Trace(id='bde80301c45143119714869cdf543352', spans=8, start='2025-06-28 06:59:24 UTC')\n",
      "Trace(id='d568f6938fb14d53a3bc0bfccaa235e4', spans=29, start='2025-07-03 07:24:25 UTC')\n",
      "Trace(id='d9f2a9609f13414782e0bf6de4ae367d', spans=8, start='2025-06-28 06:36:46 UTC')\n",
      "Trace(id='da1705f1a66147199f81c460e2cfe939', spans=29, start='2025-07-01 16:24:12 UTC')\n",
      "Trace(id='db2b69d101b34825b168e6fc905f9763', spans=16, start='2025-06-28 10:10:16 UTC')\n",
      "Trace(id='dc93739ca3e044328461dc1fe054601a', spans=50, start='2025-06-29 14:09:32 UTC')\n",
      "Trace(id='e0d13f495c8c41479e3329e0f45c7fbe', spans=29, start='2025-07-03 07:28:12 UTC')\n",
      "Trace(id='e0f93cd1e0174f0ba57eb1fe18af6998', spans=5, start='2025-07-01 16:20:03 UTC')\n",
      "Trace(id='fe8877863c254926812aef905e0d972e', spans=8, start='2025-06-29 14:18:12 UTC')\n"
     ]
    }
   ],
   "source": [
    "for exp in mlflow_log_handler.experiments:\n",
    "    print(exp.metadata)\n",
    "    print(10*'=')\n",
    "    for trace in exp.load_traces():\n",
    "        print(trace)"
   ]
  },
  {
   "cell_type": "code",
   "execution_count": null,
   "id": "803c7e51-bfe6-4379-a1de-ee70eefb4fdc",
   "metadata": {},
   "outputs": [],
   "source": []
  }
 ],
 "metadata": {
  "kernelspec": {
   "display_name": "Python 3 (ipykernel)",
   "language": "python",
   "name": "python3"
  },
  "language_info": {
   "codemirror_mode": {
    "name": "ipython",
    "version": 3
   },
   "file_extension": ".py",
   "mimetype": "text/x-python",
   "name": "python",
   "nbconvert_exporter": "python",
   "pygments_lexer": "ipython3",
   "version": "3.10.12"
  }
 },
 "nbformat": 4,
 "nbformat_minor": 5
}
