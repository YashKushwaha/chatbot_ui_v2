{
 "cells": [
  {
   "cell_type": "code",
   "execution_count": 139,
   "id": "6180aff2-5eb4-4e94-b478-661783974d37",
   "metadata": {},
   "outputs": [],
   "source": [
    "import chromadb\n",
    "CHROMA_DB_PORT = 8010\n",
    "\n",
    "def get_chroma_db_client():\n",
    "    client = chromadb.HttpClient(\n",
    "        host=\"localhost\",\n",
    "        port=int(CHROMA_DB_PORT))\n",
    "    return client\n"
   ]
  },
  {
   "cell_type": "code",
   "execution_count": 140,
   "id": "6e86c82c-28aa-403c-ab37-0578f8ba9e3e",
   "metadata": {},
   "outputs": [],
   "source": [
    "chroma_db_client = get_chroma_db_client()"
   ]
  },
  {
   "cell_type": "code",
   "execution_count": 143,
   "id": "eb3ee29e-b625-4c3d-b10a-b14c3ca407e1",
   "metadata": {},
   "outputs": [
    {
     "name": "stdout",
     "output_type": "stream",
     "text": [
      "clear_system_cache\n",
      "count_collections\n",
      "create_collection\n",
      "database\n",
      "delete_collection\n",
      "from_system\n",
      "get_collection\n",
      "get_max_batch_size\n",
      "get_or_create_collection\n",
      "get_settings\n",
      "get_user_identity\n",
      "get_version\n",
      "heartbeat\n",
      "list_collections\n",
      "reset\n",
      "set_database\n",
      "set_tenant\n",
      "tenant\n"
     ]
    }
   ],
   "source": [
    "for i in dir(chroma_db_client):\n",
    "    if not i.startswith('_'):\n",
    "        print(i)"
   ]
  },
  {
   "cell_type": "code",
   "execution_count": 144,
   "id": "b2c28866-42b6-4ce4-96fa-ebd9e8783ea3",
   "metadata": {},
   "outputs": [
    {
     "data": {
      "text/plain": [
       "4"
      ]
     },
     "execution_count": 144,
     "metadata": {},
     "output_type": "execute_result"
    }
   ],
   "source": [
    "chroma_db_client.count_collections()"
   ]
  },
  {
   "cell_type": "code",
   "execution_count": 163,
   "id": "e2678f12-e43f-4504-8af7-f933f8fd1ebb",
   "metadata": {},
   "outputs": [
    {
     "data": {
      "text/plain": [
       "'default_tenant'"
      ]
     },
     "execution_count": 163,
     "metadata": {},
     "output_type": "execute_result"
    }
   ],
   "source": [
    "chroma_db_client.tenant"
   ]
  },
  {
   "cell_type": "code",
   "execution_count": 164,
   "id": "df87dc0d-6a41-41d3-a467-5a21033c441c",
   "metadata": {},
   "outputs": [
    {
     "data": {
      "text/plain": [
       "'default_database'"
      ]
     },
     "execution_count": 164,
     "metadata": {},
     "output_type": "execute_result"
    }
   ],
   "source": [
    "chroma_db_client.database"
   ]
  },
  {
   "cell_type": "code",
   "execution_count": 145,
   "id": "51cf7ee1-6d3c-44e5-ace3-aec5ceca0b63",
   "metadata": {},
   "outputs": [
    {
     "data": {
      "text/plain": [
       "[Collection(name=test_collection),\n",
       " Collection(name=hot_pot_qa_v2),\n",
       " Collection(name=context_vectors),\n",
       " Collection(name=hot_pot_qa)]"
      ]
     },
     "execution_count": 145,
     "metadata": {},
     "output_type": "execute_result"
    }
   ],
   "source": [
    "chroma_db_client.list_collections()"
   ]
  },
  {
   "cell_type": "code",
   "execution_count": 146,
   "id": "f6a4ff6c-a2ff-4267-8a8e-af250b93a4df",
   "metadata": {},
   "outputs": [
    {
     "data": {
      "text/plain": [
       "1751374660429364238"
      ]
     },
     "execution_count": 146,
     "metadata": {},
     "output_type": "execute_result"
    }
   ],
   "source": [
    "chroma_db_client.heartbeat()"
   ]
  },
  {
   "cell_type": "code",
   "execution_count": 149,
   "id": "9e10999f-7a90-4c13-90b0-059cda613c35",
   "metadata": {},
   "outputs": [
    {
     "data": {
      "text/plain": [
       "{'environment': '',\n",
       " 'chroma_api_impl': 'chromadb.api.fastapi.FastAPI',\n",
       " 'chroma_server_nofile': None,\n",
       " 'chroma_server_thread_pool_size': 40,\n",
       " 'tenant_id': 'default',\n",
       " 'topic_namespace': 'default',\n",
       " 'chroma_server_host': 'localhost',\n",
       " 'chroma_server_headers': None,\n",
       " 'chroma_server_http_port': 8010,\n",
       " 'chroma_server_ssl_enabled': False,\n",
       " 'chroma_server_ssl_verify': None,\n",
       " 'chroma_server_api_default_path': <APIVersion.V2: '/api/v2'>,\n",
       " 'chroma_server_cors_allow_origins': [],\n",
       " 'is_persistent': False,\n",
       " 'persist_directory': './chroma',\n",
       " 'chroma_memory_limit_bytes': 0,\n",
       " 'chroma_segment_cache_policy': None,\n",
       " 'allow_reset': False,\n",
       " 'chroma_auth_token_transport_header': None,\n",
       " 'chroma_client_auth_provider': None,\n",
       " 'chroma_client_auth_credentials': None,\n",
       " 'chroma_server_auth_ignore_paths': {'/api/v2': ['GET'],\n",
       "  '/api/v2/heartbeat': ['GET'],\n",
       "  '/api/v2/version': ['GET'],\n",
       "  '/api/v1': ['GET'],\n",
       "  '/api/v1/heartbeat': ['GET'],\n",
       "  '/api/v1/version': ['GET']},\n",
       " 'chroma_overwrite_singleton_tenant_database_access_from_auth': False,\n",
       " 'chroma_server_authn_provider': None,\n",
       " 'chroma_server_authn_credentials': None,\n",
       " 'chroma_server_authn_credentials_file': None,\n",
       " 'chroma_server_authz_provider': None,\n",
       " 'chroma_server_authz_config': None,\n",
       " 'chroma_server_authz_config_file': None,\n",
       " 'chroma_product_telemetry_impl': 'chromadb.telemetry.product.posthog.Posthog',\n",
       " 'chroma_telemetry_impl': 'chromadb.telemetry.product.posthog.Posthog',\n",
       " 'anonymized_telemetry': True,\n",
       " 'chroma_otel_collection_endpoint': '',\n",
       " 'chroma_otel_service_name': 'chromadb',\n",
       " 'chroma_otel_collection_headers': {},\n",
       " 'chroma_otel_granularity': None,\n",
       " 'migrations': 'apply',\n",
       " 'migrations_hash_algorithm': 'md5',\n",
       " 'chroma_segment_directory_impl': 'chromadb.segment.impl.distributed.segment_directory.RendezvousHashSegmentDirectory',\n",
       " 'chroma_segment_directory_routing_mode': <RoutingMode.ID: 'id'>,\n",
       " 'chroma_memberlist_provider_impl': 'chromadb.segment.impl.distributed.segment_directory.CustomResourceMemberlistProvider',\n",
       " 'worker_memberlist_name': 'query-service-memberlist',\n",
       " 'chroma_server_grpc_port': None,\n",
       " 'chroma_sysdb_impl': 'chromadb.db.impl.sqlite.SqliteDB',\n",
       " 'chroma_producer_impl': 'chromadb.db.impl.sqlite.SqliteDB',\n",
       " 'chroma_consumer_impl': 'chromadb.db.impl.sqlite.SqliteDB',\n",
       " 'chroma_segment_manager_impl': 'chromadb.segment.impl.manager.local.LocalSegmentManager',\n",
       " 'chroma_executor_impl': 'chromadb.execution.executor.local.LocalExecutor',\n",
       " 'chroma_query_replication_factor': 2,\n",
       " 'chroma_quota_provider_impl': None,\n",
       " 'chroma_rate_limiting_provider_impl': None,\n",
       " 'chroma_quota_enforcer_impl': 'chromadb.quota.simple_quota_enforcer.SimpleQuotaEnforcer',\n",
       " 'chroma_rate_limit_enforcer_impl': 'chromadb.rate_limit.simple_rate_limit.SimpleRateLimitEnforcer',\n",
       " 'chroma_async_rate_limit_enforcer_impl': 'chromadb.rate_limit.simple_rate_limit.SimpleAsyncRateLimitEnforcer',\n",
       " 'chroma_logservice_request_timeout_seconds': 3,\n",
       " 'chroma_sysdb_request_timeout_seconds': 3,\n",
       " 'chroma_query_request_timeout_seconds': 60,\n",
       " 'chroma_db_impl': None,\n",
       " 'chroma_collection_assignment_policy_impl': 'chromadb.ingest.impl.simple_policy.SimpleAssignmentPolicy',\n",
       " 'chroma_coordinator_host': 'localhost',\n",
       " 'chroma_logservice_host': 'localhost',\n",
       " 'chroma_logservice_port': 50052}"
      ]
     },
     "execution_count": 149,
     "metadata": {},
     "output_type": "execute_result"
    }
   ],
   "source": [
    "chroma_db_client.get_settings().__dict__"
   ]
  },
  {
   "cell_type": "code",
   "execution_count": 150,
   "id": "eb3219cf-e24b-4317-97b2-ddce05640ff8",
   "metadata": {},
   "outputs": [],
   "source": [
    "x = chroma_db_client.list_collections()"
   ]
  },
  {
   "cell_type": "code",
   "execution_count": 151,
   "id": "e6983a6f-3c66-4985-a1a0-29f6bba08093",
   "metadata": {},
   "outputs": [
    {
     "data": {
      "text/plain": [
       "'test_collection'"
      ]
     },
     "execution_count": 151,
     "metadata": {},
     "output_type": "execute_result"
    }
   ],
   "source": [
    "x[0].name"
   ]
  },
  {
   "cell_type": "code",
   "execution_count": 152,
   "id": "af918274-1865-4ee6-a930-010ae1439306",
   "metadata": {},
   "outputs": [],
   "source": [
    "col = chroma_db_client.get_collection('context_vectors')"
   ]
  },
  {
   "cell_type": "code",
   "execution_count": 154,
   "id": "1325ff89-4d1b-4916-b2d5-4309991eb72a",
   "metadata": {},
   "outputs": [
    {
     "name": "stdout",
     "output_type": "stream",
     "text": [
      "add\n",
      "configuration\n",
      "configuration_json\n",
      "count\n",
      "database\n",
      "delete\n",
      "fork\n",
      "get\n",
      "get_model\n",
      "id\n",
      "metadata\n",
      "modify\n",
      "name\n",
      "peek\n",
      "query\n",
      "tenant\n",
      "update\n",
      "upsert\n"
     ]
    }
   ],
   "source": [
    "for i in dir(col):\n",
    "    if not i.startswith('_'):\n",
    "        print(i)"
   ]
  },
  {
   "cell_type": "code",
   "execution_count": 165,
   "id": "abeceb4a-f61b-41e4-b414-e4c70e9a9d06",
   "metadata": {},
   "outputs": [
    {
     "data": {
      "text/plain": [
       "{'hnsw': {'space': 'l2',\n",
       "  'ef_construction': 100,\n",
       "  'ef_search': 100,\n",
       "  'max_neighbors': 16,\n",
       "  'resize_factor': 1.2,\n",
       "  'sync_threshold': 1000},\n",
       " 'spann': None,\n",
       " 'embedding_function': <chromadb.utils.embedding_functions.DefaultEmbeddingFunction at 0x7f5aa42307f0>}"
      ]
     },
     "execution_count": 165,
     "metadata": {},
     "output_type": "execute_result"
    }
   ],
   "source": [
    "col.configuration"
   ]
  },
  {
   "cell_type": "code",
   "execution_count": 158,
   "id": "e232f9e6-b4d9-4140-b709-ee26ec19daac",
   "metadata": {},
   "outputs": [
    {
     "data": {
      "text/plain": [
       "'context_vectors'"
      ]
     },
     "execution_count": 158,
     "metadata": {},
     "output_type": "execute_result"
    }
   ],
   "source": [
    "col.name"
   ]
  },
  {
   "cell_type": "code",
   "execution_count": 168,
   "id": "bacaba8a-3ffc-49db-8338-fa386f4a40ce",
   "metadata": {},
   "outputs": [
    {
     "data": {
      "text/plain": [
       "<chromadb.utils.embedding_functions.DefaultEmbeddingFunction at 0x7f5aa7e657e0>"
      ]
     },
     "execution_count": 168,
     "metadata": {},
     "output_type": "execute_result"
    }
   ],
   "source": [
    "col._embedding_function"
   ]
  },
  {
   "cell_type": "code",
   "execution_count": 160,
   "id": "a7c37284-a08e-4d4b-8f5d-8236178dcd7a",
   "metadata": {},
   "outputs": [],
   "source": [
    "#col.metadata"
   ]
  },
  {
   "cell_type": "code",
   "execution_count": 157,
   "id": "31e2bc3f-0bad-4f28-bd40-2158361fab97",
   "metadata": {},
   "outputs": [
    {
     "data": {
      "text/plain": [
       "{'ids': ['68627ef7277fab6848d48b77', '68627ef7277fab6848d48b87'],\n",
       " 'embeddings': array([[-3.46261080e-02, -1.26584650e-01,  1.48170420e-02,\n",
       "          4.28433940e-02,  2.23726350e-02, -4.12754200e-02,\n",
       "          1.09131390e-01,  3.61518700e-02,  4.32439740e-02,\n",
       "          3.15530600e-04, -1.03691740e-02, -1.05636660e-02,\n",
       "          4.61551060e-02, -4.43117800e-02,  1.18799160e-02,\n",
       "          5.40530120e-02,  4.40904500e-02,  1.72639840e-02,\n",
       "         -7.10629100e-02, -4.04070400e-02, -8.42604560e-02,\n",
       "         -7.05451750e-03,  8.28231200e-02,  6.73107700e-02,\n",
       "          3.76577000e-02,  1.18885670e-02, -1.32475660e-02,\n",
       "         -2.32089680e-03, -8.39760700e-03,  6.27078000e-02,\n",
       "          2.80152500e-02,  3.88735040e-03, -1.00925090e-01,\n",
       "          4.94341070e-02, -3.91585600e-02,  5.65398750e-02,\n",
       "         -6.17224100e-03,  2.16302220e-02, -3.72083300e-02,\n",
       "         -2.80250100e-02, -5.30187930e-02, -5.83693350e-02,\n",
       "         -4.60960680e-02,  2.83381400e-02, -6.91186700e-02,\n",
       "         -9.01667000e-02, -9.05898960e-02, -1.78457610e-02,\n",
       "         -4.40630430e-02, -3.06549540e-04, -8.02742300e-02,\n",
       "         -4.04598150e-02, -6.19672570e-02,  2.89134230e-02,\n",
       "          1.39674120e-02, -1.76989570e-03, -2.76771000e-03,\n",
       "          3.78715300e-03,  5.97672100e-02, -6.57692400e-03,\n",
       "          3.95063100e-02,  9.62882700e-03, -1.59333650e-02,\n",
       "         -7.40157960e-02, -4.89825100e-02,  8.18606540e-02,\n",
       "          7.56459100e-02,  7.23873440e-04,  4.10118600e-03,\n",
       "          2.61900370e-02,  7.08837500e-02,  3.48456650e-02,\n",
       "         -3.95490230e-02,  3.83318480e-02,  2.90423520e-02,\n",
       "         -1.18026870e-03,  4.66389660e-02,  1.38651170e-02,\n",
       "         -5.28041000e-03,  5.14803830e-02,  3.52843480e-02,\n",
       "         -7.63370100e-04,  4.95174800e-02, -2.93242280e-03,\n",
       "         -3.02750900e-02, -2.29168090e-02,  4.00664660e-03,\n",
       "         -7.57616000e-04, -5.65289260e-02, -1.10602020e-02,\n",
       "         -1.15402200e-02,  3.00119240e-02,  3.48698800e-02,\n",
       "         -2.07870170e-02, -6.95159960e-02, -9.19197800e-02,\n",
       "         -4.97161800e-02, -1.06827510e-01,  3.94344300e-02,\n",
       "         -5.62968900e-02, -6.13653200e-02,  5.99520200e-02,\n",
       "         -1.81345590e-02,  7.15080100e-02, -3.51279100e-02,\n",
       "         -9.84764800e-02,  5.10982720e-02,  7.57548960e-02,\n",
       "         -2.69438270e-02,  4.64527720e-02,  1.98150950e-02,\n",
       "          6.49989540e-03, -1.23147600e-02,  4.28298560e-02,\n",
       "         -5.69159770e-03, -7.43619500e-02, -3.56875800e-02,\n",
       "          5.41924500e-02, -2.22015360e-02,  1.02384020e-02,\n",
       "         -6.26959140e-03,  1.17946150e-01,  3.21289200e-02,\n",
       "         -5.21351730e-02, -4.58451170e-02, -9.49825940e-02,\n",
       "         -7.12943600e-02, -4.48836760e-34,  1.19349940e-02,\n",
       "         -1.64380560e-02,  7.30554600e-02,  4.93705700e-02,\n",
       "         -6.18364200e-02,  6.83665900e-02, -4.84878660e-03,\n",
       "          3.68051900e-02, -4.26359300e-02,  6.08151440e-02,\n",
       "         -4.25946700e-02, -2.68275440e-02, -1.72358920e-02,\n",
       "         -9.79696600e-02,  1.07945830e-01,  5.37093240e-02,\n",
       "          8.23704900e-03, -2.06365230e-02, -3.99015000e-02,\n",
       "          1.13395740e-01,  3.22185780e-03,  5.53835500e-02,\n",
       "          1.44832370e-02, -6.43407550e-02, -3.18387750e-02,\n",
       "          8.36833000e-03,  2.64052840e-02,  8.61079300e-02,\n",
       "         -6.28997400e-03, -8.12054300e-03, -2.93252190e-02,\n",
       "         -4.39317520e-02, -1.70069360e-02, -1.63495240e-02,\n",
       "         -4.76357300e-05,  1.37483930e-02, -3.35853250e-02,\n",
       "          2.30843630e-02,  7.15048900e-02,  5.05181500e-02,\n",
       "         -4.51666560e-02, -1.36056590e-02,  4.03351660e-03,\n",
       "          2.20028300e-02, -7.24929730e-04,  8.44626350e-02,\n",
       "         -4.01113200e-02, -3.01262400e-03,  3.51170670e-02,\n",
       "         -6.37610260e-02, -6.77679600e-02,  1.76865870e-02,\n",
       "         -2.98753510e-02,  7.73060600e-02, -4.35020920e-02,\n",
       "          8.02619160e-02,  2.73852680e-03,  3.42793730e-02,\n",
       "          2.00140690e-03,  4.25579600e-02, -1.00049520e-02,\n",
       "         -6.86924160e-02,  2.70619860e-02, -9.00019800e-02,\n",
       "         -1.89469590e-02,  1.39029390e-02,  9.00757500e-02,\n",
       "         -5.18990760e-02,  3.24227960e-02,  1.88015000e-04,\n",
       "         -1.47913430e-02, -4.75038030e-02,  2.28468160e-02,\n",
       "         -3.70712580e-02,  2.92577040e-02, -1.84087570e-02,\n",
       "          1.27339100e-01,  5.70773800e-04, -2.95969770e-03,\n",
       "         -2.38024400e-02, -6.49673040e-02,  1.72402100e-02,\n",
       "          9.64322200e-02,  5.07920760e-02,  2.70837550e-02,\n",
       "         -7.21329900e-02, -5.55855930e-02,  1.40955380e-03,\n",
       "         -9.65863700e-02, -2.28661900e-02, -4.23190560e-03,\n",
       "         -1.96165740e-02, -2.43488700e-02, -4.75831850e-02,\n",
       "         -7.42451200e-02, -1.68122250e-33,  1.16958550e-01,\n",
       "          6.23625850e-02,  7.28026400e-02,  1.50497030e-02,\n",
       "          1.00570485e-01, -5.82364160e-02,  1.34410920e-02,\n",
       "          2.02710220e-02,  4.30506000e-02,  8.25611950e-02,\n",
       "          3.57055100e-02, -3.43727700e-02, -3.31864600e-02,\n",
       "         -4.53161370e-02,  1.21413180e-02, -2.71836780e-02,\n",
       "          2.35112300e-02,  3.11460350e-02,  9.84401500e-03,\n",
       "         -1.00033255e-02, -7.51489600e-02,  7.26212000e-02,\n",
       "          4.66454000e-02,  3.30482900e-02,  9.99408600e-03,\n",
       "         -6.19458900e-02,  6.98655400e-02,  5.92889970e-02,\n",
       "          3.50454860e-02,  6.61734000e-04,  8.13187000e-02,\n",
       "          5.06795600e-02, -1.17019820e-02, -2.04300300e-02,\n",
       "         -2.15078650e-02, -7.30074200e-02, -1.28391760e-01,\n",
       "         -3.79658020e-03,  1.00645190e-02,  1.45981675e-02,\n",
       "         -3.97277100e-02,  4.21001900e-02, -5.04904000e-02,\n",
       "          2.82351490e-02,  3.07238140e-02,  4.07659240e-04,\n",
       "          7.01214900e-02,  1.27531140e-01,  6.41201400e-03,\n",
       "         -3.36915250e-03, -1.48622530e-03, -1.07985200e-02,\n",
       "         -3.57556550e-03,  6.21124020e-02,  6.39926940e-02,\n",
       "          3.15264130e-02,  3.79044300e-02, -3.27824730e-02,\n",
       "          5.91082760e-02,  5.91522160e-02,  5.56487630e-02,\n",
       "          2.07844340e-02,  3.43382060e-02, -2.83747100e-03,\n",
       "         -5.52692100e-02, -1.33244310e-02,  2.36979850e-02,\n",
       "         -8.19085900e-02, -8.75106800e-03,  1.75382420e-02,\n",
       "         -4.28473130e-02,  5.25329700e-02,  1.53980910e-02,\n",
       "          1.62095950e-02, -9.71954600e-02, -6.33207560e-02,\n",
       "         -1.35912950e-01, -7.01767060e-02,  3.46716230e-02,\n",
       "         -6.43264950e-02,  3.30191620e-03,  1.16581080e-01,\n",
       "         -8.60274200e-03, -8.28293700e-03,  4.66627930e-02,\n",
       "         -2.83533100e-02, -2.24889200e-02, -9.60900400e-03,\n",
       "          8.03508330e-04, -7.66729500e-02,  1.37059480e-02,\n",
       "         -5.32314180e-02, -6.98703450e-02, -3.69802230e-02,\n",
       "         -3.89955570e-02, -5.28911140e-08,  1.58514570e-02,\n",
       "          1.06310435e-01, -5.54051540e-04, -2.88163350e-02,\n",
       "          6.52359300e-02,  5.48969840e-02,  3.23898400e-02,\n",
       "         -5.43863330e-02,  4.75999150e-02,  1.05633880e-02,\n",
       "         -4.62352260e-02, -4.94370130e-02, -2.67062200e-02,\n",
       "          1.46504480e-02, -6.90771300e-02, -6.49605900e-02,\n",
       "          4.44660930e-02,  1.36845990e-02,  6.28946630e-03,\n",
       "          3.03845240e-02,  4.07518040e-02, -6.16389230e-03,\n",
       "          5.38168400e-02, -8.74316840e-02,  4.06276250e-03,\n",
       "         -5.96200230e-02, -8.48441200e-02,  3.14904200e-02,\n",
       "         -3.82261870e-02, -5.81692980e-02,  5.59427100e-02,\n",
       "         -4.11029940e-02,  5.08351180e-02,  1.03156290e-01,\n",
       "          2.28098650e-02, -5.62998400e-02, -3.52887550e-02,\n",
       "          9.34068100e-02, -8.92378700e-02,  1.27917140e-02,\n",
       "          7.72979300e-02,  6.99315600e-02,  1.18358940e-01,\n",
       "          3.97773830e-02, -1.13637425e-01, -6.71522540e-02,\n",
       "         -1.85292610e-03, -6.64565770e-04,  4.48357200e-02,\n",
       "          7.77709100e-02,  2.67783180e-02, -5.62071200e-02,\n",
       "         -9.00046900e-02, -4.74679730e-02,  7.51414340e-03,\n",
       "          2.54373890e-02, -6.30989400e-02,  1.47626850e-02,\n",
       "         -3.57627900e-02,  2.39255780e-02,  1.53331410e-02,\n",
       "         -1.06785600e-01,  2.54974440e-02, -8.12323840e-02],\n",
       "        [-4.70910330e-02, -1.35922360e-01,  4.18748000e-02,\n",
       "          8.33058200e-02, -6.72446640e-02, -1.79677250e-02,\n",
       "          1.22526170e-01,  2.88138130e-02,  4.40194500e-02,\n",
       "         -3.39108780e-02, -7.00477700e-02,  2.13123100e-02,\n",
       "          4.50157400e-02, -5.24509900e-02, -4.85101760e-03,\n",
       "          9.43502860e-02,  8.08590600e-02,  5.01213100e-02,\n",
       "         -4.11453770e-02, -1.22304745e-02, -5.31959300e-03,\n",
       "         -1.50428870e-02,  2.68820620e-02,  7.77411500e-02,\n",
       "          2.09100500e-02, -2.14818250e-02, -3.89879600e-02,\n",
       "          2.87231470e-02, -4.30320130e-02,  1.22656270e-02,\n",
       "          1.24342510e-02,  6.14611400e-03, -8.91270800e-02,\n",
       "          4.07962100e-02, -7.61896100e-02, -6.54651500e-02,\n",
       "          7.68918400e-03,  4.20190240e-02, -9.04852100e-02,\n",
       "         -5.93047920e-02, -5.70440850e-03, -5.43325660e-02,\n",
       "         -4.77070620e-02, -2.00333040e-02,  9.56204800e-03,\n",
       "         -3.92937200e-02, -2.60989890e-02, -4.56481650e-02,\n",
       "         -7.80140400e-02, -1.53989760e-02, -7.86339800e-02,\n",
       "          3.40497630e-03, -6.70423360e-02,  4.26449860e-03,\n",
       "         -2.23611980e-02,  2.34626460e-02, -8.72178750e-03,\n",
       "          5.35358300e-02,  7.57088700e-02,  6.07664930e-03,\n",
       "          6.46264200e-02, -1.65595730e-02, -1.56627330e-02,\n",
       "         -3.02036520e-02,  1.07768340e-02,  4.80453040e-02,\n",
       "          4.95552460e-02,  3.36339600e-02,  2.87297850e-02,\n",
       "          3.35483480e-02,  9.63707300e-02, -1.62038800e-02,\n",
       "         -7.93420750e-02, -1.63370330e-02,  5.41274900e-03,\n",
       "          4.42796650e-02,  9.30972900e-02, -8.87939000e-03,\n",
       "          9.22519300e-03,  6.47641700e-02,  7.48665300e-02,\n",
       "         -3.18429400e-02,  1.03372330e-01, -3.20684500e-02,\n",
       "         -5.91298640e-02, -8.53774900e-02, -3.13134900e-02,\n",
       "          9.46139400e-04, -1.25138950e-01,  5.98327630e-03,\n",
       "         -1.79011370e-02,  2.70485580e-02,  2.61025950e-03,\n",
       "         -5.36862870e-02,  6.36647700e-03, -5.89783000e-02,\n",
       "         -3.49792650e-02, -9.09149600e-02,  4.50706780e-02,\n",
       "          3.70245050e-02, -2.97220130e-02,  5.00358500e-02,\n",
       "         -7.13240360e-02,  6.26065300e-02, -2.53697760e-02,\n",
       "         -6.49508760e-02,  1.18539510e-01, -2.32908650e-02,\n",
       "         -3.56958620e-02, -2.39574400e-02,  3.22146230e-02,\n",
       "         -1.81222610e-02, -4.23079400e-02,  1.73769540e-02,\n",
       "          1.52928100e-02,  7.86326500e-03,  3.96286700e-03,\n",
       "          7.52263500e-02,  6.55324400e-02, -5.01662700e-03,\n",
       "         -3.79234800e-02,  2.41608620e-02,  3.48566170e-02,\n",
       "         -3.91694070e-03, -1.97287690e-02, -8.98557200e-02,\n",
       "         -4.89107370e-02, -2.12842940e-33, -2.36317250e-02,\n",
       "         -4.30393030e-02,  5.59019930e-02,  3.42824270e-02,\n",
       "         -9.25279600e-03,  2.55022550e-02,  2.98248050e-02,\n",
       "          1.52489490e-02, -3.12078190e-02,  6.34342200e-02,\n",
       "          7.14666700e-03,  5.24550560e-02,  7.69307740e-03,\n",
       "         -6.58512560e-02,  1.11343060e-01,  7.25354300e-02,\n",
       "          2.18312930e-02, -7.66561550e-03, -1.82205850e-02,\n",
       "          1.02376595e-01,  4.44878700e-02,  7.92601900e-02,\n",
       "          1.11550850e-02, -2.12146700e-02,  1.89150090e-02,\n",
       "          6.22196900e-02,  4.24617900e-02,  3.95633840e-02,\n",
       "         -3.66889280e-02,  3.22011970e-04, -1.04067950e-02,\n",
       "         -3.18197460e-02,  3.62301320e-02,  3.54293700e-02,\n",
       "          3.41812450e-02, -7.37974330e-03, -5.51330150e-02,\n",
       "          7.16240200e-02,  8.51267300e-02,  3.30807300e-02,\n",
       "         -1.62278280e-02, -3.83884530e-02, -1.01742200e-02,\n",
       "         -2.30007340e-02, -7.31196850e-02,  8.62879460e-02,\n",
       "         -1.74227640e-02, -2.36209560e-02,  5.65721540e-02,\n",
       "         -3.01482730e-02,  3.10800410e-02,  1.20248250e-02,\n",
       "         -1.86269860e-02,  8.34850300e-02, -6.57267350e-02,\n",
       "          8.34900140e-02, -3.45845850e-03, -2.01922560e-02,\n",
       "          1.03428945e-01,  8.08583850e-03, -5.96909000e-03,\n",
       "         -6.01762980e-02, -3.09705570e-02, -6.15158080e-02,\n",
       "          1.19769350e-02,  7.97490600e-02,  1.60596690e-02,\n",
       "         -3.59860710e-03,  5.28828470e-03, -4.13830400e-05,\n",
       "         -3.63595630e-02, -3.60451500e-02, -3.83644100e-03,\n",
       "         -6.00817200e-02,  1.01683766e-01, -2.87481960e-02,\n",
       "          4.24600470e-02, -2.16456200e-02, -2.96918620e-02,\n",
       "          3.07406430e-02, -6.03282800e-02,  2.04793810e-02,\n",
       "          6.55883550e-02,  4.11976350e-02,  1.97371470e-02,\n",
       "         -4.92569250e-02, -4.65630140e-02,  4.73386350e-02,\n",
       "          6.73746970e-03,  1.64282490e-02,  1.36717670e-02,\n",
       "         -2.58966160e-02,  6.74480850e-03, -4.50181080e-03,\n",
       "         -3.76619960e-02,  9.78445800e-35,  8.66658900e-02,\n",
       "          2.97879320e-02,  3.10101230e-02,  7.67229650e-02,\n",
       "          1.43591870e-01,  1.56511030e-02, -2.99013700e-02,\n",
       "          8.71162000e-02,  4.46357350e-02,  4.16790730e-02,\n",
       "          6.45930100e-02, -2.34937690e-02, -2.53322600e-02,\n",
       "         -3.18944040e-02, -3.68842970e-03, -1.93966850e-02,\n",
       "         -5.97941400e-02, -3.14004700e-02, -4.65920270e-02,\n",
       "         -3.09025870e-04, -7.19107800e-02,  8.64445700e-02,\n",
       "          6.05316600e-02,  3.28448100e-02,  1.27265410e-02,\n",
       "         -4.81629560e-02,  4.02456340e-02,  1.95100510e-02,\n",
       "          6.27408500e-02,  4.31271550e-03, -5.59527760e-02,\n",
       "          3.64388450e-02, -6.05456620e-03, -3.92486100e-02,\n",
       "          6.03818500e-03, -3.87610100e-02, -8.19891100e-02,\n",
       "         -8.03611800e-02, -3.64501550e-02,  5.70965970e-02,\n",
       "         -5.89022670e-02,  1.47529710e-02, -7.25312400e-02,\n",
       "          2.32501850e-02,  8.20430100e-02,  1.77995380e-02,\n",
       "         -5.62354220e-03,  1.36868280e-01,  1.19784890e-01,\n",
       "         -2.02280560e-03,  1.11357160e-02,  7.75121340e-03,\n",
       "         -4.15300200e-03,  1.04729820e-01,  3.78635820e-02,\n",
       "         -4.04864000e-02,  5.91915060e-02, -9.17178500e-03,\n",
       "          6.55726200e-02,  1.04908320e-01, -2.78849390e-03,\n",
       "         -5.54930050e-02,  5.31429500e-02, -1.49273840e-01,\n",
       "         -3.26697080e-02, -1.94912530e-03,  3.00585530e-02,\n",
       "         -6.30610360e-02, -6.14957300e-02,  1.97223270e-03,\n",
       "         -3.70358680e-02,  1.17261990e-03, -4.12212600e-02,\n",
       "          1.53711200e-02, -7.40625300e-02, -3.64729840e-02,\n",
       "         -9.10075300e-02, -7.86496850e-02, -4.94547500e-03,\n",
       "         -5.23076280e-02, -4.42866460e-02,  7.68721400e-02,\n",
       "          1.17882020e-02,  3.10271400e-03,  7.55721000e-02,\n",
       "          2.45218030e-02,  1.57587000e-02, -1.37269270e-02,\n",
       "         -5.17808650e-03, -1.06161790e-02,  2.92591880e-02,\n",
       "         -5.24815000e-02, -6.59034100e-02, -1.68887100e-02,\n",
       "         -3.47191700e-02, -5.26615100e-08, -5.66326640e-03,\n",
       "          6.47804000e-02, -2.47901450e-02, -3.94476880e-02,\n",
       "          3.01373200e-02,  5.95590030e-02,  1.87642050e-02,\n",
       "         -2.94937140e-02,  5.70052200e-02, -1.19510880e-02,\n",
       "          2.43213060e-02, -5.47733050e-02, -2.41521540e-02,\n",
       "          1.68804120e-02, -9.88043900e-02, -3.11034280e-02,\n",
       "          2.93261050e-02, -5.85790570e-02, -1.20837325e-02,\n",
       "          4.81282920e-02,  3.44616300e-03, -2.92536500e-02,\n",
       "          4.98493160e-02, -1.20140880e-01,  8.75613000e-03,\n",
       "         -8.30900000e-02, -9.24115260e-02,  2.32219600e-04,\n",
       "         -6.47507560e-03, -2.86066350e-02,  4.12101000e-02,\n",
       "         -1.33621910e-02,  4.60267100e-02,  1.98265170e-02,\n",
       "         -8.20014100e-02, -6.01185150e-02,  7.78158800e-02,\n",
       "          4.44516350e-02, -6.86613540e-02, -1.81281940e-02,\n",
       "          2.20959130e-02,  4.38264700e-02,  1.02118910e-01,\n",
       "          5.26419770e-02, -1.16890570e-01, -4.32264250e-02,\n",
       "          5.82160000e-02, -8.38805000e-02,  1.68258470e-02,\n",
       "          3.67379640e-02,  2.70858200e-02, -6.75749300e-02,\n",
       "         -7.88870400e-02, -1.37530430e-02, -5.35982900e-03,\n",
       "          2.92621700e-02, -4.55230060e-02, -3.50815700e-03,\n",
       "         -3.81965260e-02,  3.30905600e-02,  2.14728000e-02,\n",
       "         -1.14876516e-01,  7.44931700e-03, -7.95849560e-02]]),\n",
       " 'metadatas': [{'context_hash': '5566f9c0998385b8a8a2c94aa64aa980',\n",
       "   'title': 'Beyoncé'},\n",
       "  {'context_hash': 'aad018fe3b6d1cb98a948e676d7c8036', 'title': 'Beyoncé'}],\n",
       " 'documents': ['Beyoncé Giselle Knowles-Carter (/biːˈjɒnseɪ/ bee-YON-say) (born September 4, 1981) is an American singer, songwriter, record producer and actress. Born and raised in Houston, Texas, she performed in various singing and dancing competitions as a child, and rose to fame in the late 1990s as lead singer of R&B girl-group Destiny\\'s Child. Managed by her father, Mathew Knowles, the group became one of the world\\'s best-selling girl groups of all time. Their hiatus saw the release of Beyoncé\\'s debut album, Dangerously in Love (2003), which established her as a solo artist worldwide, earned five Grammy Awards and featured the Billboard Hot 100 number-one singles \"Crazy in Love\" and \"Baby Boy\".',\n",
       "  'Following the disbandment of Destiny\\'s Child in June 2005, she released her second solo album, B\\'Day (2006), which contained hits \"Déjà Vu\", \"Irreplaceable\", and \"Beautiful Liar\". Beyoncé also ventured into acting, with a Golden Globe-nominated performance in Dreamgirls (2006), and starring roles in The Pink Panther (2006) and Obsessed (2009). Her marriage to rapper Jay Z and portrayal of Etta James in Cadillac Records (2008) influenced her third album, I Am... Sasha Fierce (2008), which saw the birth of her alter-ego Sasha Fierce and earned a record-setting six Grammy Awards in 2010, including Song of the Year for \"Single Ladies (Put a Ring on It)\". Beyoncé took a hiatus from music in 2010 and took over management of her career; her fourth album 4 (2011) was subsequently mellower in tone, exploring 1970s funk, 1980s pop, and 1990s soul. Her critically acclaimed fifth studio album, Beyoncé (2013), was distinguished from previous releases by its experimental production and exploration of darker themes.'],\n",
       " 'data': None,\n",
       " 'uris': None,\n",
       " 'included': ['metadatas', 'documents', 'embeddings']}"
      ]
     },
     "execution_count": 157,
     "metadata": {},
     "output_type": "execute_result"
    }
   ],
   "source": [
    "col.peek(2)"
   ]
  },
  {
   "cell_type": "code",
   "execution_count": 162,
   "id": "4cf36389-6d08-400e-b508-8f6ff48b0437",
   "metadata": {},
   "outputs": [
    {
     "name": "stdout",
     "output_type": "stream",
     "text": [
      "Expected embeddings to be a list of floats or ints, a list of lists, a numpy array, or a list of numpy arrays, got Who is Mathew Knowles? in query.\n"
     ]
    }
   ],
   "source": [
    "try:\n",
    "    col.query('Who is Mathew Knowles?')\n",
    "except Exception as e:\n",
    "    print(e)"
   ]
  },
  {
   "cell_type": "markdown",
   "id": "9492602b-5bf5-416d-907c-1bdea5c220fa",
   "metadata": {},
   "source": [
    "#### As expected, vector db just runs similarity search on stored vectors. Since embedding model is not available to the model it cant handle text input"
   ]
  },
  {
   "cell_type": "code",
   "execution_count": 170,
   "id": "13e563b1-0230-48ee-bdc0-366e7cf3f5e8",
   "metadata": {},
   "outputs": [
    {
     "data": {
      "text/plain": [
       "[Collection(name=test_collection),\n",
       " Collection(name=hot_pot_qa_v2),\n",
       " Collection(name=context_vectors),\n",
       " Collection(name=hot_pot_qa)]"
      ]
     },
     "execution_count": 170,
     "metadata": {},
     "output_type": "execute_result"
    }
   ],
   "source": [
    "chroma_db_client.list_collections()"
   ]
  },
  {
   "cell_type": "code",
   "execution_count": 171,
   "id": "36bc07c4-0ab9-4edc-9d4e-eaa4702beac4",
   "metadata": {},
   "outputs": [],
   "source": [
    "col = chroma_db_client.get_collection('context_vectors')"
   ]
  },
  {
   "cell_type": "code",
   "execution_count": 172,
   "id": "c33ef84d-4b81-4cb9-9dbe-e148d3cd32cc",
   "metadata": {},
   "outputs": [
    {
     "data": {
      "text/plain": [
       "['__annotations__',\n",
       " '__class__',\n",
       " '__class_getitem__',\n",
       " '__delattr__',\n",
       " '__dict__',\n",
       " '__dir__',\n",
       " '__doc__',\n",
       " '__eq__',\n",
       " '__format__',\n",
       " '__ge__',\n",
       " '__getattribute__',\n",
       " '__gt__',\n",
       " '__hash__',\n",
       " '__init__',\n",
       " '__init_subclass__',\n",
       " '__le__',\n",
       " '__lt__',\n",
       " '__module__',\n",
       " '__ne__',\n",
       " '__new__',\n",
       " '__orig_bases__',\n",
       " '__parameters__',\n",
       " '__reduce__',\n",
       " '__reduce_ex__',\n",
       " '__repr__',\n",
       " '__setattr__',\n",
       " '__sizeof__',\n",
       " '__slots__',\n",
       " '__str__',\n",
       " '__subclasshook__',\n",
       " '__weakref__',\n",
       " '_client',\n",
       " '_data_loader',\n",
       " '_embed',\n",
       " '_embed_record_set',\n",
       " '_embedding_function',\n",
       " '_is_protocol',\n",
       " '_model',\n",
       " '_transform_get_response',\n",
       " '_transform_peek_response',\n",
       " '_transform_query_response',\n",
       " '_update_model_after_modify_success',\n",
       " '_validate_and_prepare_add_request',\n",
       " '_validate_and_prepare_delete_request',\n",
       " '_validate_and_prepare_get_request',\n",
       " '_validate_and_prepare_query_request',\n",
       " '_validate_and_prepare_update_request',\n",
       " '_validate_and_prepare_upsert_request',\n",
       " '_validate_modify_request',\n",
       " 'add',\n",
       " 'configuration',\n",
       " 'configuration_json',\n",
       " 'count',\n",
       " 'database',\n",
       " 'delete',\n",
       " 'fork',\n",
       " 'get',\n",
       " 'get_model',\n",
       " 'id',\n",
       " 'metadata',\n",
       " 'modify',\n",
       " 'name',\n",
       " 'peek',\n",
       " 'query',\n",
       " 'tenant',\n",
       " 'update',\n",
       " 'upsert']"
      ]
     },
     "execution_count": 172,
     "metadata": {},
     "output_type": "execute_result"
    }
   ],
   "source": [
    "dir(col)"
   ]
  },
  {
   "cell_type": "code",
   "execution_count": 173,
   "id": "56d5f9a3-b879-4435-9119-f86d6563096e",
   "metadata": {},
   "outputs": [
    {
     "data": {
      "text/plain": [
       "19029"
      ]
     },
     "execution_count": 173,
     "metadata": {},
     "output_type": "execute_result"
    }
   ],
   "source": [
    "col.count()"
   ]
  },
  {
   "cell_type": "code",
   "execution_count": 175,
   "id": "fc72afd2-ee88-46b0-a219-f58cee8c65da",
   "metadata": {},
   "outputs": [
    {
     "data": {
      "text/plain": [
       "{'ids': ['68627ef7277fab6848d48b77'],\n",
       " 'embeddings': array([[-3.46261080e-02, -1.26584650e-01,  1.48170420e-02,\n",
       "          4.28433940e-02,  2.23726350e-02, -4.12754200e-02,\n",
       "          1.09131390e-01,  3.61518700e-02,  4.32439740e-02,\n",
       "          3.15530600e-04, -1.03691740e-02, -1.05636660e-02,\n",
       "          4.61551060e-02, -4.43117800e-02,  1.18799160e-02,\n",
       "          5.40530120e-02,  4.40904500e-02,  1.72639840e-02,\n",
       "         -7.10629100e-02, -4.04070400e-02, -8.42604560e-02,\n",
       "         -7.05451750e-03,  8.28231200e-02,  6.73107700e-02,\n",
       "          3.76577000e-02,  1.18885670e-02, -1.32475660e-02,\n",
       "         -2.32089680e-03, -8.39760700e-03,  6.27078000e-02,\n",
       "          2.80152500e-02,  3.88735040e-03, -1.00925090e-01,\n",
       "          4.94341070e-02, -3.91585600e-02,  5.65398750e-02,\n",
       "         -6.17224100e-03,  2.16302220e-02, -3.72083300e-02,\n",
       "         -2.80250100e-02, -5.30187930e-02, -5.83693350e-02,\n",
       "         -4.60960680e-02,  2.83381400e-02, -6.91186700e-02,\n",
       "         -9.01667000e-02, -9.05898960e-02, -1.78457610e-02,\n",
       "         -4.40630430e-02, -3.06549540e-04, -8.02742300e-02,\n",
       "         -4.04598150e-02, -6.19672570e-02,  2.89134230e-02,\n",
       "          1.39674120e-02, -1.76989570e-03, -2.76771000e-03,\n",
       "          3.78715300e-03,  5.97672100e-02, -6.57692400e-03,\n",
       "          3.95063100e-02,  9.62882700e-03, -1.59333650e-02,\n",
       "         -7.40157960e-02, -4.89825100e-02,  8.18606540e-02,\n",
       "          7.56459100e-02,  7.23873440e-04,  4.10118600e-03,\n",
       "          2.61900370e-02,  7.08837500e-02,  3.48456650e-02,\n",
       "         -3.95490230e-02,  3.83318480e-02,  2.90423520e-02,\n",
       "         -1.18026870e-03,  4.66389660e-02,  1.38651170e-02,\n",
       "         -5.28041000e-03,  5.14803830e-02,  3.52843480e-02,\n",
       "         -7.63370100e-04,  4.95174800e-02, -2.93242280e-03,\n",
       "         -3.02750900e-02, -2.29168090e-02,  4.00664660e-03,\n",
       "         -7.57616000e-04, -5.65289260e-02, -1.10602020e-02,\n",
       "         -1.15402200e-02,  3.00119240e-02,  3.48698800e-02,\n",
       "         -2.07870170e-02, -6.95159960e-02, -9.19197800e-02,\n",
       "         -4.97161800e-02, -1.06827510e-01,  3.94344300e-02,\n",
       "         -5.62968900e-02, -6.13653200e-02,  5.99520200e-02,\n",
       "         -1.81345590e-02,  7.15080100e-02, -3.51279100e-02,\n",
       "         -9.84764800e-02,  5.10982720e-02,  7.57548960e-02,\n",
       "         -2.69438270e-02,  4.64527720e-02,  1.98150950e-02,\n",
       "          6.49989540e-03, -1.23147600e-02,  4.28298560e-02,\n",
       "         -5.69159770e-03, -7.43619500e-02, -3.56875800e-02,\n",
       "          5.41924500e-02, -2.22015360e-02,  1.02384020e-02,\n",
       "         -6.26959140e-03,  1.17946150e-01,  3.21289200e-02,\n",
       "         -5.21351730e-02, -4.58451170e-02, -9.49825940e-02,\n",
       "         -7.12943600e-02, -4.48836760e-34,  1.19349940e-02,\n",
       "         -1.64380560e-02,  7.30554600e-02,  4.93705700e-02,\n",
       "         -6.18364200e-02,  6.83665900e-02, -4.84878660e-03,\n",
       "          3.68051900e-02, -4.26359300e-02,  6.08151440e-02,\n",
       "         -4.25946700e-02, -2.68275440e-02, -1.72358920e-02,\n",
       "         -9.79696600e-02,  1.07945830e-01,  5.37093240e-02,\n",
       "          8.23704900e-03, -2.06365230e-02, -3.99015000e-02,\n",
       "          1.13395740e-01,  3.22185780e-03,  5.53835500e-02,\n",
       "          1.44832370e-02, -6.43407550e-02, -3.18387750e-02,\n",
       "          8.36833000e-03,  2.64052840e-02,  8.61079300e-02,\n",
       "         -6.28997400e-03, -8.12054300e-03, -2.93252190e-02,\n",
       "         -4.39317520e-02, -1.70069360e-02, -1.63495240e-02,\n",
       "         -4.76357300e-05,  1.37483930e-02, -3.35853250e-02,\n",
       "          2.30843630e-02,  7.15048900e-02,  5.05181500e-02,\n",
       "         -4.51666560e-02, -1.36056590e-02,  4.03351660e-03,\n",
       "          2.20028300e-02, -7.24929730e-04,  8.44626350e-02,\n",
       "         -4.01113200e-02, -3.01262400e-03,  3.51170670e-02,\n",
       "         -6.37610260e-02, -6.77679600e-02,  1.76865870e-02,\n",
       "         -2.98753510e-02,  7.73060600e-02, -4.35020920e-02,\n",
       "          8.02619160e-02,  2.73852680e-03,  3.42793730e-02,\n",
       "          2.00140690e-03,  4.25579600e-02, -1.00049520e-02,\n",
       "         -6.86924160e-02,  2.70619860e-02, -9.00019800e-02,\n",
       "         -1.89469590e-02,  1.39029390e-02,  9.00757500e-02,\n",
       "         -5.18990760e-02,  3.24227960e-02,  1.88015000e-04,\n",
       "         -1.47913430e-02, -4.75038030e-02,  2.28468160e-02,\n",
       "         -3.70712580e-02,  2.92577040e-02, -1.84087570e-02,\n",
       "          1.27339100e-01,  5.70773800e-04, -2.95969770e-03,\n",
       "         -2.38024400e-02, -6.49673040e-02,  1.72402100e-02,\n",
       "          9.64322200e-02,  5.07920760e-02,  2.70837550e-02,\n",
       "         -7.21329900e-02, -5.55855930e-02,  1.40955380e-03,\n",
       "         -9.65863700e-02, -2.28661900e-02, -4.23190560e-03,\n",
       "         -1.96165740e-02, -2.43488700e-02, -4.75831850e-02,\n",
       "         -7.42451200e-02, -1.68122250e-33,  1.16958550e-01,\n",
       "          6.23625850e-02,  7.28026400e-02,  1.50497030e-02,\n",
       "          1.00570485e-01, -5.82364160e-02,  1.34410920e-02,\n",
       "          2.02710220e-02,  4.30506000e-02,  8.25611950e-02,\n",
       "          3.57055100e-02, -3.43727700e-02, -3.31864600e-02,\n",
       "         -4.53161370e-02,  1.21413180e-02, -2.71836780e-02,\n",
       "          2.35112300e-02,  3.11460350e-02,  9.84401500e-03,\n",
       "         -1.00033255e-02, -7.51489600e-02,  7.26212000e-02,\n",
       "          4.66454000e-02,  3.30482900e-02,  9.99408600e-03,\n",
       "         -6.19458900e-02,  6.98655400e-02,  5.92889970e-02,\n",
       "          3.50454860e-02,  6.61734000e-04,  8.13187000e-02,\n",
       "          5.06795600e-02, -1.17019820e-02, -2.04300300e-02,\n",
       "         -2.15078650e-02, -7.30074200e-02, -1.28391760e-01,\n",
       "         -3.79658020e-03,  1.00645190e-02,  1.45981675e-02,\n",
       "         -3.97277100e-02,  4.21001900e-02, -5.04904000e-02,\n",
       "          2.82351490e-02,  3.07238140e-02,  4.07659240e-04,\n",
       "          7.01214900e-02,  1.27531140e-01,  6.41201400e-03,\n",
       "         -3.36915250e-03, -1.48622530e-03, -1.07985200e-02,\n",
       "         -3.57556550e-03,  6.21124020e-02,  6.39926940e-02,\n",
       "          3.15264130e-02,  3.79044300e-02, -3.27824730e-02,\n",
       "          5.91082760e-02,  5.91522160e-02,  5.56487630e-02,\n",
       "          2.07844340e-02,  3.43382060e-02, -2.83747100e-03,\n",
       "         -5.52692100e-02, -1.33244310e-02,  2.36979850e-02,\n",
       "         -8.19085900e-02, -8.75106800e-03,  1.75382420e-02,\n",
       "         -4.28473130e-02,  5.25329700e-02,  1.53980910e-02,\n",
       "          1.62095950e-02, -9.71954600e-02, -6.33207560e-02,\n",
       "         -1.35912950e-01, -7.01767060e-02,  3.46716230e-02,\n",
       "         -6.43264950e-02,  3.30191620e-03,  1.16581080e-01,\n",
       "         -8.60274200e-03, -8.28293700e-03,  4.66627930e-02,\n",
       "         -2.83533100e-02, -2.24889200e-02, -9.60900400e-03,\n",
       "          8.03508330e-04, -7.66729500e-02,  1.37059480e-02,\n",
       "         -5.32314180e-02, -6.98703450e-02, -3.69802230e-02,\n",
       "         -3.89955570e-02, -5.28911140e-08,  1.58514570e-02,\n",
       "          1.06310435e-01, -5.54051540e-04, -2.88163350e-02,\n",
       "          6.52359300e-02,  5.48969840e-02,  3.23898400e-02,\n",
       "         -5.43863330e-02,  4.75999150e-02,  1.05633880e-02,\n",
       "         -4.62352260e-02, -4.94370130e-02, -2.67062200e-02,\n",
       "          1.46504480e-02, -6.90771300e-02, -6.49605900e-02,\n",
       "          4.44660930e-02,  1.36845990e-02,  6.28946630e-03,\n",
       "          3.03845240e-02,  4.07518040e-02, -6.16389230e-03,\n",
       "          5.38168400e-02, -8.74316840e-02,  4.06276250e-03,\n",
       "         -5.96200230e-02, -8.48441200e-02,  3.14904200e-02,\n",
       "         -3.82261870e-02, -5.81692980e-02,  5.59427100e-02,\n",
       "         -4.11029940e-02,  5.08351180e-02,  1.03156290e-01,\n",
       "          2.28098650e-02, -5.62998400e-02, -3.52887550e-02,\n",
       "          9.34068100e-02, -8.92378700e-02,  1.27917140e-02,\n",
       "          7.72979300e-02,  6.99315600e-02,  1.18358940e-01,\n",
       "          3.97773830e-02, -1.13637425e-01, -6.71522540e-02,\n",
       "         -1.85292610e-03, -6.64565770e-04,  4.48357200e-02,\n",
       "          7.77709100e-02,  2.67783180e-02, -5.62071200e-02,\n",
       "         -9.00046900e-02, -4.74679730e-02,  7.51414340e-03,\n",
       "          2.54373890e-02, -6.30989400e-02,  1.47626850e-02,\n",
       "         -3.57627900e-02,  2.39255780e-02,  1.53331410e-02,\n",
       "         -1.06785600e-01,  2.54974440e-02, -8.12323840e-02]]),\n",
       " 'metadatas': [{'title': 'Beyoncé',\n",
       "   'context_hash': '5566f9c0998385b8a8a2c94aa64aa980'}],\n",
       " 'documents': ['Beyoncé Giselle Knowles-Carter (/biːˈjɒnseɪ/ bee-YON-say) (born September 4, 1981) is an American singer, songwriter, record producer and actress. Born and raised in Houston, Texas, she performed in various singing and dancing competitions as a child, and rose to fame in the late 1990s as lead singer of R&B girl-group Destiny\\'s Child. Managed by her father, Mathew Knowles, the group became one of the world\\'s best-selling girl groups of all time. Their hiatus saw the release of Beyoncé\\'s debut album, Dangerously in Love (2003), which established her as a solo artist worldwide, earned five Grammy Awards and featured the Billboard Hot 100 number-one singles \"Crazy in Love\" and \"Baby Boy\".'],\n",
       " 'data': None,\n",
       " 'uris': None,\n",
       " 'included': ['metadatas', 'documents', 'embeddings']}"
      ]
     },
     "execution_count": 175,
     "metadata": {},
     "output_type": "execute_result"
    }
   ],
   "source": [
    "chroma_db_client.get_collection('context_vectors').peek(1)"
   ]
  },
  {
   "cell_type": "code",
   "execution_count": null,
   "id": "254d8d40-67fe-4951-bb4c-da52b74277c3",
   "metadata": {},
   "outputs": [],
   "source": []
  }
 ],
 "metadata": {
  "kernelspec": {
   "display_name": "Python 3 (ipykernel)",
   "language": "python",
   "name": "python3"
  },
  "language_info": {
   "codemirror_mode": {
    "name": "ipython",
    "version": 3
   },
   "file_extension": ".py",
   "mimetype": "text/x-python",
   "name": "python",
   "nbconvert_exporter": "python",
   "pygments_lexer": "ipython3",
   "version": "3.10.12"
  }
 },
 "nbformat": 4,
 "nbformat_minor": 5
}
