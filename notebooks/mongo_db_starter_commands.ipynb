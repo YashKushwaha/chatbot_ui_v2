{
 "cells": [
  {
   "cell_type": "code",
   "execution_count": 1,
   "id": "0b3d65eb-0205-43e4-8d92-adc796b0b3c5",
   "metadata": {},
   "outputs": [],
   "source": [
    "from pymongo import MongoClient"
   ]
  },
  {
   "cell_type": "code",
   "execution_count": 2,
   "id": "d5ece9d0-110b-42ac-ad8a-fed6de81de01",
   "metadata": {},
   "outputs": [],
   "source": [
    "client = MongoClient(\"mongodb://localhost:27017/\")"
   ]
  },
  {
   "cell_type": "code",
   "execution_count": 3,
   "id": "cf14d281-7a67-4eee-8485-2634be103541",
   "metadata": {},
   "outputs": [],
   "source": [
    "#dir(client)"
   ]
  },
  {
   "cell_type": "code",
   "execution_count": null,
   "id": "995ed6c1-0dbd-4024-9186-b096c110b263",
   "metadata": {},
   "outputs": [],
   "source": []
  },
  {
   "cell_type": "code",
   "execution_count": 4,
   "id": "17d08e42-549a-4774-959d-a8c8ebb58897",
   "metadata": {},
   "outputs": [
    {
     "data": {
      "text/plain": [
       "['admin', 'agent_evaluation_db', 'config', 'local']"
      ]
     },
     "execution_count": 4,
     "metadata": {},
     "output_type": "execute_result"
    }
   ],
   "source": [
    "client.list_database_names()"
   ]
  },
  {
   "cell_type": "code",
   "execution_count": 5,
   "id": "f75dafa0-9624-48eb-b9b1-d00117e611c6",
   "metadata": {},
   "outputs": [
    {
     "data": {
      "text/plain": [
       "Database(MongoClient(host=['localhost:27017'], document_class=dict, tz_aware=False, connect=True), 'abc')"
      ]
     },
     "execution_count": 5,
     "metadata": {},
     "output_type": "execute_result"
    }
   ],
   "source": [
    "client['abc']"
   ]
  },
  {
   "cell_type": "markdown",
   "id": "21bafaeb-57d3-4220-952d-9eab5462c00e",
   "metadata": {},
   "source": [
    "#### Note we dont get an error if database doesn't exist"
   ]
  },
  {
   "cell_type": "code",
   "execution_count": 6,
   "id": "c4c2aa55-0d8e-4ea6-9fde-25d71d653f08",
   "metadata": {},
   "outputs": [
    {
     "data": {
      "text/plain": [
       "[]"
      ]
     },
     "execution_count": 6,
     "metadata": {},
     "output_type": "execute_result"
    }
   ],
   "source": [
    "client['abc'].list_collection_names()"
   ]
  },
  {
   "cell_type": "markdown",
   "id": "4a689545-7902-4a32-aa22-f54a6b2fd54c",
   "metadata": {},
   "source": [
    "#### Also if database doesn't exist we simply don't get any collections"
   ]
  },
  {
   "cell_type": "code",
   "execution_count": 7,
   "id": "50b9b37d-8d4a-4e4b-8d5c-e89bc397390a",
   "metadata": {},
   "outputs": [
    {
     "data": {
      "text/plain": [
       "['qna_pairs', 'context_list']"
      ]
     },
     "execution_count": 7,
     "metadata": {},
     "output_type": "execute_result"
    }
   ],
   "source": [
    "db = client['agent_evaluation_db']\n",
    "db.list_collection_names()"
   ]
  },
  {
   "cell_type": "code",
   "execution_count": 8,
   "id": "8911f8f2-fc3a-4ec1-8cf6-11bf3a46ed8e",
   "metadata": {},
   "outputs": [],
   "source": [
    "col = client[\"agent_evaluation_db\"]['context_list']"
   ]
  },
  {
   "cell_type": "markdown",
   "id": "f599a215-cb78-4d8d-ac1a-401a92765bb1",
   "metadata": {},
   "source": [
    "#### List the number of records in a collection"
   ]
  },
  {
   "cell_type": "code",
   "execution_count": 9,
   "id": "e4a8b114-a848-499b-9d17-88cc494b4b29",
   "metadata": {},
   "outputs": [
    {
     "data": {
      "text/plain": [
       "19029"
      ]
     },
     "execution_count": 9,
     "metadata": {},
     "output_type": "execute_result"
    }
   ],
   "source": [
    "col.count_documents({})"
   ]
  },
  {
   "cell_type": "code",
   "execution_count": 10,
   "id": "dba85141-2713-4b66-b796-0e0dcbd662e6",
   "metadata": {},
   "outputs": [],
   "source": [
    "import json"
   ]
  },
  {
   "cell_type": "markdown",
   "id": "c7602efd-4083-468e-91b3-b75cb69466f0",
   "metadata": {},
   "source": [
    "#### Select top few records ie mongodb equivalent of pandas code -> df.head(2)"
   ]
  },
  {
   "cell_type": "code",
   "execution_count": 11,
   "id": "dd1ca20a-4e4d-4bf4-b2e7-2b830673a656",
   "metadata": {},
   "outputs": [],
   "source": [
    "x = col.find().limit(2)"
   ]
  },
  {
   "cell_type": "code",
   "execution_count": 12,
   "id": "255100ac-daf5-4639-9ff1-19c87e2fa2e4",
   "metadata": {},
   "outputs": [
    {
     "data": {
      "text/plain": [
       "<pymongo.synchronous.cursor.Cursor at 0x7f6b51d0d390>"
      ]
     },
     "execution_count": 12,
     "metadata": {},
     "output_type": "execute_result"
    }
   ],
   "source": [
    "x"
   ]
  },
  {
   "cell_type": "markdown",
   "id": "eb6f92ed-e007-4c56-994e-22073a99e361",
   "metadata": {},
   "source": [
    "#### By default we get an iterator"
   ]
  },
  {
   "cell_type": "code",
   "execution_count": 13,
   "id": "db9fae06-959c-4d64-abc4-2c249a75a257",
   "metadata": {},
   "outputs": [
    {
     "data": {
      "text/plain": [
       "[{'_id': ObjectId('68627ef7277fab6848d48b77'),\n",
       "  'context_hash': '5566f9c0998385b8a8a2c94aa64aa980',\n",
       "  'context': 'Beyoncé Giselle Knowles-Carter (/biːˈjɒnseɪ/ bee-YON-say) (born September 4, 1981) is an American singer, songwriter, record producer and actress. Born and raised in Houston, Texas, she performed in various singing and dancing competitions as a child, and rose to fame in the late 1990s as lead singer of R&B girl-group Destiny\\'s Child. Managed by her father, Mathew Knowles, the group became one of the world\\'s best-selling girl groups of all time. Their hiatus saw the release of Beyoncé\\'s debut album, Dangerously in Love (2003), which established her as a solo artist worldwide, earned five Grammy Awards and featured the Billboard Hot 100 number-one singles \"Crazy in Love\" and \"Baby Boy\".',\n",
       "  'title': 'Beyoncé'},\n",
       " {'_id': ObjectId('68627ef7277fab6848d48b87'),\n",
       "  'context_hash': 'aad018fe3b6d1cb98a948e676d7c8036',\n",
       "  'context': 'Following the disbandment of Destiny\\'s Child in June 2005, she released her second solo album, B\\'Day (2006), which contained hits \"Déjà Vu\", \"Irreplaceable\", and \"Beautiful Liar\". Beyoncé also ventured into acting, with a Golden Globe-nominated performance in Dreamgirls (2006), and starring roles in The Pink Panther (2006) and Obsessed (2009). Her marriage to rapper Jay Z and portrayal of Etta James in Cadillac Records (2008) influenced her third album, I Am... Sasha Fierce (2008), which saw the birth of her alter-ego Sasha Fierce and earned a record-setting six Grammy Awards in 2010, including Song of the Year for \"Single Ladies (Put a Ring on It)\". Beyoncé took a hiatus from music in 2010 and took over management of her career; her fourth album 4 (2011) was subsequently mellower in tone, exploring 1970s funk, 1980s pop, and 1990s soul. Her critically acclaimed fifth studio album, Beyoncé (2013), was distinguished from previous releases by its experimental production and exploration of darker themes.',\n",
       "  'title': 'Beyoncé'}]"
      ]
     },
     "execution_count": 13,
     "metadata": {},
     "output_type": "execute_result"
    }
   ],
   "source": [
    "list(x)"
   ]
  },
  {
   "cell_type": "code",
   "execution_count": 14,
   "id": "b0cfa6c0-029d-405f-85ef-50da724a07d9",
   "metadata": {},
   "outputs": [
    {
     "name": "stdout",
     "output_type": "stream",
     "text": [
      "{'name': 'qna_pairs', 'type': 'collection', 'options': {}, 'info': {'readOnly': False, 'uuid': Binary(b'}E\\xccI}\\xf8O\\xce\\xbd!\\xe3\\x1a\\xddJ\\xf9\\x8b', 4)}, 'idIndex': {'v': 2, 'key': {'_id': 1}, 'name': '_id_'}}\n",
      "{'name': 'context_list', 'type': 'collection', 'options': {}, 'info': {'readOnly': False, 'uuid': Binary(b'\\xf3\\x8e]\\x1b\\x84YO\\xc3\\xba\\x96J+\\xde\\xa0\\\\i', 4)}, 'idIndex': {'v': 2, 'key': {'_id': 1}, 'name': '_id_'}}\n"
     ]
    }
   ],
   "source": [
    "database = client[\"agent_evaluation_db\"]\n",
    "collection_list = database.list_collections()\n",
    "for c in collection_list:\n",
    "    print(c)"
   ]
  },
  {
   "cell_type": "code",
   "execution_count": 15,
   "id": "79aba01f-c7b2-4702-bd23-44a213eb244e",
   "metadata": {},
   "outputs": [
    {
     "name": "stdout",
     "output_type": "stream",
     "text": [
      "qna_pairs\n",
      "context_list\n"
     ]
    }
   ],
   "source": [
    "collection_list = database.list_collection_names()\n",
    "for c in collection_list:\n",
    "    print(c)"
   ]
  },
  {
   "cell_type": "code",
   "execution_count": null,
   "id": "d41d9cd5-dcad-4924-85cb-34352bb24348",
   "metadata": {},
   "outputs": [],
   "source": []
  },
  {
   "cell_type": "code",
   "execution_count": 16,
   "id": "6d9f2f58-7c5d-4130-9c49-06f3c047a911",
   "metadata": {},
   "outputs": [
    {
     "name": "stdout",
     "output_type": "stream",
     "text": [
      "qna_pairs 130319\n",
      "{'_id': ObjectId('68627ef7277fab6848d48b78'), 'id': '56be85543aeaaa14008c9063', 'answers': 'in the late 1990s', 'context_hash': '5566f9c0998385b8a8a2c94aa64aa980', 'question': 'When did Beyonce start becoming popular?', 'title': 'Beyoncé'}\n",
      "-----\n",
      "{'_id': ObjectId('68627ef7277fab6848d48b79'), 'id': '56be85543aeaaa14008c9065', 'answers': 'singing and dancing', 'context_hash': '5566f9c0998385b8a8a2c94aa64aa980', 'question': 'What areas did Beyonce compete in when she was growing up?', 'title': 'Beyoncé'}\n",
      "-----\n",
      "=====\n",
      "context_list 19029\n",
      "{'_id': ObjectId('68627ef7277fab6848d48b77'), 'context_hash': '5566f9c0998385b8a8a2c94aa64aa980', 'context': 'Beyoncé Giselle Knowles-Carter (/biːˈjɒnseɪ/ bee-YON-say) (born September 4, 1981) is an American singer, songwriter, record producer and actress. Born and raised in Houston, Texas, she performed in various singing and dancing competitions as a child, and rose to fame in the late 1990s as lead singer of R&B girl-group Destiny\\'s Child. Managed by her father, Mathew Knowles, the group became one of the world\\'s best-selling girl groups of all time. Their hiatus saw the release of Beyoncé\\'s debut album, Dangerously in Love (2003), which established her as a solo artist worldwide, earned five Grammy Awards and featured the Billboard Hot 100 number-one singles \"Crazy in Love\" and \"Baby Boy\".', 'title': 'Beyoncé'}\n",
      "-----\n",
      "{'_id': ObjectId('68627ef7277fab6848d48b87'), 'context_hash': 'aad018fe3b6d1cb98a948e676d7c8036', 'context': 'Following the disbandment of Destiny\\'s Child in June 2005, she released her second solo album, B\\'Day (2006), which contained hits \"Déjà Vu\", \"Irreplaceable\", and \"Beautiful Liar\". Beyoncé also ventured into acting, with a Golden Globe-nominated performance in Dreamgirls (2006), and starring roles in The Pink Panther (2006) and Obsessed (2009). Her marriage to rapper Jay Z and portrayal of Etta James in Cadillac Records (2008) influenced her third album, I Am... Sasha Fierce (2008), which saw the birth of her alter-ego Sasha Fierce and earned a record-setting six Grammy Awards in 2010, including Song of the Year for \"Single Ladies (Put a Ring on It)\". Beyoncé took a hiatus from music in 2010 and took over management of her career; her fourth album 4 (2011) was subsequently mellower in tone, exploring 1970s funk, 1980s pop, and 1990s soul. Her critically acclaimed fifth studio album, Beyoncé (2013), was distinguished from previous releases by its experimental production and exploration of darker themes.', 'title': 'Beyoncé'}\n",
      "-----\n",
      "=====\n"
     ]
    }
   ],
   "source": [
    "collection_list = database.list_collection_names()\n",
    "for c in collection_list:\n",
    "    print(c, database[c].count_documents({}))\n",
    "    for i in database[c].find().limit(2):\n",
    "        print(i)\n",
    "        print(5*'-')\n",
    "    print(5*'=')"
   ]
  },
  {
   "cell_type": "markdown",
   "id": "b010015a-172f-4502-81b3-6c57e8de032a",
   "metadata": {},
   "source": [
    "#### Dropping collections"
   ]
  },
  {
   "cell_type": "code",
   "execution_count": 17,
   "id": "2509b29b-53b3-47d0-8f88-6bd8c16fad79",
   "metadata": {},
   "outputs": [
    {
     "name": "stdout",
     "output_type": "stream",
     "text": [
      "qna_pairs\n",
      "context_list\n"
     ]
    }
   ],
   "source": [
    "for c in collection_list:\n",
    "    print(c)\n",
    "    #database[c].drop()"
   ]
  }
 ],
 "metadata": {
  "kernelspec": {
   "display_name": "Python 3 (ipykernel)",
   "language": "python",
   "name": "python3"
  },
  "language_info": {
   "codemirror_mode": {
    "name": "ipython",
    "version": 3
   },
   "file_extension": ".py",
   "mimetype": "text/x-python",
   "name": "python",
   "nbconvert_exporter": "python",
   "pygments_lexer": "ipython3",
   "version": "3.10.12"
  }
 },
 "nbformat": 4,
 "nbformat_minor": 5
}
