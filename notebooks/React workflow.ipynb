{
 "cells": [
  {
   "cell_type": "code",
   "execution_count": 1,
   "id": "c08c4ceb-c1e2-48c4-bb5b-05eba4101e22",
   "metadata": {},
   "outputs": [],
   "source": [
    "from llama_index.llms.ollama import Ollama"
   ]
  },
  {
   "cell_type": "code",
   "execution_count": 13,
   "id": "7651e9c2-2f11-4b80-bcb2-5ae7f076f3ea",
   "metadata": {},
   "outputs": [],
   "source": [
    "from pathlib import Path\n",
    "import os\n",
    "\n",
    "from llama_index.vector_stores.chroma import ChromaVectorStore"
   ]
  },
  {
   "cell_type": "code",
   "execution_count": 8,
   "id": "025d1441-2f6c-4f41-9ec2-4705bf43e78b",
   "metadata": {},
   "outputs": [],
   "source": [
    "cwd = Path(os.getcwd()).parent\n",
    "os.chdir(cwd)"
   ]
  },
  {
   "cell_type": "code",
   "execution_count": 9,
   "id": "af54cd7d-8323-48ce-a6c4-13dcd7ccce34",
   "metadata": {},
   "outputs": [],
   "source": [
    "def get_ollama_LLM(model=None):\n",
    "    model = model or \"phi4:latest\"\n",
    "    context_window = 1000\n",
    "\n",
    "    ollama_llm = Ollama(\n",
    "        model=model,\n",
    "        request_timeout=120.0,\n",
    "        context_window=context_window,\n",
    "        )\n",
    "    return ollama_llm"
   ]
  },
  {
   "cell_type": "code",
   "execution_count": 19,
   "id": "2e1a92f5-9250-40c5-b76d-02d4ba3274af",
   "metadata": {},
   "outputs": [],
   "source": [
    "from src.embedding_client import RemoteEmbedding\n",
    "from llama_index.core import StorageContext\n",
    "from llama_index.core import VectorStoreIndex"
   ]
  },
  {
   "cell_type": "code",
   "execution_count": 14,
   "id": "b0bc6da6-9751-45a2-a28a-c65698647164",
   "metadata": {},
   "outputs": [],
   "source": [
    "vector_store = ChromaVectorStore(\n",
    "    collection_name=\"hot_pot_qa_v2\",\n",
    "    host=\"localhost\",\n",
    "    port=8010\n",
    ")"
   ]
  },
  {
   "cell_type": "code",
   "execution_count": 27,
   "id": "c4b5bfe6-abc4-4f13-914d-bf51e0ab5340",
   "metadata": {},
   "outputs": [],
   "source": [
    "embed_model = RemoteEmbedding(f\"http://localhost:8020\")\n",
    "llm = get_ollama_LLM()"
   ]
  },
  {
   "cell_type": "code",
   "execution_count": 30,
   "id": "a2d1c594-f693-4af6-a2bb-8bc4a44129a3",
   "metadata": {},
   "outputs": [],
   "source": [
    "storage_context = StorageContext.from_defaults(vector_store=vector_store)\n",
    "index = VectorStoreIndex.from_vector_store(vector_store, embed_model=embed_model, llm=llm)\n",
    "retriever = index.as_retriever(similarity_top_k=3)"
   ]
  },
  {
   "cell_type": "code",
   "execution_count": 38,
   "id": "df0e4f75-c555-4e3d-bc07-ec50930d2ff6",
   "metadata": {},
   "outputs": [],
   "source": [
    "query_engine = index.as_query_engine(streaming=False)"
   ]
  },
  {
   "cell_type": "code",
   "execution_count": 58,
   "id": "3d6772ba-a5e7-44a2-ac18-5b98a04b5161",
   "metadata": {},
   "outputs": [
    {
     "data": {
      "text/plain": [
       "{'_retriever': <llama_index.core.indices.vector_store.retrievers.retriever.VectorIndexRetriever at 0x7f6333bdcd90>,\n",
       " '_response_synthesizer': <llama_index.core.response_synthesizers.compact_and_refine.CompactAndRefine at 0x7f63355eff10>,\n",
       " '_node_postprocessors': [],\n",
       " 'callback_manager': <llama_index.core.callbacks.base.CallbackManager at 0x7f6335896d40>}"
      ]
     },
     "execution_count": 58,
     "metadata": {},
     "output_type": "execute_result"
    }
   ],
   "source": [
    "query_engine.__dict__"
   ]
  },
  {
   "cell_type": "code",
   "execution_count": 41,
   "id": "20e8c96b-76ca-4933-a19b-af3e2d15210f",
   "metadata": {},
   "outputs": [],
   "source": [
    "x = query_engine.query('Who directed the movie A Kiss for Corliss?')"
   ]
  },
  {
   "cell_type": "code",
   "execution_count": 47,
   "id": "c6f0efed-0544-424b-835c-dce6767990c3",
   "metadata": {},
   "outputs": [
    {
     "name": "stdout",
     "output_type": "stream",
     "text": [
      "Node ID: 5a8c7595554299585d9e36b6_0\n",
      "Text: A Kiss for Corliss is a 1949 American comedy film directed by\n",
      "Richard Wallace and written by Howard Dimsdale. It stars Shirley\n",
      "Temple in her final starring role as well as her final film\n",
      "appearance. It is a sequel to the 1945 film \"Kiss and Tell\". \"A Kiss\n",
      "for Corliss\" was retitled \"Almost a Bride\" before release and this\n",
      "title appears in the tit...\n",
      "Score:  0.607\n",
      "\n",
      "Node ID: 5ae1b1445542997283cd223d_4\n",
      "Text: A Kiss for Corliss is a 1949 American comedy film directed by\n",
      "Richard Wallace and written by Howard Dimsdale. It stars Shirley\n",
      "Temple in her final starring role as well as her final film\n",
      "appearance. It is a sequel to the 1945 film \"Kiss and Tell\". \"A Kiss\n",
      "for Corliss\" was retitled \"Almost a Bride\" before release and this\n",
      "title appears in the tit...\n",
      "Score:  0.607\n",
      "\n"
     ]
    }
   ],
   "source": [
    "for i in (x.__dict__)['source_nodes']:\n",
    "    print(i)"
   ]
  },
  {
   "cell_type": "code",
   "execution_count": 56,
   "id": "ebd8aafe-e820-401b-8a2d-4aaf605ba3a0",
   "metadata": {},
   "outputs": [
    {
     "data": {
      "text/plain": [
       "{'id_': '5ae1b1445542997283cd223d_4',\n",
       " 'embedding': None,\n",
       " 'metadata': {'question': 'Who starred in her final film role in the 1964 film directed by the man who also did Vera Cruz and Kiss Me Deadly?',\n",
       "  'type': 'bridge',\n",
       "  'answer': 'Mary Astor',\n",
       "  'level': 'hard',\n",
       "  'supporting_facts': 'Robert Aldrich||Hush… Hush, Sweet Charlotte',\n",
       "  'title': 'A Kiss for Corliss'},\n",
       " 'excluded_embed_metadata_keys': [],\n",
       " 'excluded_llm_metadata_keys': [],\n",
       " 'relationships': {},\n",
       " 'metadata_template': '{key}: {value}',\n",
       " 'metadata_separator': '\\n',\n",
       " 'text': 'A Kiss for Corliss is a 1949 American comedy film directed by Richard Wallace and written by Howard Dimsdale. It stars Shirley Temple in her final starring role as well as her final film appearance. It is a sequel to the 1945 film \"Kiss and Tell\". \"A Kiss for Corliss\" was retitled \"Almost a Bride\" before release and this title appears in the title sequence. The film was released on November 25, 1949, by United Artists.',\n",
       " 'mimetype': 'text/plain',\n",
       " 'start_char_idx': None,\n",
       " 'end_char_idx': None,\n",
       " 'metadata_seperator': '\\n',\n",
       " 'text_template': '{metadata_str}\\n\\n{content}'}"
      ]
     },
     "execution_count": 56,
     "metadata": {},
     "output_type": "execute_result"
    }
   ],
   "source": [
    "(i.__dict__)['node'].__dict__#['metadata']"
   ]
  },
  {
   "cell_type": "code",
   "execution_count": 31,
   "id": "e7cdb878-3fb0-4d7a-8c02-47a4fd565720",
   "metadata": {},
   "outputs": [],
   "source": [
    "from llama_index.core.agent.workflow import ReActAgent"
   ]
  },
  {
   "cell_type": "code",
   "execution_count": 39,
   "id": "01161629-ede4-470f-8da9-0ed7bd9ee9a3",
   "metadata": {},
   "outputs": [],
   "source": [
    "from llama_index.core.tools import RetrieverTool\n",
    "#retriever_tool = RetrieverTool.from_retriever(retriever, name=\"Query Retriever\")"
   ]
  },
  {
   "cell_type": "code",
   "execution_count": 59,
   "id": "6d65abf6-ce67-4d62-8c37-36f9f08d7cdb",
   "metadata": {},
   "outputs": [],
   "source": [
    "from llama_index.core.tools import QueryEngineTool\n",
    "\n",
    "query_engine_tool = QueryEngineTool.from_defaults(\n",
    "    query_engine, name=\"Vector DB Search\", description=\"This tool allows search to vector database\"\n",
    ")\n",
    "agent = ReActAgent(tools = [query_engine_tool], llm=llm)"
   ]
  },
  {
   "cell_type": "code",
   "execution_count": 60,
   "id": "57e204e2-ca1e-43bc-945b-3fa1d9160f6b",
   "metadata": {},
   "outputs": [
    {
     "data": {
      "text/plain": [
       "<WorkflowHandler pending cb=[Dispatcher.span.<locals>.wrapper.<locals>.handle_future_result(span_id='Workflow.run...-b907b01ff7d4', bound_args=<BoundArgumen...StartEvent())>, instance=ReActAgent(na...SER: 'user'>)), context=<_contextvars...x7f63313e64c0>)() at /root/.cache/pypoetry/virtualenvs/chat-bot-ui-v2-E1yGBO_D-py3.10/lib/python3.10/site-packages/llama_index_instrumentation/dispatcher.py:277]>"
      ]
     },
     "execution_count": 60,
     "metadata": {},
     "output_type": "execute_result"
    }
   ],
   "source": [
    "agent.run('Has Richard Wallace directed comedy movies ?')"
   ]
  },
  {
   "cell_type": "code",
   "execution_count": 61,
   "id": "bb9184ed-0f77-4aff-8669-991f36371282",
   "metadata": {},
   "outputs": [],
   "source": [
    "from src.response_utils import stream_agent_response"
   ]
  },
  {
   "cell_type": "code",
   "execution_count": 62,
   "id": "b76d8b9e-2f51-4885-bc75-36f3a4056064",
   "metadata": {},
   "outputs": [
    {
     "data": {
      "text/plain": [
       "<async_generator object stream_agent_response at 0x7f6330f78240>"
      ]
     },
     "execution_count": 62,
     "metadata": {},
     "output_type": "execute_result"
    }
   ],
   "source": [
    "prompt = 'Has Richard Wallace directed comedy movies ?'\n",
    "stream_agent_response(agent, prompt)"
   ]
  },
  {
   "cell_type": "code",
   "execution_count": 63,
   "id": "0dba5ccd-41c0-4be6-8f5b-07b5f924f56b",
   "metadata": {},
   "outputs": [
    {
     "ename": "TypeError",
     "evalue": "object async_generator can't be used in 'await' expression",
     "output_type": "error",
     "traceback": [
      "\u001b[0;31m---------------------------------------------------------------------------\u001b[0m",
      "\u001b[0;31mTypeError\u001b[0m                                 Traceback (most recent call last)",
      "Cell \u001b[0;32mIn[63], line 1\u001b[0m\n\u001b[0;32m----> 1\u001b[0m \u001b[38;5;28;01mawait\u001b[39;00m stream_agent_response(agent, prompt)\n",
      "\u001b[0;31mTypeError\u001b[0m: object async_generator can't be used in 'await' expression"
     ]
    }
   ],
   "source": [
    "await stream_agent_response(agent, prompt)"
   ]
  },
  {
   "cell_type": "code",
   "execution_count": null,
   "id": "7bbe3a4c-4efc-43ab-873f-a9ffabef68ff",
   "metadata": {},
   "outputs": [],
   "source": []
  },
  {
   "cell_type": "code",
   "execution_count": null,
   "id": "0865f0bd-60c9-47f0-a5a9-8d5972983d7f",
   "metadata": {},
   "outputs": [],
   "source": []
  }
 ],
 "metadata": {
  "kernelspec": {
   "display_name": "Python 3 (ipykernel)",
   "language": "python",
   "name": "python3"
  },
  "language_info": {
   "codemirror_mode": {
    "name": "ipython",
    "version": 3
   },
   "file_extension": ".py",
   "mimetype": "text/x-python",
   "name": "python",
   "nbconvert_exporter": "python",
   "pygments_lexer": "ipython3",
   "version": "3.10.12"
  }
 },
 "nbformat": 4,
 "nbformat_minor": 5
}
