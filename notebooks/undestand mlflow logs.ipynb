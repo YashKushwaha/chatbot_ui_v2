{
 "cells": [
  {
   "cell_type": "code",
   "execution_count": 3,
   "id": "a2159a91-8adc-412b-bb27-108a75eaa3df",
   "metadata": {},
   "outputs": [],
   "source": [
    "import os\n",
    "from pathlib import Path"
   ]
  },
  {
   "cell_type": "code",
   "execution_count": null,
   "id": "4d943588-1cb3-4bb5-a713-1feb169e5d83",
   "metadata": {},
   "outputs": [],
   "source": [
    "os.getcwd()"
   ]
  },
  {
   "cell_type": "code",
   "execution_count": 5,
   "id": "709048bb-44c2-4199-8e9a-c5f3606a9b8b",
   "metadata": {},
   "outputs": [],
   "source": [
    "mlflow_logs = os.path.join(Path(os.getcwd()).parents[0], 'mlflow_logs')"
   ]
  },
  {
   "cell_type": "code",
   "execution_count": 7,
   "id": "10f59850-f6c9-4ecb-bf3e-a575f54cb973",
   "metadata": {},
   "outputs": [
    {
     "data": {
      "text/plain": [
       "['.trash', '132899082267310288', '815316816171043374', 'models']"
      ]
     },
     "execution_count": 7,
     "metadata": {},
     "output_type": "execute_result"
    }
   ],
   "source": [
    "os.listdir(mlflow_logs)"
   ]
  },
  {
   "cell_type": "code",
   "execution_count": 8,
   "id": "c4eccc74-687b-46a6-b140-1cd021d702db",
   "metadata": {},
   "outputs": [],
   "source": [
    "def is_experiment_folder(folder_name, base_path):\n",
    "    folder_path = os.path.join(base_path, folder_name)\n",
    "    if not os.path.isdir(folder_path):\n",
    "        return False\n",
    "    if folder_name == \"models\" or folder_name.startswith(\".\"):\n",
    "        return False\n",
    "    meta_file = os.path.join(folder_path, \"meta.yaml\")\n",
    "    return os.path.isfile(meta_file)"
   ]
  },
  {
   "cell_type": "code",
   "execution_count": 9,
   "id": "7fc83d2a-3105-488d-999c-dfa418180ca9",
   "metadata": {},
   "outputs": [
    {
     "name": "stdout",
     "output_type": "stream",
     "text": [
      "Detected Experiment Folders: ['132899082267310288', '815316816171043374']\n"
     ]
    }
   ],
   "source": [
    "# Get list of experiments\n",
    "experiment_folders = [\n",
    "    folder for folder in os.listdir(mlflow_logs)\n",
    "    if is_experiment_folder(folder, mlflow_logs)\n",
    "]\n",
    "\n",
    "print(\"Detected Experiment Folders:\", experiment_folders)"
   ]
  },
  {
   "cell_type": "code",
   "execution_count": 12,
   "id": "9608c04f-4e65-472d-9793-b83965a18aac",
   "metadata": {},
   "outputs": [
    {
     "name": "stdout",
     "output_type": "stream",
     "text": [
      "/mnt/f/chatbot_ui_v2/mlflow_logs/132899082267310288\n",
      "['meta.yaml']\n",
      "=====\n",
      "/mnt/f/chatbot_ui_v2/mlflow_logs/815316816171043374\n",
      "['meta.yaml', 'traces']\n",
      "=====\n"
     ]
    }
   ],
   "source": [
    "for folder in experiment_folders:\n",
    "    exp_folder = os.path.join(mlflow_logs, folder) \n",
    "    print(exp_folder)\n",
    "    print(os.listdir(exp_folder))\n",
    "\n",
    "    print(5*'=')"
   ]
  },
  {
   "cell_type": "code",
   "execution_count": 13,
   "id": "3cef141a-e829-4bb3-9baf-1d97d003da56",
   "metadata": {},
   "outputs": [
    {
     "data": {
      "text/plain": [
       "['05b2cdf0c02049478b1b37399282d88c',\n",
       " '1eed59cbad4d48308680c48d5ec0e1aa',\n",
       " '378981db883d47b0877df0fe4b7903c0',\n",
       " '52c0ffea5bb148efb18513566d3554c4',\n",
       " '5fc1a238ed0443efab9dc12653f10075',\n",
       " '6eac28386a9d433283b1fd138a7f6f59',\n",
       " '7603e45cc04a44c7b8531b0ad623f4be',\n",
       " '7afd6f476b4a410e97e7598f5529bb5d',\n",
       " '7b4609ab15004115bba9320920b87e38',\n",
       " '808dc0fa50214ae89aebb9bc5ea69f52',\n",
       " 'a412f07738e049ec8ee5208549380bbc',\n",
       " 'b00bdbdac88d4a4f814c3b410f572b5a',\n",
       " 'b0bab827b3794d2a9a573cf8d3b58ad4',\n",
       " 'b16d050a00c545528f3a1895c3817a06',\n",
       " 'bde80301c45143119714869cdf543352',\n",
       " 'd9f2a9609f13414782e0bf6de4ae367d',\n",
       " 'da1705f1a66147199f81c460e2cfe939',\n",
       " 'db2b69d101b34825b168e6fc905f9763',\n",
       " 'dc93739ca3e044328461dc1fe054601a',\n",
       " 'e0f93cd1e0174f0ba57eb1fe18af6998',\n",
       " 'fe8877863c254926812aef905e0d972e']"
      ]
     },
     "execution_count": 13,
     "metadata": {},
     "output_type": "execute_result"
    }
   ],
   "source": [
    "traces_folder = os.path.join('/mnt/f/chatbot_ui_v2/mlflow_logs/815316816171043374', 'traces')\n",
    "os.listdir(traces_folder)"
   ]
  },
  {
   "cell_type": "code",
   "execution_count": 15,
   "id": "430ae863-8c77-4196-a2d3-9fe47eb612c2",
   "metadata": {},
   "outputs": [],
   "source": [
    "import os\n",
    "import yaml\n",
    "\n",
    "def load_meta_yaml(file_path: str) -> dict:\n",
    "    if not os.path.isfile(file_path):\n",
    "        raise FileNotFoundError(f\"{file_path} does not exist.\")\n",
    "    \n",
    "    with open(file_path, \"r\") as f:\n",
    "        data = yaml.safe_load(f)\n",
    "    \n",
    "    return data"
   ]
  },
  {
   "cell_type": "code",
   "execution_count": 50,
   "id": "8df71b1f-8e35-41a8-b343-0a0cff35c2a7",
   "metadata": {},
   "outputs": [],
   "source": [
    "def get_readable_time(timestamp_ms ):\n",
    "    timestamp_s = timestamp_ms / 1000\n",
    "    readable_time = datetime.datetime.utcfromtimestamp(timestamp_s)\n",
    "    return readable_time.strftime(\"%Y-%m-%d %H:%M:%S UTC\")"
   ]
  },
  {
   "cell_type": "code",
   "execution_count": 119,
   "id": "ea990bf3-f525-4c83-b33a-05a6dfbb5723",
   "metadata": {},
   "outputs": [],
   "source": [
    "class Experiment:\n",
    "    def __init__(self, metadata):\n",
    "        self.metadata = metadata\n",
    "        self.artifact_location = self.metadata.get('artifact_location')\n",
    "        self.creation_time = get_readable_time(self.metadata.get('creation_time'))\n",
    "        self.experiment_id = self.metadata.get('experiment_id')\n",
    "        self.name = self.metadata.get('name')\n",
    "        self._trace_list = [] or self.get_trace_list(self.artifact_location)\n",
    "        self.trace_list = [os.path.join(self.artifact_location, 'traces', i) for i in self._trace_list]                                     \n",
    "        self.trace_list = [Trace(i) for i in self.trace_list]\n",
    "    def __repr__(self):\n",
    "        return str(self.metadata['name'])\n",
    "\n",
    "    def get_experiment_details(self, experiment):\n",
    "        file_to_open = os.path.join(self.ml_flow_logs_dir, experiment, 'meta.yaml')\n",
    "        details = load_meta_yaml(file_to_open)\n",
    "    \n",
    "    def get_trace_list(self, exp_loc):\n",
    "        trace_list = []\n",
    "        traces_folder = os.path.join(exp_loc, 'traces')\n",
    "        if os.path.exists(traces_folder):\n",
    "            trace_list = os.listdir(traces_folder)\n",
    "        return trace_list\n",
    "\n",
    "\n",
    "class MLFLOW_LOGS:\n",
    "    def __init__(self, ml_flow_logs_dir):\n",
    "        self.ml_flow_logs_dir = ml_flow_logs_dir\n",
    "        self.experiments = [] or self.get_experiments_done()\n",
    "        self.models = []\n",
    "    def get_experiments_done(self):\n",
    "        exp_list = []\n",
    "        for folder in os.listdir(self.ml_flow_logs_dir):\n",
    "            if is_experiment_folder(folder, self.ml_flow_logs_dir):\n",
    "                exp_list.append(folder)\n",
    "        return exp_list\n",
    "\n",
    "    def get_experiment_details(self, experiment):\n",
    "        file_to_open = os.path.join(self.ml_flow_logs_dir, experiment, 'meta.yaml')\n",
    "        details = load_meta_yaml(file_to_open)\n",
    "        return details\n",
    "\n",
    "    def get_experiment_list(self):\n",
    "        exp_list = []\n",
    "        for exp in self.experiments:\n",
    "            details = self.get_experiment_details(exp)\n",
    "            exp_list.append(Experiment(metadata = details))\n",
    "        return exp_list         \n",
    "    def __iter__(self):\n",
    "        return iter(self.get_experiment_list())\n",
    "mlflow_log_manager = MLFLOW_LOGS(ml_flow_logs_dir = mlflow_logs)\n",
    "experiment_list = mlflow_log_manager.get_experiment_list()"
   ]
  },
  {
   "cell_type": "code",
   "execution_count": 130,
   "id": "093c3903-e873-4dcf-b619-c9077e5f65b0",
   "metadata": {},
   "outputs": [
    {
     "name": "stdout",
     "output_type": "stream",
     "text": [
      "chatbot_debug_logs\n",
      "==========\n",
      "agent testing\n",
      "==========\n",
      "/mnt/f/chatbot_ui_v2/mlflow_logs/815316816171043374/traces/05b2cdf0c02049478b1b37399282d88c\n",
      "Workflow.run\n",
      "BaseWorkflowAgent.init_run\n",
      "BaseWorkflowAgent.setup_agent\n",
      "BaseWorkflowAgent.run_agent_step\n",
      "Ollama.astream_chat\n",
      "ReActOutputParser.parse\n",
      "BaseWorkflowAgent.parse_agent_output\n",
      "Workflow._done\n",
      "-----\n",
      "/mnt/f/chatbot_ui_v2/mlflow_logs/815316816171043374/traces/1eed59cbad4d48308680c48d5ec0e1aa\n",
      "Workflow.run\n",
      "BaseWorkflowAgent.init_run\n",
      "BaseWorkflowAgent.setup_agent\n",
      "BaseWorkflowAgent.run_agent_step\n",
      "Ollama.astream_chat\n",
      "ReActOutputParser.parse\n",
      "BaseWorkflowAgent.parse_agent_output\n",
      "Workflow._done\n",
      "-----\n",
      "/mnt/f/chatbot_ui_v2/mlflow_logs/815316816171043374/traces/378981db883d47b0877df0fe4b7903c0\n",
      "Workflow.run\n",
      "BaseWorkflowAgent.init_run\n",
      "BaseWorkflowAgent.setup_agent\n",
      "BaseWorkflowAgent.run_agent_step\n",
      "Ollama.astream_chat\n",
      "ReActOutputParser.parse\n",
      "BaseWorkflowAgent.parse_agent_output\n",
      "Workflow._done\n",
      "-----\n",
      "/mnt/f/chatbot_ui_v2/mlflow_logs/815316816171043374/traces/52c0ffea5bb148efb18513566d3554c4\n",
      "Workflow.run\n",
      "BaseWorkflowAgent.init_run\n",
      "BaseWorkflowAgent.setup_agent\n",
      "BaseWorkflowAgent.run_agent_step\n",
      "Ollama.astream_chat\n",
      "ReActOutputParser.parse\n",
      "BaseWorkflowAgent.parse_agent_output\n",
      "Workflow._done\n",
      "-----\n",
      "/mnt/f/chatbot_ui_v2/mlflow_logs/815316816171043374/traces/5fc1a238ed0443efab9dc12653f10075\n",
      "Workflow.run\n",
      "BaseWorkflowAgent.init_run\n",
      "BaseWorkflowAgent.setup_agent\n",
      "BaseWorkflowAgent.run_agent_step\n",
      "Ollama.astream_chat\n",
      "ReActOutputParser.parse\n",
      "BaseWorkflowAgent.parse_agent_output\n",
      "Workflow._done\n",
      "-----\n",
      "/mnt/f/chatbot_ui_v2/mlflow_logs/815316816171043374/traces/6eac28386a9d433283b1fd138a7f6f59\n",
      "Workflow.run\n",
      "BaseWorkflowAgent.init_run\n",
      "BaseWorkflowAgent.setup_agent\n",
      "BaseWorkflowAgent.run_agent_step\n",
      "Ollama.astream_chat\n",
      "ReActOutputParser.parse\n",
      "BaseWorkflowAgent.parse_agent_output\n",
      "Workflow._done\n",
      "-----\n",
      "/mnt/f/chatbot_ui_v2/mlflow_logs/815316816171043374/traces/7603e45cc04a44c7b8531b0ad623f4be\n",
      "Workflow.run\n",
      "BaseWorkflowAgent.init_run\n",
      "BaseWorkflowAgent.setup_agent\n",
      "BaseWorkflowAgent.run_agent_step\n",
      "Ollama.astream_chat\n",
      "ReActOutputParser.parse\n",
      "BaseWorkflowAgent.parse_agent_output\n",
      "Workflow._done\n",
      "-----\n",
      "/mnt/f/chatbot_ui_v2/mlflow_logs/815316816171043374/traces/7afd6f476b4a410e97e7598f5529bb5d\n",
      "Workflow.run\n",
      "BaseWorkflowAgent.init_run\n",
      "BaseWorkflowAgent.setup_agent\n",
      "BaseWorkflowAgent.run_agent_step\n",
      "Ollama.astream_chat\n",
      "ReActOutputParser.parse\n",
      "BaseWorkflowAgent.parse_agent_output\n",
      "Workflow._done\n",
      "-----\n",
      "/mnt/f/chatbot_ui_v2/mlflow_logs/815316816171043374/traces/7b4609ab15004115bba9320920b87e38\n",
      "Workflow.run\n",
      "BaseWorkflowAgent.init_run\n",
      "BaseWorkflowAgent.setup_agent\n",
      "BaseWorkflowAgent.run_agent_step\n",
      "Ollama.astream_chat\n",
      "ReActOutputParser.parse\n",
      "BaseWorkflowAgent.parse_agent_output\n",
      "Workflow._done\n",
      "-----\n",
      "/mnt/f/chatbot_ui_v2/mlflow_logs/815316816171043374/traces/808dc0fa50214ae89aebb9bc5ea69f52\n",
      "Workflow.run\n",
      "BaseWorkflowAgent.init_run\n",
      "BaseWorkflowAgent.setup_agent\n",
      "BaseWorkflowAgent.run_agent_step\n",
      "Ollama.astream_chat\n",
      "ReActOutputParser.parse\n",
      "BaseWorkflowAgent.parse_agent_output\n",
      "Workflow._done\n",
      "-----\n",
      "/mnt/f/chatbot_ui_v2/mlflow_logs/815316816171043374/traces/a412f07738e049ec8ee5208549380bbc\n",
      "Workflow.run\n",
      "BaseWorkflowAgent.init_run\n",
      "BaseWorkflowAgent.setup_agent\n",
      "BaseWorkflowAgent.run_agent_step\n",
      "Ollama.astream_chat\n",
      "ReActOutputParser.parse\n",
      "BaseWorkflowAgent.parse_agent_output\n",
      "Workflow._done\n",
      "-----\n",
      "/mnt/f/chatbot_ui_v2/mlflow_logs/815316816171043374/traces/b00bdbdac88d4a4f814c3b410f572b5a\n",
      "Workflow.run\n",
      "BaseWorkflowAgent.init_run\n",
      "BaseWorkflowAgent.setup_agent\n",
      "BaseWorkflowAgent.run_agent_step\n",
      "Ollama.astream_chat\n",
      "ReActOutputParser.parse\n",
      "BaseWorkflowAgent.parse_agent_output\n",
      "Workflow._done\n",
      "-----\n",
      "/mnt/f/chatbot_ui_v2/mlflow_logs/815316816171043374/traces/b0bab827b3794d2a9a573cf8d3b58ad4\n",
      "Workflow.run\n",
      "BaseWorkflowAgent.init_run\n",
      "BaseWorkflowAgent.setup_agent\n",
      "BaseWorkflowAgent.run_agent_step\n",
      "Ollama.astream_chat\n",
      "ReActOutputParser.parse\n",
      "BaseWorkflowAgent.parse_agent_output\n",
      "Workflow._done\n",
      "-----\n",
      "/mnt/f/chatbot_ui_v2/mlflow_logs/815316816171043374/traces/b16d050a00c545528f3a1895c3817a06\n",
      "Workflow.run\n",
      "BaseWorkflowAgent.init_run\n",
      "BaseWorkflowAgent.setup_agent\n",
      "BaseWorkflowAgent.run_agent_step\n",
      "Ollama.astream_chat\n",
      "ReActOutputParser.parse\n",
      "BaseWorkflowAgent.parse_agent_output\n",
      "Workflow._done\n",
      "-----\n",
      "/mnt/f/chatbot_ui_v2/mlflow_logs/815316816171043374/traces/bde80301c45143119714869cdf543352\n",
      "Workflow.run\n",
      "BaseWorkflowAgent.init_run\n",
      "BaseWorkflowAgent.setup_agent\n",
      "BaseWorkflowAgent.run_agent_step\n",
      "Ollama.astream_chat\n",
      "ReActOutputParser.parse\n",
      "BaseWorkflowAgent.parse_agent_output\n",
      "Workflow._done\n",
      "-----\n",
      "/mnt/f/chatbot_ui_v2/mlflow_logs/815316816171043374/traces/d9f2a9609f13414782e0bf6de4ae367d\n",
      "Workflow.run\n",
      "BaseWorkflowAgent.init_run\n",
      "BaseWorkflowAgent.setup_agent\n",
      "BaseWorkflowAgent.run_agent_step\n",
      "Ollama.astream_chat\n",
      "ReActOutputParser.parse\n",
      "BaseWorkflowAgent.parse_agent_output\n",
      "Workflow._done\n",
      "-----\n",
      "/mnt/f/chatbot_ui_v2/mlflow_logs/815316816171043374/traces/da1705f1a66147199f81c460e2cfe939\n",
      "Workflow.run\n",
      "BaseWorkflowAgent.init_run\n",
      "BaseWorkflowAgent.setup_agent\n",
      "BaseWorkflowAgent.run_agent_step\n",
      "Ollama.astream_chat\n",
      "ReActOutputParser.parse\n",
      "BaseWorkflowAgent.parse_agent_output\n",
      "Workflow._done\n",
      "-----\n",
      "/mnt/f/chatbot_ui_v2/mlflow_logs/815316816171043374/traces/db2b69d101b34825b168e6fc905f9763\n",
      "Workflow.run\n",
      "BaseWorkflowAgent.init_run\n",
      "BaseWorkflowAgent.setup_agent\n",
      "BaseWorkflowAgent.run_agent_step\n",
      "Ollama.astream_chat\n",
      "ReActOutputParser.parse\n",
      "BaseWorkflowAgent.parse_agent_output\n",
      "Workflow._done\n",
      "-----\n",
      "/mnt/f/chatbot_ui_v2/mlflow_logs/815316816171043374/traces/dc93739ca3e044328461dc1fe054601a\n",
      "Workflow.run\n",
      "BaseWorkflowAgent.init_run\n",
      "BaseWorkflowAgent.setup_agent\n",
      "BaseWorkflowAgent.run_agent_step\n",
      "Ollama.astream_chat\n",
      "ReActOutputParser.parse\n",
      "BaseWorkflowAgent.parse_agent_output\n",
      "Workflow._done\n",
      "-----\n",
      "/mnt/f/chatbot_ui_v2/mlflow_logs/815316816171043374/traces/e0f93cd1e0174f0ba57eb1fe18af6998\n",
      "Workflow.run\n",
      "BaseWorkflowAgent.init_run\n",
      "BaseWorkflowAgent.setup_agent\n",
      "BaseWorkflowAgent.run_agent_step\n",
      "Ollama.astream_chat\n",
      "ReActOutputParser.parse\n",
      "BaseWorkflowAgent.parse_agent_output\n",
      "Workflow._done\n",
      "-----\n",
      "/mnt/f/chatbot_ui_v2/mlflow_logs/815316816171043374/traces/fe8877863c254926812aef905e0d972e\n",
      "Workflow.run\n",
      "BaseWorkflowAgent.init_run\n",
      "BaseWorkflowAgent.setup_agent\n",
      "BaseWorkflowAgent.run_agent_step\n",
      "Ollama.astream_chat\n",
      "ReActOutputParser.parse\n",
      "BaseWorkflowAgent.parse_agent_output\n",
      "Workflow._done\n",
      "-----\n"
     ]
    }
   ],
   "source": [
    "for exp in mlflow_log_manager:\n",
    "    print(exp)\n",
    "    print(10*'=')\n",
    "    for trace in exp.trace_list:\n",
    "        print(trace.base_location)\n",
    "        info = trace.get_span_data()\n",
    "        #print(list(info.keys()))\n",
    "        for i in info['spans']:\n",
    "            #print(sorted(i['attributes'].keys()))\n",
    "            #print(i['attributes']['mlflow.spanType'])\n",
    "            print(i.get('name'))\n",
    "        print(5*'-')"
   ]
  },
  {
   "cell_type": "code",
   "execution_count": 80,
   "id": "fa26cb6d-df50-4392-bdaa-5d6b4297be6a",
   "metadata": {},
   "outputs": [],
   "source": [
    "#experiment_list"
   ]
  },
  {
   "cell_type": "code",
   "execution_count": 81,
   "id": "f3c0feb9-5afd-429f-9dab-db33f497f9a6",
   "metadata": {},
   "outputs": [
    {
     "data": {
      "text/plain": [
       "2"
      ]
     },
     "execution_count": 81,
     "metadata": {},
     "output_type": "execute_result"
    }
   ],
   "source": [
    "len(experiment_list)"
   ]
  },
  {
   "cell_type": "code",
   "execution_count": 82,
   "id": "cd094b30-6991-4afc-b0a5-59d183baa617",
   "metadata": {},
   "outputs": [
    {
     "name": "stdout",
     "output_type": "stream",
     "text": [
      "chatbot_debug_logs\n",
      "agent testing\n"
     ]
    }
   ],
   "source": [
    "for i in experiment_list:\n",
    "    print(i)"
   ]
  },
  {
   "cell_type": "code",
   "execution_count": 83,
   "id": "2bcac029-b0a8-41f9-b31f-f0e2777a6820",
   "metadata": {},
   "outputs": [],
   "source": [
    "import datetime"
   ]
  },
  {
   "cell_type": "code",
   "execution_count": 84,
   "id": "62dd7a3f-5d75-4c94-8c76-6f4105483d0b",
   "metadata": {},
   "outputs": [],
   "source": [
    "exp = experiment_list[1]"
   ]
  },
  {
   "cell_type": "code",
   "execution_count": 85,
   "id": "ebb417b4-1a0c-4ff9-92b1-9507d775c770",
   "metadata": {},
   "outputs": [
    {
     "data": {
      "text/plain": [
       "{'artifact_location': '/mnt/f/chatbot_ui_v2/mlflow_logs/815316816171043374',\n",
       " 'creation_time': 1751092595089,\n",
       " 'experiment_id': '815316816171043374',\n",
       " 'last_update_time': 1751092595089,\n",
       " 'lifecycle_stage': 'active',\n",
       " 'name': 'agent testing'}"
      ]
     },
     "execution_count": 85,
     "metadata": {},
     "output_type": "execute_result"
    }
   ],
   "source": [
    "exp.metadata"
   ]
  },
  {
   "cell_type": "code",
   "execution_count": 86,
   "id": "951b8d59-b15d-4621-a370-e72c3101fd33",
   "metadata": {},
   "outputs": [
    {
     "data": {
      "text/plain": [
       "['05b2cdf0c02049478b1b37399282d88c',\n",
       " '1eed59cbad4d48308680c48d5ec0e1aa',\n",
       " '378981db883d47b0877df0fe4b7903c0',\n",
       " '52c0ffea5bb148efb18513566d3554c4',\n",
       " '5fc1a238ed0443efab9dc12653f10075',\n",
       " '6eac28386a9d433283b1fd138a7f6f59',\n",
       " '7603e45cc04a44c7b8531b0ad623f4be',\n",
       " '7afd6f476b4a410e97e7598f5529bb5d',\n",
       " '7b4609ab15004115bba9320920b87e38',\n",
       " '808dc0fa50214ae89aebb9bc5ea69f52',\n",
       " 'a412f07738e049ec8ee5208549380bbc',\n",
       " 'b00bdbdac88d4a4f814c3b410f572b5a',\n",
       " 'b0bab827b3794d2a9a573cf8d3b58ad4',\n",
       " 'b16d050a00c545528f3a1895c3817a06',\n",
       " 'bde80301c45143119714869cdf543352',\n",
       " 'd9f2a9609f13414782e0bf6de4ae367d',\n",
       " 'da1705f1a66147199f81c460e2cfe939',\n",
       " 'db2b69d101b34825b168e6fc905f9763',\n",
       " 'dc93739ca3e044328461dc1fe054601a',\n",
       " 'e0f93cd1e0174f0ba57eb1fe18af6998',\n",
       " 'fe8877863c254926812aef905e0d972e']"
      ]
     },
     "execution_count": 86,
     "metadata": {},
     "output_type": "execute_result"
    }
   ],
   "source": [
    "exp.trace_list"
   ]
  },
  {
   "cell_type": "code",
   "execution_count": 75,
   "id": "de6431b1-fbb1-4470-8dc4-026a3b7db8db",
   "metadata": {},
   "outputs": [],
   "source": [
    "def get_trace_list(exp_loc):\n",
    "    trace_list = []\n",
    "    traces_folder = os.path.join(exp_loc, 'traces')\n",
    "    if os.path.exists(traces_folder):\n",
    "        trace_list = os.listdir(traces_folder)\n",
    "    return trace_list"
   ]
  },
  {
   "cell_type": "code",
   "execution_count": 76,
   "id": "2101b74b-c4be-443d-9f90-1d65bb79c7dd",
   "metadata": {},
   "outputs": [],
   "source": [
    "trace_list = get_trace_list(exp.metadata['artifact_location'])"
   ]
  },
  {
   "cell_type": "code",
   "execution_count": 77,
   "id": "2d6a6752-05e1-4849-97f8-ff54255534a6",
   "metadata": {},
   "outputs": [
    {
     "data": {
      "text/plain": [
       "['05b2cdf0c02049478b1b37399282d88c',\n",
       " '1eed59cbad4d48308680c48d5ec0e1aa',\n",
       " '378981db883d47b0877df0fe4b7903c0',\n",
       " '52c0ffea5bb148efb18513566d3554c4',\n",
       " '5fc1a238ed0443efab9dc12653f10075',\n",
       " '6eac28386a9d433283b1fd138a7f6f59',\n",
       " '7603e45cc04a44c7b8531b0ad623f4be',\n",
       " '7afd6f476b4a410e97e7598f5529bb5d',\n",
       " '7b4609ab15004115bba9320920b87e38',\n",
       " '808dc0fa50214ae89aebb9bc5ea69f52',\n",
       " 'a412f07738e049ec8ee5208549380bbc',\n",
       " 'b00bdbdac88d4a4f814c3b410f572b5a',\n",
       " 'b0bab827b3794d2a9a573cf8d3b58ad4',\n",
       " 'b16d050a00c545528f3a1895c3817a06',\n",
       " 'bde80301c45143119714869cdf543352',\n",
       " 'd9f2a9609f13414782e0bf6de4ae367d',\n",
       " 'da1705f1a66147199f81c460e2cfe939',\n",
       " 'db2b69d101b34825b168e6fc905f9763',\n",
       " 'dc93739ca3e044328461dc1fe054601a',\n",
       " 'e0f93cd1e0174f0ba57eb1fe18af6998',\n",
       " 'fe8877863c254926812aef905e0d972e']"
      ]
     },
     "execution_count": 77,
     "metadata": {},
     "output_type": "execute_result"
    }
   ],
   "source": [
    "trace_list"
   ]
  },
  {
   "cell_type": "code",
   "execution_count": 87,
   "id": "ed80adca-f86c-44ac-900e-190983a9fcb0",
   "metadata": {},
   "outputs": [],
   "source": [
    "def load_yaml(file_path: str) -> dict:\n",
    "    if not os.path.isfile(file_path):\n",
    "        raise FileNotFoundError(f\"{file_path} does not exist.\")\n",
    "    \n",
    "    with open(file_path, \"r\") as f:\n",
    "        data = yaml.safe_load(f)\n",
    "    \n",
    "    return data"
   ]
  },
  {
   "cell_type": "code",
   "execution_count": 108,
   "id": "274c4580-5ea9-4be0-96f6-526694a06261",
   "metadata": {},
   "outputs": [],
   "source": [
    "class Trace:\n",
    "    def __init__(self, base_location):\n",
    "        self.base_location = base_location\n",
    "        self.info = load_yaml(os.path.join(self.base_location, 'trace_info.yaml'))\n",
    "    def get_span_data(self):\n",
    "        span_file = os.path.join(base_location, 'artifacts', 'traces.json')\n",
    "        data = load_yaml(span_file)\n",
    "        return data"
   ]
  },
  {
   "cell_type": "code",
   "execution_count": 109,
   "id": "301f3c05-93a0-4e72-83b2-e4ce96fad514",
   "metadata": {},
   "outputs": [],
   "source": [
    "base_location = '/mnt/f/chatbot_ui_v2/mlflow_logs/815316816171043374/traces/1eed59cbad4d48308680c48d5ec0e1aa'"
   ]
  },
  {
   "cell_type": "code",
   "execution_count": 110,
   "id": "4c4ea453-6138-42fc-964a-569bf6d053f5",
   "metadata": {},
   "outputs": [],
   "source": [
    "trace = Trace(base_location)"
   ]
  },
  {
   "cell_type": "code",
   "execution_count": 111,
   "id": "0e3f07d1-68de-4aa7-a835-3370c8666643",
   "metadata": {},
   "outputs": [
    {
     "data": {
      "text/plain": [
       "{'assessments': [],\n",
       " 'execution_time_ms': 29841,\n",
       " 'experiment_id': '815316816171043374',\n",
       " 'request_id': '1eed59cbad4d48308680c48d5ec0e1aa',\n",
       " 'status': 'OK',\n",
       " 'timestamp_ms': 1751206432209}"
      ]
     },
     "execution_count": 111,
     "metadata": {},
     "output_type": "execute_result"
    }
   ],
   "source": [
    "trace.info"
   ]
  },
  {
   "cell_type": "code",
   "execution_count": 112,
   "id": "38d9fed8-6b1a-4904-a7e5-eb878344d041",
   "metadata": {},
   "outputs": [
    {
     "data": {
      "text/plain": [
       "{'spans': [{'trace_id': 'XLsilX+rGDPWGhmzSmvUxw==',\n",
       "   'span_id': 'urDWqmGwWNM=',\n",
       "   'trace_state': '',\n",
       "   'parent_span_id': '',\n",
       "   'name': 'Workflow.run',\n",
       "   'start_time_unix_nano': 1751206432254542264,\n",
       "   'end_time_unix_nano': 1751206462051142150,\n",
       "   'attributes': {'mlflow.spanType': '\"CHAIN\"',\n",
       "    'mlflow.spanInputs': '{\"ctx\": null, \"stepwise\": false, \"checkpoint_callback\": null, \"start_event\": {\"user_msg\": \"What government position was held by the woman who portrayed Corliss Archer in the film Kiss and Tell?\", \"chat_history\": null}}',\n",
       "    'mlflow.spanOutputs': '{\"response\": {\"role\": \"assistant\", \"additional_kwargs\": {\"tool_calls\": [], \"thinking\": \"Okay, let\\'s tackle this question step by step. The user is asking about the government position held by the woman who portrayed Corliss Archer in the film \\\\\"Kiss and Tell.\\\\\" \\\\n\\\\nFirst, I need to identify who the actress is. The film \\\\\"Kiss and Tell\\\\\" is a 2000 movie, and Corliss Archer is a character in it. I should find out which actress played that role. Once I have the actress\\'s name, the next step is to determine if she has held any government positions.\\\\n\\\\nI remember that the actress who played Corliss Archer is Laura Linney. But I\\'m not entirely sure, so maybe I should confirm that first. If that\\'s correct, then I need to check Laura Linney\\'s career to see if she has any government roles. However, Laura Linney is primarily known as an actress, so it\\'s possible she hasn\\'t held a government position. But maybe there\\'s a mistake here, or perhaps the user is referring to a different person. \\\\n\\\\nAlternatively, maybe the user is confused, and the film might have a different actress. Wait, \\\\\"Kiss and Tell\\\\\" stars Laura Linney as Corliss Archer. Let me verify that. Yes, Laura Linney is the actress in question. Now, checking her biography: Laura Linney has been an actress in theater, film, and television. She hasn\\'t held any government positions that I\\'m aware of. \\\\n\\\\nBut the user is asking specifically about a government position. Maybe there\\'s a mix-up here. Could there be another actress with the same name? Or perhaps the user is referring to a different film? Alternatively, maybe the question is a trick question, suggesting that the actress didn\\'t hold any government position. \\\\n\\\\nAlternatively, perhaps the user is thinking of another Corliss Archer from a different context. Wait, Corliss Archer is also a real person, a former U.S. Ambassador to the United Nations. But the film \\\\\"Kiss and Tell\\\\\" is a fictional story, so the character is likely not based on her. However, maybe the user is conflating the two. \\\\n\\\\nWait, the real Corliss Archer was a U.S. Ambassador, but the actress who played her in the film is Laura Linney. So the question is asking about the government position held by the actress, not the character. Since Laura Linney is an actress and not a politician, the answer would be that she hasn\\'t held any government positions. \\\\n\\\\nBut I need to be sure. Let me check Laura Linney\\'s Wikipedia page. It lists her career as an actress, no government roles. Therefore, the answer is that the woman (Laura Linney) did not hold any government position. However, the user might be confused, thinking that the character\\'s real-life counterpart had a government role, but the question specifically asks about the actress. \\\\n\\\\nAlternatively, maybe there\\'s a mistake in the question, and the user meant to ask about the real Corliss Archer, who was an Ambassador. But the question clearly states the woman who portrayed her in the film. Therefore, the answer is that Laura Linney, the actress, did not hold a government position. \\\\n\\\\nBut to make sure, I should confirm the actress\\'s name again. Yes, Laura Linney played Corliss Archer in \\\\\"Kiss and Tell.\\\\\" So the answer is that she didn\\'t hold any government position. However, the user might be expecting the answer related to the real Corliss Archer\\'s role, but the question is about the actress. Therefore, the correct answer is that the actress did not hold a government position.\\\\n\"}, \"blocks\": [{\"block_type\": \"text\", \"text\": \"** The actress (Laura Linney) did not hold a government position.\"}]}, \"tool_calls\": [], \"raw\": {\"model\": \"qwen3:14b\", \"created_at\": \"2025-06-29T14:14:22.044358866Z\", \"done\": true, \"done_reason\": \"stop\", \"total_duration\": 31311889749, \"load_duration\": 9536331, \"prompt_eval_count\": 532, \"prompt_eval_duration\": 199396919, \"eval_count\": 903, \"eval_duration\": 31099688153, \"message\": {\"role\": \"assistant\", \"content\": \"\", \"thinking\": null, \"images\": null, \"tool_calls\": null}, \"usage\": {\"prompt_tokens\": 532, \"completion_tokens\": 903, \"total_tokens\": 1435}}, \"current_agent_name\": \"Agent\"}',\n",
       "    'mlflow.traceRequestId': '\"1eed59cbad4d48308680c48d5ec0e1aa\"'},\n",
       "   'status': {'message': '', 'code': 'STATUS_CODE_OK'}},\n",
       "  {'trace_id': 'XLsilX+rGDPWGhmzSmvUxw==',\n",
       "   'span_id': '5THoDFZ0Q6E=',\n",
       "   'trace_state': '',\n",
       "   'parent_span_id': 'urDWqmGwWNM=',\n",
       "   'name': 'BaseWorkflowAgent.init_run',\n",
       "   'start_time_unix_nano': 1751206432256545865,\n",
       "   'end_time_unix_nano': 1751206432259608417,\n",
       "   'attributes': {'mlflow.traceRequestId': '\"1eed59cbad4d48308680c48d5ec0e1aa\"',\n",
       "    'mlflow.spanOutputs': '{\"input\": [{\"role\": \"user\", \"additional_kwargs\": {}, \"blocks\": [{\"block_type\": \"text\", \"text\": \"What government position was held by the woman who portrayed Corliss Archer in the film Kiss and Tell?\"}]}], \"current_agent_name\": \"Agent\"}',\n",
       "    'mlflow.spanInputs': '{\"ctx\": \"<workflows.context.context.Context object at 0x7fe48de75660>\", \"ev\": {\"user_msg\": \"What government position was held by the woman who portrayed Corliss Archer in the film Kiss and Tell?\", \"chat_history\": null}}',\n",
       "    'mlflow.spanType': '\"CHAIN\"'},\n",
       "   'status': {'message': '', 'code': 'STATUS_CODE_OK'}},\n",
       "  {'trace_id': 'XLsilX+rGDPWGhmzSmvUxw==',\n",
       "   'span_id': 'rj/KzoqG3K4=',\n",
       "   'trace_state': '',\n",
       "   'parent_span_id': 'urDWqmGwWNM=',\n",
       "   'name': 'BaseWorkflowAgent.setup_agent',\n",
       "   'start_time_unix_nano': 1751206432259939240,\n",
       "   'end_time_unix_nano': 1751206432262049538,\n",
       "   'attributes': {'mlflow.spanOutputs': '{\"input\": [{\"role\": \"user\", \"additional_kwargs\": {}, \"blocks\": [{\"block_type\": \"text\", \"text\": \"What government position was held by the woman who portrayed Corliss Archer in the film Kiss and Tell?\"}]}], \"current_agent_name\": \"Agent\"}',\n",
       "    'mlflow.traceRequestId': '\"1eed59cbad4d48308680c48d5ec0e1aa\"',\n",
       "    'mlflow.spanType': '\"CHAIN\"',\n",
       "    'mlflow.spanInputs': '{\"ctx\": \"<workflows.context.context.Context object at 0x7fe48de75660>\", \"ev\": {\"input\": [{\"role\": \"user\", \"additional_kwargs\": {}, \"blocks\": [{\"block_type\": \"text\", \"text\": \"What government position was held by the woman who portrayed Corliss Archer in the film Kiss and Tell?\"}]}], \"current_agent_name\": \"Agent\"}}'},\n",
       "   'status': {'message': '', 'code': 'STATUS_CODE_OK'}},\n",
       "  {'trace_id': 'XLsilX+rGDPWGhmzSmvUxw==',\n",
       "   'span_id': 'pjif6Wwkqfg=',\n",
       "   'trace_state': '',\n",
       "   'parent_span_id': 'urDWqmGwWNM=',\n",
       "   'name': 'BaseWorkflowAgent.run_agent_step',\n",
       "   'start_time_unix_nano': 1751206432262322832,\n",
       "   'end_time_unix_nano': 1751206462047077548,\n",
       "   'attributes': {'mlflow.spanOutputs': '{\"response\": {\"role\": \"assistant\", \"additional_kwargs\": {\"tool_calls\": [], \"thinking\": \"Okay, let\\'s tackle this question step by step. The user is asking about the government position held by the woman who portrayed Corliss Archer in the film \\\\\"Kiss and Tell.\\\\\" \\\\n\\\\nFirst, I need to identify who the actress is. The film \\\\\"Kiss and Tell\\\\\" is a 2000 movie, and Corliss Archer is a character in it. I should find out which actress played that role. Once I have the actress\\'s name, the next step is to determine if she has held any government positions.\\\\n\\\\nI remember that the actress who played Corliss Archer is Laura Linney. But I\\'m not entirely sure, so maybe I should confirm that first. If that\\'s correct, then I need to check Laura Linney\\'s career to see if she has any government roles. However, Laura Linney is primarily known as an actress, so it\\'s possible she hasn\\'t held a government position. But maybe there\\'s a mistake here, or perhaps the user is referring to a different person. \\\\n\\\\nAlternatively, maybe the user is confused, and the film might have a different actress. Wait, \\\\\"Kiss and Tell\\\\\" stars Laura Linney as Corliss Archer. Let me verify that. Yes, Laura Linney is the actress in question. Now, checking her biography: Laura Linney has been an actress in theater, film, and television. She hasn\\'t held any government positions that I\\'m aware of. \\\\n\\\\nBut the user is asking specifically about a government position. Maybe there\\'s a mix-up here. Could there be another actress with the same name? Or perhaps the user is referring to a different film? Alternatively, maybe the question is a trick question, suggesting that the actress didn\\'t hold any government position. \\\\n\\\\nAlternatively, perhaps the user is thinking of another Corliss Archer from a different context. Wait, Corliss Archer is also a real person, a former U.S. Ambassador to the United Nations. But the film \\\\\"Kiss and Tell\\\\\" is a fictional story, so the character is likely not based on her. However, maybe the user is conflating the two. \\\\n\\\\nWait, the real Corliss Archer was a U.S. Ambassador, but the actress who played her in the film is Laura Linney. So the question is asking about the government position held by the actress, not the character. Since Laura Linney is an actress and not a politician, the answer would be that she hasn\\'t held any government positions. \\\\n\\\\nBut I need to be sure. Let me check Laura Linney\\'s Wikipedia page. It lists her career as an actress, no government roles. Therefore, the answer is that the woman (Laura Linney) did not hold any government position. However, the user might be confused, thinking that the character\\'s real-life counterpart had a government role, but the question specifically asks about the actress. \\\\n\\\\nAlternatively, maybe there\\'s a mistake in the question, and the user meant to ask about the real Corliss Archer, who was an Ambassador. But the question clearly states the woman who portrayed her in the film. Therefore, the answer is that Laura Linney, the actress, did not hold a government position. \\\\n\\\\nBut to make sure, I should confirm the actress\\'s name again. Yes, Laura Linney played Corliss Archer in \\\\\"Kiss and Tell.\\\\\" So the answer is that she didn\\'t hold any government position. However, the user might be expecting the answer related to the real Corliss Archer\\'s role, but the question is about the actress. Therefore, the correct answer is that the actress did not hold a government position.\\\\n\"}, \"blocks\": [{\"block_type\": \"text\", \"text\": \"The woman who portrayed Corliss Archer in the film *Kiss and Tell* (2000) is **Laura Linney**. Laura Linney is an acclaimed actress known for her work in theater, film, and television (e.g., *The Big C*, *The Hobbit*). However, **she has not held any government position**. \\\\n\\\\nThe real-life Corliss Archer, after whom the character may be loosely inspired, was a U.S. diplomat who served as **U.S. Ambassador to the United Nations** (1993–1997). However, this refers to the person, not the actress portraying her in the film. \\\\n\\\\n**Answer:** The actress (Laura Linney) did not hold a government position.\"}]}, \"tool_calls\": [], \"raw\": {\"model\": \"qwen3:14b\", \"created_at\": \"2025-06-29T14:14:22.044358866Z\", \"done\": true, \"done_reason\": \"stop\", \"total_duration\": 31311889749, \"load_duration\": 9536331, \"prompt_eval_count\": 532, \"prompt_eval_duration\": 199396919, \"eval_count\": 903, \"eval_duration\": 31099688153, \"message\": {\"role\": \"assistant\", \"content\": \"\", \"thinking\": null, \"images\": null, \"tool_calls\": null}, \"usage\": {\"prompt_tokens\": 532, \"completion_tokens\": 903, \"total_tokens\": 1435}}, \"current_agent_name\": \"Agent\"}',\n",
       "    'mlflow.traceRequestId': '\"1eed59cbad4d48308680c48d5ec0e1aa\"',\n",
       "    'mlflow.spanType': '\"CHAIN\"',\n",
       "    'mlflow.spanInputs': '{\"ctx\": \"<workflows.context.context.Context object at 0x7fe48de75660>\", \"ev\": {\"input\": [{\"role\": \"user\", \"additional_kwargs\": {}, \"blocks\": [{\"block_type\": \"text\", \"text\": \"What government position was held by the woman who portrayed Corliss Archer in the film Kiss and Tell?\"}]}], \"current_agent_name\": \"Agent\"}}'},\n",
       "   'status': {'message': '', 'code': 'STATUS_CODE_OK'}},\n",
       "  {'trace_id': 'XLsilX+rGDPWGhmzSmvUxw==',\n",
       "   'span_id': 'uzPVkKyjz7Y=',\n",
       "   'trace_state': '',\n",
       "   'parent_span_id': 'pjif6Wwkqfg=',\n",
       "   'name': 'Ollama.astream_chat',\n",
       "   'start_time_unix_nano': 1751206432263992958,\n",
       "   'end_time_unix_nano': 1751206432265642420,\n",
       "   'attributes': {'mlflow.traceRequestId': '\"1eed59cbad4d48308680c48d5ec0e1aa\"',\n",
       "    'model_dict': '{\"system_prompt\": null, \"pydantic_program_mode\": \"default\", \"base_url\": \"http://localhost:11434\", \"model\": \"qwen3:14b\", \"temperature\": null, \"context_window\": 1000, \"request_timeout\": 120.0, \"prompt_key\": \"prompt\", \"json_mode\": false, \"additional_kwargs\": {}, \"is_function_calling_model\": true, \"keep_alive\": null, \"thinking\": true, \"class_name\": \"Ollama_llm\"}',\n",
       "    'invocation_params': '{\"context_window\": 1000, \"num_output\": 256, \"is_chat_model\": true, \"is_function_calling_model\": true, \"model_name\": \"qwen3:14b\"}',\n",
       "    'mlflow.spanOutputs': '\"<async_generator object llm_chat_callback.<locals>.wrap.<locals>.wrapped_async_llm_chat.<locals>.wrapped_gen at 0x7fe48def3940>\"',\n",
       "    'mlflow.spanInputs': '{\"messages\": [{\"role\": \"system\", \"additional_kwargs\": {}, \"blocks\": [{\"block_type\": \"text\", \"text\": \"You are designed to help with a variety of tasks, from answering questions to providing summaries to other types of analyses.\\\\n\\\\n## Tools\\\\n\\\\nYou have access to a wide variety of tools. You are responsible for using the tools in any sequence you deem appropriate to complete the task at hand.\\\\nThis may require breaking the task into subtasks and using different tools to complete each subtask.\\\\n\\\\nYou have access to the following tools:\\\\n> Tool Name: vector_database_search\\\\nTool Description: This tool allows search to vector database\\\\nTool Args: {\\\\\"properties\\\\\": {\\\\\"input\\\\\": {\\\\\"title\\\\\": \\\\\"Input\\\\\", \\\\\"type\\\\\": \\\\\"string\\\\\"}}, \\\\\"required\\\\\": [\\\\\"input\\\\\"], \\\\\"type\\\\\": \\\\\"object\\\\\"}\\\\n\\\\n\\\\n\\\\n## Output Format\\\\n\\\\nPlease answer in the same language as the question and use the following format:\\\\n\\\\n```\\\\nThought: The current language of the user is: (user\\'s language). I need to use a tool to help me answer the question.\\\\nAction: tool name (one of vector_database_search) if using a tool.\\\\nAction Input: the input to the tool, in a JSON format representing the kwargs (e.g. {\\\\\"input\\\\\": \\\\\"hello world\\\\\", \\\\\"num_beams\\\\\": 5})\\\\n```\\\\n\\\\nPlease ALWAYS start with a Thought.\\\\n\\\\nNEVER surround your response with markdown code markers. You may use code markers within your response if you need to.\\\\n\\\\nPlease use a valid JSON format for the Action Input. Do NOT do this {\\'input\\': \\'hello world\\', \\'num_beams\\': 5}. If you include the \\\\\"Action:\\\\\" line, then you MUST include the \\\\\"Action Input:\\\\\" line too, even if the tool does not need kwargs, in that case you MUST use \\\\\"Action Input: {}\\\\\".\\\\n\\\\nIf this format is used, the tool will respond in the following format:\\\\n\\\\n```\\\\nObservation: tool response\\\\n```\\\\n\\\\nYou should keep repeating the above format till you have enough information to answer the question without using any more tools. At that point, you MUST respond in one of the following two formats:\\\\n\\\\n```\\\\nThought: I can answer without using any more tools. I\\'ll use the user\\'s language to answer\\\\nAnswer: [your answer here (In the same language as the user\\'s question)]\\\\n```\\\\n\\\\n```\\\\nThought: I cannot answer the question with the provided tools.\\\\nAnswer: [your answer here (In the same language as the user\\'s question)]\\\\n```\\\\n\\\\n## Current Conversation\\\\n\\\\nBelow is the current conversation consisting of interleaving human and assistant messages.\\\\n\"}]}, {\"role\": \"user\", \"additional_kwargs\": {}, \"blocks\": [{\"block_type\": \"text\", \"text\": \"What government position was held by the woman who portrayed Corliss Archer in the film Kiss and Tell?\"}]}]}',\n",
       "    'mlflow.spanType': '\"CHAT_MODEL\"',\n",
       "    'model_name': '\"qwen3:14b\"',\n",
       "    'mlflow.chat.messages': '[{\"role\": \"system\", \"content\": \"You are designed to help with a variety of tasks, from answering questions to providing summaries to other types of analyses.\\\\n\\\\n## Tools\\\\n\\\\nYou have access to a wide variety of tools. You are responsible for using the tools in any sequence you deem appropriate to complete the task at hand.\\\\nThis may require breaking the task into subtasks and using different tools to complete each subtask.\\\\n\\\\nYou have access to the following tools:\\\\n> Tool Name: vector_database_search\\\\nTool Description: This tool allows search to vector database\\\\nTool Args: {\\\\\"properties\\\\\": {\\\\\"input\\\\\": {\\\\\"title\\\\\": \\\\\"Input\\\\\", \\\\\"type\\\\\": \\\\\"string\\\\\"}}, \\\\\"required\\\\\": [\\\\\"input\\\\\"], \\\\\"type\\\\\": \\\\\"object\\\\\"}\\\\n\\\\n\\\\n\\\\n## Output Format\\\\n\\\\nPlease answer in the same language as the question and use the following format:\\\\n\\\\n```\\\\nThought: The current language of the user is: (user\\'s language). I need to use a tool to help me answer the question.\\\\nAction: tool name (one of vector_database_search) if using a tool.\\\\nAction Input: the input to the tool, in a JSON format representing the kwargs (e.g. {\\\\\"input\\\\\": \\\\\"hello world\\\\\", \\\\\"num_beams\\\\\": 5})\\\\n```\\\\n\\\\nPlease ALWAYS start with a Thought.\\\\n\\\\nNEVER surround your response with markdown code markers. You may use code markers within your response if you need to.\\\\n\\\\nPlease use a valid JSON format for the Action Input. Do NOT do this {\\'input\\': \\'hello world\\', \\'num_beams\\': 5}. If you include the \\\\\"Action:\\\\\" line, then you MUST include the \\\\\"Action Input:\\\\\" line too, even if the tool does not need kwargs, in that case you MUST use \\\\\"Action Input: {}\\\\\".\\\\n\\\\nIf this format is used, the tool will respond in the following format:\\\\n\\\\n```\\\\nObservation: tool response\\\\n```\\\\n\\\\nYou should keep repeating the above format till you have enough information to answer the question without using any more tools. At that point, you MUST respond in one of the following two formats:\\\\n\\\\n```\\\\nThought: I can answer without using any more tools. I\\'ll use the user\\'s language to answer\\\\nAnswer: [your answer here (In the same language as the user\\'s question)]\\\\n```\\\\n\\\\n```\\\\nThought: I cannot answer the question with the provided tools.\\\\nAnswer: [your answer here (In the same language as the user\\'s question)]\\\\n```\\\\n\\\\n## Current Conversation\\\\n\\\\nBelow is the current conversation consisting of interleaving human and assistant messages.\\\\n\"}, {\"role\": \"user\", \"content\": \"What government position was held by the woman who portrayed Corliss Archer in the film Kiss and Tell?\"}]'},\n",
       "   'status': {'message': '', 'code': 'STATUS_CODE_OK'}},\n",
       "  {'trace_id': 'XLsilX+rGDPWGhmzSmvUxw==',\n",
       "   'span_id': 'n3cHpYtX8qk=',\n",
       "   'trace_state': '',\n",
       "   'parent_span_id': 'pjif6Wwkqfg=',\n",
       "   'name': 'ReActOutputParser.parse',\n",
       "   'start_time_unix_nano': 1751206462045254500,\n",
       "   'end_time_unix_nano': 1751206462046213871,\n",
       "   'attributes': {'mlflow.spanInputs': '{\"output\": \"The woman who portrayed Corliss Archer in the film *Kiss and Tell* (2000) is **Laura Linney**. Laura Linney is an acclaimed actress known for her work in theater, film, and television (e.g., *The Big C*, *The Hobbit*). However, **she has not held any government position**. \\\\n\\\\nThe real-life Corliss Archer, after whom the character may be loosely inspired, was a U.S. diplomat who served as **U.S. Ambassador to the United Nations** (1993–1997). However, this refers to the person, not the actress portraying her in the film. \\\\n\\\\n**Answer:** The actress (Laura Linney) did not hold a government position.\", \"is_streaming\": false}',\n",
       "    'mlflow.spanType': '\"CHAIN\"',\n",
       "    'mlflow.spanOutputs': '{\"thought\": \"(Implicit) I can answer without any more tools!\", \"response\": \"The woman who portrayed Corliss Archer in the film *Kiss and Tell* (2000) is **Laura Linney**. Laura Linney is an acclaimed actress known for her work in theater, film, and television (e.g., *The Big C*, *The Hobbit*). However, **she has not held any government position**. \\\\n\\\\nThe real-life Corliss Archer, after whom the character may be loosely inspired, was a U.S. diplomat who served as **U.S. Ambassador to the United Nations** (1993–1997). However, this refers to the person, not the actress portraying her in the film. \\\\n\\\\n**Answer:** The actress (Laura Linney) did not hold a government position.\", \"is_streaming\": false}',\n",
       "    'mlflow.traceRequestId': '\"1eed59cbad4d48308680c48d5ec0e1aa\"'},\n",
       "   'status': {'message': '', 'code': 'STATUS_CODE_OK'}},\n",
       "  {'trace_id': 'XLsilX+rGDPWGhmzSmvUxw==',\n",
       "   'span_id': 'SvdUqap9fdM=',\n",
       "   'trace_state': '',\n",
       "   'parent_span_id': 'urDWqmGwWNM=',\n",
       "   'name': 'BaseWorkflowAgent.parse_agent_output',\n",
       "   'start_time_unix_nano': 1751206462047347547,\n",
       "   'end_time_unix_nano': 1751206462048982168,\n",
       "   'attributes': {'mlflow.spanInputs': '{\"ctx\": \"<workflows.context.context.Context object at 0x7fe48de75660>\", \"ev\": {\"response\": {\"role\": \"assistant\", \"additional_kwargs\": {\"tool_calls\": [], \"thinking\": \"Okay, let\\'s tackle this question step by step. The user is asking about the government position held by the woman who portrayed Corliss Archer in the film \\\\\"Kiss and Tell.\\\\\" \\\\n\\\\nFirst, I need to identify who the actress is. The film \\\\\"Kiss and Tell\\\\\" is a 2000 movie, and Corliss Archer is a character in it. I should find out which actress played that role. Once I have the actress\\'s name, the next step is to determine if she has held any government positions.\\\\n\\\\nI remember that the actress who played Corliss Archer is Laura Linney. But I\\'m not entirely sure, so maybe I should confirm that first. If that\\'s correct, then I need to check Laura Linney\\'s career to see if she has any government roles. However, Laura Linney is primarily known as an actress, so it\\'s possible she hasn\\'t held a government position. But maybe there\\'s a mistake here, or perhaps the user is referring to a different person. \\\\n\\\\nAlternatively, maybe the user is confused, and the film might have a different actress. Wait, \\\\\"Kiss and Tell\\\\\" stars Laura Linney as Corliss Archer. Let me verify that. Yes, Laura Linney is the actress in question. Now, checking her biography: Laura Linney has been an actress in theater, film, and television. She hasn\\'t held any government positions that I\\'m aware of. \\\\n\\\\nBut the user is asking specifically about a government position. Maybe there\\'s a mix-up here. Could there be another actress with the same name? Or perhaps the user is referring to a different film? Alternatively, maybe the question is a trick question, suggesting that the actress didn\\'t hold any government position. \\\\n\\\\nAlternatively, perhaps the user is thinking of another Corliss Archer from a different context. Wait, Corliss Archer is also a real person, a former U.S. Ambassador to the United Nations. But the film \\\\\"Kiss and Tell\\\\\" is a fictional story, so the character is likely not based on her. However, maybe the user is conflating the two. \\\\n\\\\nWait, the real Corliss Archer was a U.S. Ambassador, but the actress who played her in the film is Laura Linney. So the question is asking about the government position held by the actress, not the character. Since Laura Linney is an actress and not a politician, the answer would be that she hasn\\'t held any government positions. \\\\n\\\\nBut I need to be sure. Let me check Laura Linney\\'s Wikipedia page. It lists her career as an actress, no government roles. Therefore, the answer is that the woman (Laura Linney) did not hold any government position. However, the user might be confused, thinking that the character\\'s real-life counterpart had a government role, but the question specifically asks about the actress. \\\\n\\\\nAlternatively, maybe there\\'s a mistake in the question, and the user meant to ask about the real Corliss Archer, who was an Ambassador. But the question clearly states the woman who portrayed her in the film. Therefore, the answer is that Laura Linney, the actress, did not hold a government position. \\\\n\\\\nBut to make sure, I should confirm the actress\\'s name again. Yes, Laura Linney played Corliss Archer in \\\\\"Kiss and Tell.\\\\\" So the answer is that she didn\\'t hold any government position. However, the user might be expecting the answer related to the real Corliss Archer\\'s role, but the question is about the actress. Therefore, the correct answer is that the actress did not hold a government position.\\\\n\"}, \"blocks\": [{\"block_type\": \"text\", \"text\": \"The woman who portrayed Corliss Archer in the film *Kiss and Tell* (2000) is **Laura Linney**. Laura Linney is an acclaimed actress known for her work in theater, film, and television (e.g., *The Big C*, *The Hobbit*). However, **she has not held any government position**. \\\\n\\\\nThe real-life Corliss Archer, after whom the character may be loosely inspired, was a U.S. diplomat who served as **U.S. Ambassador to the United Nations** (1993–1997). However, this refers to the person, not the actress portraying her in the film. \\\\n\\\\n**Answer:** The actress (Laura Linney) did not hold a government position.\"}]}, \"tool_calls\": [], \"raw\": {\"model\": \"qwen3:14b\", \"created_at\": \"2025-06-29T14:14:22.044358866Z\", \"done\": true, \"done_reason\": \"stop\", \"total_duration\": 31311889749, \"load_duration\": 9536331, \"prompt_eval_count\": 532, \"prompt_eval_duration\": 199396919, \"eval_count\": 903, \"eval_duration\": 31099688153, \"message\": {\"role\": \"assistant\", \"content\": \"\", \"thinking\": null, \"images\": null, \"tool_calls\": null}, \"usage\": {\"prompt_tokens\": 532, \"completion_tokens\": 903, \"total_tokens\": 1435}}, \"current_agent_name\": \"Agent\"}}',\n",
       "    'mlflow.spanType': '\"CHAIN\"',\n",
       "    'mlflow.traceRequestId': '\"1eed59cbad4d48308680c48d5ec0e1aa\"',\n",
       "    'mlflow.spanOutputs': '{}'},\n",
       "   'status': {'message': '', 'code': 'STATUS_CODE_OK'}},\n",
       "  {'trace_id': 'XLsilX+rGDPWGhmzSmvUxw==',\n",
       "   'span_id': 'N0Q1PXumDW4=',\n",
       "   'trace_state': '',\n",
       "   'parent_span_id': 'urDWqmGwWNM=',\n",
       "   'name': 'Workflow._done',\n",
       "   'start_time_unix_nano': 1751206462049196758,\n",
       "   'end_time_unix_nano': 1751206462050482106,\n",
       "   'attributes': {'mlflow.spanType': '\"CHAIN\"',\n",
       "    'mlflow.traceRequestId': '\"1eed59cbad4d48308680c48d5ec0e1aa\"',\n",
       "    'mlflow.spanInputs': '{\"ctx\": \"<workflows.context.context.Context object at 0x7fe48de75660>\", \"ev\": {}}'},\n",
       "   'status': {'message': '', 'code': 'STATUS_CODE_OK'}}]}"
      ]
     },
     "execution_count": 112,
     "metadata": {},
     "output_type": "execute_result"
    }
   ],
   "source": [
    "trace.get_span_data()"
   ]
  },
  {
   "cell_type": "code",
   "execution_count": 95,
   "id": "8becdad7-fe13-403a-bce0-62bc5b6ffaa9",
   "metadata": {},
   "outputs": [],
   "source": [
    "full_traceback_file = os.path.join(base_location, 'artifacts', 'traces.json')\n",
    "\n",
    "data = load_yaml(full_traceback_file)"
   ]
  },
  {
   "cell_type": "code",
   "execution_count": 97,
   "id": "80f00df1-bd72-4ed5-9615-6fea464c3548",
   "metadata": {},
   "outputs": [
    {
     "data": {
      "text/plain": [
       "dict_keys(['spans'])"
      ]
     },
     "execution_count": 97,
     "metadata": {},
     "output_type": "execute_result"
    }
   ],
   "source": [
    "data.keys()"
   ]
  },
  {
   "cell_type": "code",
   "execution_count": 133,
   "id": "dee34fa3-26b6-4118-86d0-4c846e2b9553",
   "metadata": {},
   "outputs": [
    {
     "data": {
      "text/plain": [
       "'/mnt/f/chatbot_ui_v2/notebooks'"
      ]
     },
     "execution_count": 133,
     "metadata": {},
     "output_type": "execute_result"
    }
   ],
   "source": [
    "pwd"
   ]
  },
  {
   "cell_type": "code",
   "execution_count": 134,
   "id": "9bfbad2a-ba18-4d75-ac60-09f797977897",
   "metadata": {},
   "outputs": [],
   "source": [
    "import mlflow\n",
    "mlflow.set_tracking_uri(mlflow_logs)\n",
    "experiment_name = \"agent testing\"\n",
    "experiment = mlflow.get_experiment_by_name(experiment_name)"
   ]
  },
  {
   "cell_type": "code",
   "execution_count": 135,
   "id": "a83ff72d-bb8d-4016-8b34-932800a39570",
   "metadata": {},
   "outputs": [
    {
     "data": {
      "text/plain": [
       "<Experiment: artifact_location='/mnt/f/chatbot_ui_v2/mlflow_logs/815316816171043374', creation_time=1751092595089, experiment_id='815316816171043374', last_update_time=1751092595089, lifecycle_stage='active', name='agent testing', tags={}>"
      ]
     },
     "execution_count": 135,
     "metadata": {},
     "output_type": "execute_result"
    }
   ],
   "source": [
    "experiment"
   ]
  },
  {
   "cell_type": "code",
   "execution_count": 137,
   "id": "57bc7162-3509-4f47-90ba-c82724af2a28",
   "metadata": {},
   "outputs": [],
   "source": [
    "if experiment:\n",
    "    experiment_id = experiment.experiment_id\n",
    "    runs_df = mlflow.search_runs(experiment_ids=[experiment_id], order_by=[\"start_time DESC\"])"
   ]
  },
  {
   "cell_type": "code",
   "execution_count": 138,
   "id": "1733c1b3-aa53-43f5-aa96-d535502fd094",
   "metadata": {},
   "outputs": [
    {
     "data": {
      "text/html": [
       "<div>\n",
       "<style scoped>\n",
       "    .dataframe tbody tr th:only-of-type {\n",
       "        vertical-align: middle;\n",
       "    }\n",
       "\n",
       "    .dataframe tbody tr th {\n",
       "        vertical-align: top;\n",
       "    }\n",
       "\n",
       "    .dataframe thead th {\n",
       "        text-align: right;\n",
       "    }\n",
       "</style>\n",
       "<table border=\"1\" class=\"dataframe\">\n",
       "  <thead>\n",
       "    <tr style=\"text-align: right;\">\n",
       "      <th></th>\n",
       "      <th>run_id</th>\n",
       "      <th>experiment_id</th>\n",
       "      <th>status</th>\n",
       "      <th>artifact_uri</th>\n",
       "      <th>start_time</th>\n",
       "      <th>end_time</th>\n",
       "    </tr>\n",
       "  </thead>\n",
       "  <tbody>\n",
       "  </tbody>\n",
       "</table>\n",
       "</div>"
      ],
      "text/plain": [
       "Empty DataFrame\n",
       "Columns: [run_id, experiment_id, status, artifact_uri, start_time, end_time]\n",
       "Index: []"
      ]
     },
     "execution_count": 138,
     "metadata": {},
     "output_type": "execute_result"
    }
   ],
   "source": [
    "runs_df"
   ]
  },
  {
   "cell_type": "code",
   "execution_count": 136,
   "id": "c3f199d5-bfd5-469f-a09c-735facd733fb",
   "metadata": {},
   "outputs": [],
   "source": [
    "if experiment:\n",
    "    experiment_id = experiment.experiment_id\n",
    "    runs_df = mlflow.search_runs(experiment_ids=[experiment_id], order_by=[\"start_time DESC\"])\n",
    "\n",
    "    if not runs_df.empty:\n",
    "        latest_run_id = runs_df.iloc[0][\"run_id\"]\n",
    "        print(f\"Latest Run ID: {latest_run_id}\")"
   ]
  }
 ],
 "metadata": {
  "kernelspec": {
   "display_name": "Python 3 (ipykernel)",
   "language": "python",
   "name": "python3"
  },
  "language_info": {
   "codemirror_mode": {
    "name": "ipython",
    "version": 3
   },
   "file_extension": ".py",
   "mimetype": "text/x-python",
   "name": "python",
   "nbconvert_exporter": "python",
   "pygments_lexer": "ipython3",
   "version": "3.10.12"
  }
 },
 "nbformat": 4,
 "nbformat_minor": 5
}
